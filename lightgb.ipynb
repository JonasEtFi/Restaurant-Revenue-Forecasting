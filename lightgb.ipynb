{
 "cells": [
  {
   "cell_type": "code",
   "execution_count": 1,
   "metadata": {},
   "outputs": [],
   "source": [
    "import git\n",
    "import os\n",
    "\n",
    "repo = git.Repo('.', search_parent_directories=True)\n",
    "os.chdir(str(repo.working_tree_dir) + '/src')"
   ]
  },
  {
   "cell_type": "markdown",
   "metadata": {},
   "source": [
    "**Data Preperation and Visualisation**"
   ]
  },
  {
   "cell_type": "code",
   "execution_count": 2,
   "metadata": {},
   "outputs": [],
   "source": [
    "import numpy as np\n",
    "import matplotlib.pyplot as plt\n",
    "from demos import prepare_data, plot_data, plot_revenue_per_weekday, plot_avg_revenue_per_weekday, create_test_and_train_set, plot_revenue\n",
    "\n",
    "%matplotlib inline\n",
    "%load_ext autoreload\n",
    "%autoreload 2\n",
    "\n",
    "np.set_printoptions(precision=2)"
   ]
  },
  {
   "cell_type": "code",
   "execution_count": 3,
   "metadata": {},
   "outputs": [
    {
     "name": "stderr",
     "output_type": "stream",
     "text": [
      "/Users/jonasfischer/Library/CloudStorage/OneDrive-Persönlich/Projekte/Restaurant-Revenue-Forecasting/src/demos.py:170: FutureWarning: ChainedAssignmentError: behaviour will change in pandas 3.0!\n",
      "You are setting values through chained assignment. Currently this works in certain cases, but when using Copy-on-Write (which will become the default behaviour in pandas 3.0) this will never work to update the original DataFrame or Series, because the intermediate object on which we are setting values will behave as a copy.\n",
      "A typical example is when you are setting values in a column of a DataFrame, like:\n",
      "\n",
      "df[\"col\"][row_indexer] = value\n",
      "\n",
      "Use `df.loc[row_indexer, \"col\"] = values` instead, to perform the assignment in a single step and ensure this keeps updating the original `df`.\n",
      "\n",
      "See the caveats in the documentation: https://pandas.pydata.org/pandas-docs/stable/user_guide/indexing.html#returning-a-view-versus-a-copy\n",
      "\n",
      "  df.yesterday_revenue.iloc[0] = df.revenue.iloc[0]\n",
      "/Users/jonasfischer/Library/CloudStorage/OneDrive-Persönlich/Projekte/Restaurant-Revenue-Forecasting/src/demos.py:170: SettingWithCopyWarning: \n",
      "A value is trying to be set on a copy of a slice from a DataFrame\n",
      "\n",
      "See the caveats in the documentation: https://pandas.pydata.org/pandas-docs/stable/user_guide/indexing.html#returning-a-view-versus-a-copy\n",
      "  df.yesterday_revenue.iloc[0] = df.revenue.iloc[0]\n"
     ]
    }
   ],
   "source": [
    "wheater_path = repo.working_tree_dir + '/data/wheater_data.csv' \n",
    "revenue_path = repo.working_tree_dir + '/data/revenue_data.csv' \n",
    "df = prepare_data(wheater_path, revenue_path)\n",
    "train_df, test_df = create_test_and_train_set(df)"
   ]
  },
  {
   "cell_type": "code",
   "execution_count": 4,
   "metadata": {},
   "outputs": [
    {
     "data": {
      "text/html": [
       "<div>\n",
       "<style scoped>\n",
       "    .dataframe tbody tr th:only-of-type {\n",
       "        vertical-align: middle;\n",
       "    }\n",
       "\n",
       "    .dataframe tbody tr th {\n",
       "        vertical-align: top;\n",
       "    }\n",
       "\n",
       "    .dataframe thead th {\n",
       "        text-align: right;\n",
       "    }\n",
       "</style>\n",
       "<table border=\"1\" class=\"dataframe\">\n",
       "  <thead>\n",
       "    <tr style=\"text-align: right;\">\n",
       "      <th></th>\n",
       "      <th>tavg</th>\n",
       "      <th>tmin</th>\n",
       "      <th>tmax</th>\n",
       "      <th>prcp</th>\n",
       "      <th>wdir</th>\n",
       "      <th>wspd</th>\n",
       "      <th>pres</th>\n",
       "      <th>national_holiday</th>\n",
       "      <th>holiday</th>\n",
       "      <th>revenue</th>\n",
       "      <th>...</th>\n",
       "      <th>holiday_all_germany</th>\n",
       "      <th>national_and_holiday</th>\n",
       "      <th>DOW</th>\n",
       "      <th>yesterday_revenue</th>\n",
       "      <th>three_day_revenue</th>\n",
       "      <th>week_revenue</th>\n",
       "      <th>bridge_day</th>\n",
       "      <th>day</th>\n",
       "      <th>month</th>\n",
       "      <th>year</th>\n",
       "    </tr>\n",
       "    <tr>\n",
       "      <th>date</th>\n",
       "      <th></th>\n",
       "      <th></th>\n",
       "      <th></th>\n",
       "      <th></th>\n",
       "      <th></th>\n",
       "      <th></th>\n",
       "      <th></th>\n",
       "      <th></th>\n",
       "      <th></th>\n",
       "      <th></th>\n",
       "      <th></th>\n",
       "      <th></th>\n",
       "      <th></th>\n",
       "      <th></th>\n",
       "      <th></th>\n",
       "      <th></th>\n",
       "      <th></th>\n",
       "      <th></th>\n",
       "      <th></th>\n",
       "      <th></th>\n",
       "      <th></th>\n",
       "    </tr>\n",
       "  </thead>\n",
       "  <tbody>\n",
       "    <tr>\n",
       "      <th>2023-10-02</th>\n",
       "      <td>18.1</td>\n",
       "      <td>12.7</td>\n",
       "      <td>25.3</td>\n",
       "      <td>0.0</td>\n",
       "      <td>120</td>\n",
       "      <td>7.6</td>\n",
       "      <td>1022.0</td>\n",
       "      <td>0</td>\n",
       "      <td>0</td>\n",
       "      <td>4848</td>\n",
       "      <td>...</td>\n",
       "      <td>0</td>\n",
       "      <td>0</td>\n",
       "      <td>0</td>\n",
       "      <td>5185.0</td>\n",
       "      <td>4018.000000</td>\n",
       "      <td>2742.142857</td>\n",
       "      <td>1</td>\n",
       "      <td>2</td>\n",
       "      <td>10</td>\n",
       "      <td>2023</td>\n",
       "    </tr>\n",
       "    <tr>\n",
       "      <th>2022-06-17</th>\n",
       "      <td>22.0</td>\n",
       "      <td>14.2</td>\n",
       "      <td>28.5</td>\n",
       "      <td>0.0</td>\n",
       "      <td>116</td>\n",
       "      <td>5.7</td>\n",
       "      <td>1023.6</td>\n",
       "      <td>0</td>\n",
       "      <td>1</td>\n",
       "      <td>3471</td>\n",
       "      <td>...</td>\n",
       "      <td>0</td>\n",
       "      <td>0</td>\n",
       "      <td>4</td>\n",
       "      <td>4278.0</td>\n",
       "      <td>2326.000000</td>\n",
       "      <td>2628.285714</td>\n",
       "      <td>1</td>\n",
       "      <td>17</td>\n",
       "      <td>6</td>\n",
       "      <td>2022</td>\n",
       "    </tr>\n",
       "    <tr>\n",
       "      <th>2022-10-31</th>\n",
       "      <td>14.4</td>\n",
       "      <td>11.1</td>\n",
       "      <td>19.4</td>\n",
       "      <td>0.0</td>\n",
       "      <td>96</td>\n",
       "      <td>4.5</td>\n",
       "      <td>1019.0</td>\n",
       "      <td>1</td>\n",
       "      <td>1</td>\n",
       "      <td>3837</td>\n",
       "      <td>...</td>\n",
       "      <td>1</td>\n",
       "      <td>1</td>\n",
       "      <td>0</td>\n",
       "      <td>4633.0</td>\n",
       "      <td>3507.000000</td>\n",
       "      <td>2541.142857</td>\n",
       "      <td>1</td>\n",
       "      <td>31</td>\n",
       "      <td>10</td>\n",
       "      <td>2022</td>\n",
       "    </tr>\n",
       "    <tr>\n",
       "      <th>2024-05-31</th>\n",
       "      <td>13.6</td>\n",
       "      <td>11.8</td>\n",
       "      <td>16.3</td>\n",
       "      <td>2.0</td>\n",
       "      <td>297</td>\n",
       "      <td>11.6</td>\n",
       "      <td>1009.9</td>\n",
       "      <td>0</td>\n",
       "      <td>1</td>\n",
       "      <td>3485</td>\n",
       "      <td>...</td>\n",
       "      <td>0</td>\n",
       "      <td>0</td>\n",
       "      <td>4</td>\n",
       "      <td>3185.0</td>\n",
       "      <td>2200.333333</td>\n",
       "      <td>2984.571429</td>\n",
       "      <td>1</td>\n",
       "      <td>31</td>\n",
       "      <td>5</td>\n",
       "      <td>2024</td>\n",
       "    </tr>\n",
       "    <tr>\n",
       "      <th>2024-05-10</th>\n",
       "      <td>15.9</td>\n",
       "      <td>9.2</td>\n",
       "      <td>21.8</td>\n",
       "      <td>0.0</td>\n",
       "      <td>64</td>\n",
       "      <td>9.7</td>\n",
       "      <td>1022.4</td>\n",
       "      <td>0</td>\n",
       "      <td>0</td>\n",
       "      <td>4313</td>\n",
       "      <td>...</td>\n",
       "      <td>0</td>\n",
       "      <td>0</td>\n",
       "      <td>4</td>\n",
       "      <td>4362.0</td>\n",
       "      <td>2610.000000</td>\n",
       "      <td>3049.857143</td>\n",
       "      <td>1</td>\n",
       "      <td>10</td>\n",
       "      <td>5</td>\n",
       "      <td>2024</td>\n",
       "    </tr>\n",
       "  </tbody>\n",
       "</table>\n",
       "<p>5 rows × 22 columns</p>\n",
       "</div>"
      ],
      "text/plain": [
       "            tavg  tmin  tmax  prcp  wdir  wspd    pres  national_holiday  \\\n",
       "date                                                                       \n",
       "2023-10-02  18.1  12.7  25.3   0.0   120   7.6  1022.0                 0   \n",
       "2022-06-17  22.0  14.2  28.5   0.0   116   5.7  1023.6                 0   \n",
       "2022-10-31  14.4  11.1  19.4   0.0    96   4.5  1019.0                 1   \n",
       "2024-05-31  13.6  11.8  16.3   2.0   297  11.6  1009.9                 0   \n",
       "2024-05-10  15.9   9.2  21.8   0.0    64   9.7  1022.4                 0   \n",
       "\n",
       "            holiday  revenue  ... holiday_all_germany  national_and_holiday  \\\n",
       "date                          ...                                             \n",
       "2023-10-02        0     4848  ...                   0                     0   \n",
       "2022-06-17        1     3471  ...                   0                     0   \n",
       "2022-10-31        1     3837  ...                   1                     1   \n",
       "2024-05-31        1     3485  ...                   0                     0   \n",
       "2024-05-10        0     4313  ...                   0                     0   \n",
       "\n",
       "            DOW  yesterday_revenue three_day_revenue  week_revenue  \\\n",
       "date                                                                 \n",
       "2023-10-02    0             5185.0       4018.000000   2742.142857   \n",
       "2022-06-17    4             4278.0       2326.000000   2628.285714   \n",
       "2022-10-31    0             4633.0       3507.000000   2541.142857   \n",
       "2024-05-31    4             3185.0       2200.333333   2984.571429   \n",
       "2024-05-10    4             4362.0       2610.000000   3049.857143   \n",
       "\n",
       "            bridge_day  day  month  year  \n",
       "date                                      \n",
       "2023-10-02           1    2     10  2023  \n",
       "2022-06-17           1   17      6  2022  \n",
       "2022-10-31           1   31     10  2022  \n",
       "2024-05-31           1   31      5  2024  \n",
       "2024-05-10           1   10      5  2024  \n",
       "\n",
       "[5 rows x 22 columns]"
      ]
     },
     "execution_count": 4,
     "metadata": {},
     "output_type": "execute_result"
    }
   ],
   "source": [
    "df.sort_values('bridge_day', ascending=False).head()"
   ]
  },
  {
   "cell_type": "code",
   "execution_count": 5,
   "metadata": {},
   "outputs": [
    {
     "name": "stderr",
     "output_type": "stream",
     "text": [
      "/Users/jonasfischer/Library/CloudStorage/OneDrive-Persönlich/Projekte/Restaurant-Revenue-Forecasting/src/demos.py:231: UserWarning: set_ticklabels() should only be used with a fixed number of ticks, i.e. after set_ticks() or using a FixedLocator.\n",
      "  g.ax.set_xticklabels(g.ax.get_xticklabels(), fontsize=7)\n"
     ]
    },
    {
     "data": {
      "image/png": "[encoded data removed]",
      "text/plain": [
       "<Figure size 511.111x500 with 1 Axes>"
      ]
     },
     "metadata": {},
     "output_type": "display_data"
    }
   ],
   "source": [
    "plot_avg_revenue_per_weekday(df)"
   ]
  },
  {
   "cell_type": "code",
   "execution_count": 6,
   "metadata": {},
   "outputs": [
    {
     "data": {
      "image/png": "[encoded data removed]",
      "text/plain": [
       "<Figure size 640x480 with 4 Axes>"
      ]
     },
     "metadata": {},
     "output_type": "display_data"
    }
   ],
   "source": [
    "plot_data(df)"
   ]
  },
  {
   "cell_type": "code",
   "execution_count": 7,
   "metadata": {},
   "outputs": [
    {
     "name": "stderr",
     "output_type": "stream",
     "text": [
      "/Users/jonasfischer/Library/CloudStorage/OneDrive-Persönlich/Projekte/Restaurant-Revenue-Forecasting/src/demos.py:282: UserWarning: set_ticklabels() should only be used with a fixed number of ticks, i.e. after set_ticks() or using a FixedLocator.\n",
      "  g.ax.set_xticklabels(g.ax.get_xticklabels(), fontsize=7)\n"
     ]
    },
    {
     "data": {
      "image/png": "[encoded data removed]",
      "text/plain": [
       "<Figure size 511.111x500 with 1 Axes>"
      ]
     },
     "metadata": {},
     "output_type": "display_data"
    }
   ],
   "source": [
    "plot_revenue_per_weekday(df)"
   ]
  },
  {
   "cell_type": "markdown",
   "metadata": {},
   "source": [
    "**Optimization with Optuna and Time Servies Cross-Validation**"
   ]
  },
  {
   "cell_type": "code",
   "execution_count": 26,
   "metadata": {},
   "outputs": [],
   "source": [
    "import xgboost as xgb\n",
    "from sklearn.model_selection import RandomizedSearchCV\n",
    "import scipy.stats as stats\n",
    "from sklearn.metrics import mean_absolute_percentage_error, mean_absolute_error, mean_squared_error\n",
    "from src.model import time_series_cross_validation, time_series_cross_validation_lgbm\n",
    "from src.demos import split_X_Y\n",
    "import lightgbm as lgb\n",
    "\n",
    "X_train, Y_train= split_X_Y(train_df)\n",
    "X_test, Y_test = split_X_Y(test_df)"
   ]
  },
  {
   "cell_type": "code",
   "execution_count": 9,
   "metadata": {},
   "outputs": [],
   "source": [
    "import optuna\n",
    "from src.model import time_series_cross_validation\n",
    "import pickle"
   ]
  },
  {
   "cell_type": "code",
   "execution_count": 116,
   "metadata": {},
   "outputs": [],
   "source": [
    "def objectiveTimeSeriesCV(trial):\n",
    "    params = {\n",
    "    \"objective\": \"regression\",\n",
    "    # \"metric\": \"rmse\",\n",
    "    \"n_estimators\": 1000,\n",
    "    \"verbosity\": -1,\n",
    "    \"bagging_freq\": 1,\n",
    "    'max_depth': trial.suggest_int('max_depth', 3,10),\n",
    "    'reg_alpha': trial.suggest_float('reg_alpha', 1e-3, 10.0, log=True), #Add regularization, because LGBM is overfitting\n",
    "    'reg_lambda': trial.suggest_float('reg_lambda', 1e-3, 10.0, log=True),\n",
    "    \"learning_rate\": trial.suggest_float(\"learning_rate\", 1e-3, 0.1, log=True),\n",
    "    \"num_leaves\": trial.suggest_int(\"num_leaves\", 2, 2**10),\n",
    "    \"subsample\": trial.suggest_float(\"subsample\", 0.05, 1.0),\n",
    "    \"colsample_bytree\": trial.suggest_float(\"colsample_bytree\", 0.05, 1.0),\n",
    "    \"min_data_in_leaf\": trial.suggest_int(\"min_data_in_leaf\", 1, 100),\n",
    "}\n",
    "\n",
    "    err = time_series_cross_validation_lgbm(train_df, params, cv=5, metric=mean_squared_error)\n",
    "    return err"
   ]
  },
  {
   "cell_type": "code",
   "execution_count": 117,
   "metadata": {},
   "outputs": [
    {
     "name": "stderr",
     "output_type": "stream",
     "text": [
      "[I 2024-09-16 20:09:57,451] A new study created in memory with name: no-name-c72d65e1-0d40-401d-b421-a75a3bc56ffc\n",
      "100%|██████████| 5/5 [00:01<00:00,  2.54it/s]\n",
      "[I 2024-09-16 20:09:59,451] Trial 0 finished with value: 238876.8640227016 and parameters: {'max_depth': 9, 'reg_alpha': 3.138764764790169, 'reg_lambda': 1.5776489997609127, 'learning_rate': 0.008151975039596455, 'num_leaves': 325, 'subsample': 0.7314227375187611, 'colsample_bytree': 0.8830147606472128, 'min_data_in_leaf': 20}. Best is trial 0 with value: 238876.8640227016.\n",
      "100%|██████████| 5/5 [00:00<00:00,  8.85it/s]\n",
      "[I 2024-09-16 20:10:00,023] Trial 1 finished with value: 724681.5312875456 and parameters: {'max_depth': 5, 'reg_alpha': 0.2865618743183329, 'reg_lambda': 0.18315956198621172, 'learning_rate': 0.0027985854751067557, 'num_leaves': 788, 'subsample': 0.14756501724492432, 'colsample_bytree': 0.8907673938637294, 'min_data_in_leaf': 23}. Best is trial 0 with value: 238876.8640227016.\n",
      "100%|██████████| 5/5 [00:00<00:00,  9.49it/s]\n",
      "[I 2024-09-16 20:10:00,557] Trial 2 finished with value: 445366.79071074317 and parameters: {'max_depth': 6, 'reg_alpha': 0.013036430045182738, 'reg_lambda': 0.003286361125227888, 'learning_rate': 0.010739906245083608, 'num_leaves': 96, 'subsample': 0.6717606064460449, 'colsample_bytree': 0.43698110921226013, 'min_data_in_leaf': 60}. Best is trial 0 with value: 238876.8640227016.\n",
      "100%|██████████| 5/5 [00:02<00:00,  2.22it/s]\n",
      "[I 2024-09-16 20:10:02,819] Trial 3 finished with value: 268665.1003170981 and parameters: {'max_depth': 6, 'reg_alpha': 0.007724254796910958, 'reg_lambda': 0.021687414214298446, 'learning_rate': 0.0540672074724711, 'num_leaves': 569, 'subsample': 0.6176166482279408, 'colsample_bytree': 0.32959409714336224, 'min_data_in_leaf': 4}. Best is trial 0 with value: 238876.8640227016.\n",
      "100%|██████████| 5/5 [00:00<00:00, 15.12it/s]\n",
      "[I 2024-09-16 20:10:03,156] Trial 4 finished with value: 1022803.9408685425 and parameters: {'max_depth': 8, 'reg_alpha': 0.0017350120699971237, 'reg_lambda': 0.014853068074323836, 'learning_rate': 0.0011862735848499142, 'num_leaves': 424, 'subsample': 0.5216186586819883, 'colsample_bytree': 0.5404468183077713, 'min_data_in_leaf': 92}. Best is trial 0 with value: 238876.8640227016.\n",
      "100%|██████████| 5/5 [00:00<00:00,  9.74it/s]\n",
      "[I 2024-09-16 20:10:03,676] Trial 5 finished with value: 678740.886561699 and parameters: {'max_depth': 4, 'reg_alpha': 8.626420781766654, 'reg_lambda': 6.867585105113153, 'learning_rate': 0.0034962404170888785, 'num_leaves': 397, 'subsample': 0.9491657364147257, 'colsample_bytree': 0.14025359347195404, 'min_data_in_leaf': 88}. Best is trial 0 with value: 238876.8640227016.\n",
      "100%|██████████| 5/5 [00:00<00:00,  6.02it/s]\n",
      "[I 2024-09-16 20:10:04,518] Trial 6 finished with value: 435011.93269537797 and parameters: {'max_depth': 5, 'reg_alpha': 1.1904128543608612, 'reg_lambda': 0.004222474738347334, 'learning_rate': 0.0745425198865498, 'num_leaves': 311, 'subsample': 0.6595172394371035, 'colsample_bytree': 0.5777346321126048, 'min_data_in_leaf': 58}. Best is trial 0 with value: 238876.8640227016.\n",
      "100%|██████████| 5/5 [00:00<00:00,  6.30it/s]\n",
      "[I 2024-09-16 20:10:05,320] Trial 7 finished with value: 434353.7752248634 and parameters: {'max_depth': 7, 'reg_alpha': 2.839908092967327, 'reg_lambda': 0.033283155837984454, 'learning_rate': 0.008586760085367288, 'num_leaves': 300, 'subsample': 0.7396130330353511, 'colsample_bytree': 0.7567344730736827, 'min_data_in_leaf': 59}. Best is trial 0 with value: 238876.8640227016.\n",
      "100%|██████████| 5/5 [00:00<00:00, 13.67it/s]\n",
      "[I 2024-09-16 20:10:05,693] Trial 8 finished with value: 881011.3120467911 and parameters: {'max_depth': 4, 'reg_alpha': 0.00425109832778199, 'reg_lambda': 0.0019916262549962605, 'learning_rate': 0.0015668316162831925, 'num_leaves': 74, 'subsample': 0.6352344449951465, 'colsample_bytree': 0.1851774389009706, 'min_data_in_leaf': 79}. Best is trial 0 with value: 238876.8640227016.\n",
      "100%|██████████| 5/5 [00:01<00:00,  4.25it/s]\n",
      "[I 2024-09-16 20:10:06,882] Trial 9 finished with value: 544195.4331871365 and parameters: {'max_depth': 8, 'reg_alpha': 0.05062921381403452, 'reg_lambda': 1.7669157485842877, 'learning_rate': 0.0010427395430232984, 'num_leaves': 929, 'subsample': 0.1522208164874958, 'colsample_bytree': 0.7594560601270539, 'min_data_in_leaf': 8}. Best is trial 0 with value: 238876.8640227016.\n",
      "100%|██████████| 5/5 [00:00<00:00,  6.69it/s]\n",
      "[I 2024-09-16 20:10:07,703] Trial 10 finished with value: 431021.5031737193 and parameters: {'max_depth': 10, 'reg_alpha': 0.2922322266133549, 'reg_lambda': 0.5889293615037121, 'learning_rate': 0.022703293598300676, 'num_leaves': 640, 'subsample': 0.3627972362439784, 'colsample_bytree': 0.9200728725965932, 'min_data_in_leaf': 32}. Best is trial 0 with value: 238876.8640227016.\n",
      "100%|██████████| 5/5 [00:02<00:00,  2.01it/s]\n",
      "[I 2024-09-16 20:10:10,268] Trial 11 finished with value: 371779.1812440928 and parameters: {'max_depth': 10, 'reg_alpha': 0.027093232072451675, 'reg_lambda': 0.13420637155951626, 'learning_rate': 0.09330217048618328, 'num_leaves': 592, 'subsample': 0.9166627905433428, 'colsample_bytree': 0.31731278151701664, 'min_data_in_leaf': 3}. Best is trial 0 with value: 238876.8640227016.\n",
      "100%|██████████| 5/5 [00:00<00:00,  5.46it/s]\n",
      "[I 2024-09-16 20:10:11,256] Trial 12 finished with value: 322582.39208594564 and parameters: {'max_depth': 8, 'reg_alpha': 0.19449876942291838, 'reg_lambda': 0.030002306906310294, 'learning_rate': 0.033610984469169644, 'num_leaves': 750, 'subsample': 0.4541890131174604, 'colsample_bytree': 0.365898353569436, 'min_data_in_leaf': 28}. Best is trial 0 with value: 238876.8640227016.\n",
      "100%|██████████| 5/5 [00:01<00:00,  3.71it/s]\n",
      "[I 2024-09-16 20:10:12,689] Trial 13 finished with value: 246117.6263406679 and parameters: {'max_depth': 9, 'reg_alpha': 0.008111844973397434, 'reg_lambda': 9.492622027885261, 'learning_rate': 0.008440149140697021, 'num_leaves': 246, 'subsample': 0.8299095978607649, 'colsample_bytree': 0.6596219233177767, 'min_data_in_leaf': 16}. Best is trial 0 with value: 238876.8640227016.\n",
      "100%|██████████| 5/5 [00:00<00:00,  7.60it/s]\n",
      "[I 2024-09-16 20:10:13,411] Trial 14 finished with value: 302348.2880856559 and parameters: {'max_depth': 9, 'reg_alpha': 0.9302503960105779, 'reg_lambda': 4.177836071875187, 'learning_rate': 0.010331189767587323, 'num_leaves': 208, 'subsample': 0.8209661676474697, 'colsample_bytree': 0.695468632822565, 'min_data_in_leaf': 45}. Best is trial 0 with value: 238876.8640227016.\n",
      "100%|██████████| 5/5 [00:01<00:00,  4.80it/s]\n",
      "[I 2024-09-16 20:10:14,525] Trial 15 finished with value: 230641.80089098852 and parameters: {'max_depth': 9, 'reg_alpha': 0.0010826301225992866, 'reg_lambda': 1.0777086995093041, 'learning_rate': 0.0056597008516012575, 'num_leaves': 8, 'subsample': 0.8402124078389891, 'colsample_bytree': 0.9811703622788127, 'min_data_in_leaf': 21}. Best is trial 15 with value: 230641.80089098852.\n",
      "100%|██████████| 5/5 [00:00<00:00,  7.80it/s]\n",
      "[I 2024-09-16 20:10:15,248] Trial 16 finished with value: 270179.40609270404 and parameters: {'max_depth': 9, 'reg_alpha': 0.0016799726493610437, 'reg_lambda': 0.7893564900891548, 'learning_rate': 0.004657479724167739, 'num_leaves': 14, 'subsample': 0.8129765349750968, 'colsample_bytree': 0.9753432244446846, 'min_data_in_leaf': 43}. Best is trial 15 with value: 230641.80089098852.\n",
      "100%|██████████| 5/5 [00:00<00:00, 10.34it/s]\n",
      "[I 2024-09-16 20:10:15,795] Trial 17 finished with value: 539414.0805977106 and parameters: {'max_depth': 7, 'reg_alpha': 9.53233065816637, 'reg_lambda': 0.7906251559888843, 'learning_rate': 0.017785711228014763, 'num_leaves': 160, 'subsample': 0.3022332089317399, 'colsample_bytree': 0.8312957094101806, 'min_data_in_leaf': 38}. Best is trial 15 with value: 230641.80089098852.\n",
      "100%|██████████| 5/5 [00:01<00:00,  3.13it/s]\n",
      "[I 2024-09-16 20:10:17,454] Trial 18 finished with value: 231635.4809992502 and parameters: {'max_depth': 10, 'reg_alpha': 0.07995439799926599, 'reg_lambda': 2.455401657819856, 'learning_rate': 0.004282552201883442, 'num_leaves': 439, 'subsample': 0.9682937078377643, 'colsample_bytree': 0.98825154741892, 'min_data_in_leaf': 16}. Best is trial 15 with value: 230641.80089098852.\n",
      "100%|██████████| 5/5 [00:02<00:00,  2.07it/s]\n",
      "[I 2024-09-16 20:10:19,949] Trial 19 finished with value: 244671.050021492 and parameters: {'max_depth': 10, 'reg_alpha': 0.05450263908564121, 'reg_lambda': 0.28618947013304696, 'learning_rate': 0.002285739062710913, 'num_leaves': 973, 'subsample': 0.9763397738482802, 'colsample_bytree': 0.980192946885475, 'min_data_in_leaf': 13}. Best is trial 15 with value: 230641.80089098852.\n",
      "100%|██████████| 5/5 [00:00<00:00,  8.79it/s]\n",
      "[I 2024-09-16 20:10:20,584] Trial 20 finished with value: 440543.0229242973 and parameters: {'max_depth': 3, 'reg_alpha': 0.0010520460910745113, 'reg_lambda': 2.8880523533876374, 'learning_rate': 0.004012437713245284, 'num_leaves': 440, 'subsample': 0.8867091209946122, 'colsample_bytree': 0.8177800496694888, 'min_data_in_leaf': 73}. Best is trial 15 with value: 230641.80089098852.\n",
      "100%|██████████| 5/5 [00:01<00:00,  3.30it/s]\n",
      "[I 2024-09-16 20:10:22,163] Trial 21 finished with value: 232528.06418801058 and parameters: {'max_depth': 9, 'reg_alpha': 1.248806570693056, 'reg_lambda': 1.4595774065336107, 'learning_rate': 0.005551226245833824, 'num_leaves': 489, 'subsample': 0.746709855707662, 'colsample_bytree': 0.9970745414685517, 'min_data_in_leaf': 18}. Best is trial 15 with value: 230641.80089098852.\n",
      "100%|██████████| 5/5 [00:01<00:00,  3.84it/s]\n",
      "[I 2024-09-16 20:10:23,545] Trial 22 finished with value: 237089.77329411087 and parameters: {'max_depth': 10, 'reg_alpha': 0.14141591599358738, 'reg_lambda': 0.3802413974633646, 'learning_rate': 0.005299153060397676, 'num_leaves': 701, 'subsample': 0.9996290859342873, 'colsample_bytree': 0.9821810111383255, 'min_data_in_leaf': 33}. Best is trial 15 with value: 230641.80089098852.\n",
      "100%|██████████| 5/5 [00:01<00:00,  3.78it/s]\n",
      "[I 2024-09-16 20:10:24,938] Trial 23 finished with value: 231078.15143073405 and parameters: {'max_depth': 8, 'reg_alpha': 0.5487924536837726, 'reg_lambda': 1.3381289472179012, 'learning_rate': 0.005579665501913532, 'num_leaves': 504, 'subsample': 0.8679200664170401, 'colsample_bytree': 0.9977138033647552, 'min_data_in_leaf': 23}. Best is trial 15 with value: 230641.80089098852.\n",
      "100%|██████████| 5/5 [00:01<00:00,  4.25it/s]\n",
      "[I 2024-09-16 20:10:26,184] Trial 24 finished with value: 291905.98853927816 and parameters: {'max_depth': 8, 'reg_alpha': 0.5557902926912661, 'reg_lambda': 3.905039161515865, 'learning_rate': 0.0019401640942005823, 'num_leaves': 876, 'subsample': 0.8729377070911093, 'colsample_bytree': 0.8322395676276199, 'min_data_in_leaf': 25}. Best is trial 15 with value: 230641.80089098852.\n",
      "100%|██████████| 5/5 [00:02<00:00,  2.46it/s]\n",
      "[I 2024-09-16 20:10:28,292] Trial 25 finished with value: 237107.50191142736 and parameters: {'max_depth': 7, 'reg_alpha': 0.06525644179363606, 'reg_lambda': 0.05443201539494751, 'learning_rate': 0.015022110947089008, 'num_leaves': 497, 'subsample': 0.9989850923257714, 'colsample_bytree': 0.9051460044170588, 'min_data_in_leaf': 9}. Best is trial 15 with value: 230641.80089098852.\n",
      "100%|██████████| 5/5 [00:00<00:00,  6.34it/s]\n",
      "[I 2024-09-16 20:10:29,150] Trial 26 finished with value: 255683.2567733095 and parameters: {'max_depth': 8, 'reg_alpha': 0.01935447180733456, 'reg_lambda': 1.031861386588689, 'learning_rate': 0.006286236107145065, 'num_leaves': 372, 'subsample': 0.911341917915548, 'colsample_bytree': 0.6829682935179351, 'min_data_in_leaf': 40}. Best is trial 15 with value: 230641.80089098852.\n",
      "100%|██████████| 5/5 [00:00<00:00,  8.53it/s]\n",
      "[I 2024-09-16 20:10:29,810] Trial 27 finished with value: 463967.9055684085 and parameters: {'max_depth': 10, 'reg_alpha': 2.906191255000382, 'reg_lambda': 2.5962182664591187, 'learning_rate': 0.0028281721256712376, 'num_leaves': 575, 'subsample': 0.5440384576476219, 'colsample_bytree': 0.7839128093657792, 'min_data_in_leaf': 49}. Best is trial 15 with value: 230641.80089098852.\n",
      "100%|██████████| 5/5 [00:01<00:00,  4.59it/s]\n",
      "[I 2024-09-16 20:10:30,975] Trial 28 finished with value: 264227.3461945288 and parameters: {'max_depth': 9, 'reg_alpha': 0.0030346872541427692, 'reg_lambda': 0.40340509853587825, 'learning_rate': 0.01373068919364407, 'num_leaves': 808, 'subsample': 0.8021398763302249, 'colsample_bytree': 0.6125749706686952, 'min_data_in_leaf': 33}. Best is trial 15 with value: 230641.80089098852.\n",
      "100%|██████████| 5/5 [00:01<00:00,  3.97it/s]\n",
      "[I 2024-09-16 20:10:32,308] Trial 29 finished with value: 236104.09434165416 and parameters: {'max_depth': 9, 'reg_alpha': 0.39082225268716936, 'reg_lambda': 0.0732164105808381, 'learning_rate': 0.006878052709917765, 'num_leaves': 173, 'subsample': 0.7455022722925749, 'colsample_bytree': 0.9251367890301745, 'min_data_in_leaf': 18}. Best is trial 15 with value: 230641.80089098852.\n",
      "100%|██████████| 5/5 [00:05<00:00,  1.11s/it]\n",
      "[I 2024-09-16 20:10:37,937] Trial 30 finished with value: 262295.76279315294 and parameters: {'max_depth': 8, 'reg_alpha': 0.13447247431298207, 'reg_lambda': 1.6096337302932813, 'learning_rate': 0.0030751980524451445, 'num_leaves': 668, 'subsample': 0.8623647986234214, 'colsample_bytree': 0.867579626724312, 'min_data_in_leaf': 1}. Best is trial 15 with value: 230641.80089098852.\n",
      "100%|██████████| 5/5 [00:01<00:00,  4.09it/s]\n",
      "[I 2024-09-16 20:10:39,235] Trial 31 finished with value: 231768.51808023322 and parameters: {'max_depth': 9, 'reg_alpha': 1.2040493780100174, 'reg_lambda': 1.4489211678414662, 'learning_rate': 0.004830652269596391, 'num_leaves': 347, 'subsample': 0.7512912038271576, 'colsample_bytree': 0.9902470404377393, 'min_data_in_leaf': 19}. Best is trial 15 with value: 230641.80089098852.\n",
      "100%|██████████| 5/5 [00:01<00:00,  4.32it/s]\n",
      "[I 2024-09-16 20:10:40,465] Trial 32 finished with value: 234551.40790408402 and parameters: {'max_depth': 9, 'reg_alpha': 1.9755787057381398, 'reg_lambda': 0.22241332225721633, 'learning_rate': 0.00471205255125518, 'num_leaves': 266, 'subsample': 0.784034137312216, 'colsample_bytree': 0.9213285381969879, 'min_data_in_leaf': 23}. Best is trial 15 with value: 230641.80089098852.\n",
      "100%|██████████| 5/5 [00:01<00:00,  3.65it/s]\n",
      "[I 2024-09-16 20:10:41,917] Trial 33 finished with value: 238650.54029463913 and parameters: {'max_depth': 10, 'reg_alpha': 0.6440338878082298, 'reg_lambda': 5.583805691194555, 'learning_rate': 0.0038296755088886476, 'num_leaves': 348, 'subsample': 0.7005537635411083, 'colsample_bytree': 0.9385843436202284, 'min_data_in_leaf': 12}. Best is trial 15 with value: 230641.80089098852.\n",
      "100%|██████████| 5/5 [00:01<00:00,  3.37it/s]\n",
      "[I 2024-09-16 20:10:43,482] Trial 34 finished with value: 236020.74910885998 and parameters: {'max_depth': 9, 'reg_alpha': 5.365378032011581, 'reg_lambda': 2.4868094774435137, 'learning_rate': 0.006962428715234556, 'num_leaves': 518, 'subsample': 0.9416282464899051, 'colsample_bytree': 0.8754403756531457, 'min_data_in_leaf': 27}. Best is trial 15 with value: 230641.80089098852.\n",
      "100%|██████████| 5/5 [00:00<00:00,  7.03it/s]\n",
      "[I 2024-09-16 20:10:44,292] Trial 35 finished with value: 1218438.9844417146 and parameters: {'max_depth': 10, 'reg_alpha': 0.46373957620026557, 'reg_lambda': 0.5300176643400655, 'learning_rate': 0.0024204857486754107, 'num_leaves': 464, 'subsample': 0.062231249761102836, 'colsample_bytree': 0.9943563556102821, 'min_data_in_leaf': 19}. Best is trial 15 with value: 230641.80089098852.\n",
      "100%|██████████| 5/5 [00:02<00:00,  2.45it/s]\n",
      "[I 2024-09-16 20:10:46,406] Trial 36 finished with value: 307241.065068464 and parameters: {'max_depth': 7, 'reg_alpha': 4.874554204254174, 'reg_lambda': 1.260043427416272, 'learning_rate': 0.0015792443129211116, 'num_leaves': 12, 'subsample': 0.5601407940042124, 'colsample_bytree': 0.8622809157000906, 'min_data_in_leaf': 8}. Best is trial 15 with value: 230641.80089098852.\n",
      "100%|██████████| 5/5 [00:01<00:00,  4.68it/s]\n",
      "[I 2024-09-16 20:10:47,553] Trial 37 finished with value: 254811.79984641485 and parameters: {'max_depth': 8, 'reg_alpha': 0.21273083059361433, 'reg_lambda': 9.404633558387866, 'learning_rate': 0.01173288488708761, 'num_leaves': 400, 'subsample': 0.8559571044986293, 'colsample_bytree': 0.46164561829782536, 'min_data_in_leaf': 22}. Best is trial 15 with value: 230641.80089098852.\n",
      "100%|██████████| 5/5 [00:00<00:00,  8.20it/s]\n",
      "[I 2024-09-16 20:10:48,243] Trial 38 finished with value: 442402.4465144663 and parameters: {'max_depth': 9, 'reg_alpha': 1.8541005923429208, 'reg_lambda': 0.1638654932061351, 'learning_rate': 0.003945444053052, 'num_leaves': 89, 'subsample': 0.6850182100125668, 'colsample_bytree': 0.7291161622900849, 'min_data_in_leaf': 53}. Best is trial 15 with value: 230641.80089098852.\n",
      "100%|██████████| 5/5 [00:01<00:00,  4.85it/s]\n",
      "[I 2024-09-16 20:10:49,352] Trial 39 finished with value: 248180.37804030144 and parameters: {'max_depth': 6, 'reg_alpha': 0.02962378390004217, 'reg_lambda': 4.851515050048004, 'learning_rate': 0.008170966077417765, 'num_leaves': 524, 'subsample': 0.7815757364251097, 'colsample_bytree': 0.9453642752444287, 'min_data_in_leaf': 30}. Best is trial 15 with value: 230641.80089098852.\n",
      "100%|██████████| 5/5 [00:01<00:00,  4.02it/s]\n",
      "[I 2024-09-16 20:10:50,674] Trial 40 finished with value: 245497.44862669302 and parameters: {'max_depth': 8, 'reg_alpha': 0.007129758523865473, 'reg_lambda': 2.766079484846769, 'learning_rate': 0.0033152643274198474, 'num_leaves': 332, 'subsample': 0.5949315481222801, 'colsample_bytree': 0.80828660646676, 'min_data_in_leaf': 13}. Best is trial 15 with value: 230641.80089098852.\n",
      "100%|██████████| 5/5 [00:01<00:00,  3.27it/s]\n",
      "[I 2024-09-16 20:10:52,282] Trial 41 finished with value: 232228.41544099286 and parameters: {'max_depth': 9, 'reg_alpha': 1.002115980915363, 'reg_lambda': 1.6323728542187994, 'learning_rate': 0.005765355704759301, 'num_leaves': 444, 'subsample': 0.7364455870869805, 'colsample_bytree': 0.982377992955772, 'min_data_in_leaf': 16}. Best is trial 15 with value: 230641.80089098852.\n",
      "100%|██████████| 5/5 [00:01<00:00,  4.58it/s]\n",
      "[I 2024-09-16 20:10:53,467] Trial 42 finished with value: 248560.29161157398 and parameters: {'max_depth': 10, 'reg_alpha': 0.8403279798828305, 'reg_lambda': 0.006634008556235685, 'learning_rate': 0.006141878325708811, 'num_leaves': 446, 'subsample': 0.9327552867707594, 'colsample_bytree': 0.8789800993199341, 'min_data_in_leaf': 36}. Best is trial 15 with value: 230641.80089098852.\n",
      "100%|██████████| 5/5 [00:00<00:00, 12.12it/s]\n",
      "[I 2024-09-16 20:10:53,967] Trial 43 finished with value: 883535.6653617639 and parameters: {'max_depth': 9, 'reg_alpha': 1.5952491006413787, 'reg_lambda': 0.9431481243925425, 'learning_rate': 0.0045466158601960086, 'num_leaves': 565, 'subsample': 0.7093181377100375, 'colsample_bytree': 0.05021724371805286, 'min_data_in_leaf': 99}. Best is trial 15 with value: 230641.80089098852.\n",
      "100%|██████████| 5/5 [00:02<00:00,  2.34it/s]\n",
      "[I 2024-09-16 20:10:56,182] Trial 44 finished with value: 238400.60603401563 and parameters: {'max_depth': 10, 'reg_alpha': 4.202480244026152, 'reg_lambda': 1.8643873080819262, 'learning_rate': 0.009814920555079416, 'num_leaves': 277, 'subsample': 0.4697860241225998, 'colsample_bytree': 0.9424460955979483, 'min_data_in_leaf': 6}. Best is trial 15 with value: 230641.80089098852.\n",
      "100%|██████████| 5/5 [00:01<00:00,  4.05it/s]\n",
      "[I 2024-09-16 20:10:57,498] Trial 45 finished with value: 235426.92666767305 and parameters: {'max_depth': 8, 'reg_alpha': 0.08104678594020165, 'reg_lambda': 0.6217550911644792, 'learning_rate': 0.007728935372623675, 'num_leaves': 615, 'subsample': 0.7690996593923825, 'colsample_bytree': 0.9997346448686895, 'min_data_in_leaf': 23}. Best is trial 15 with value: 230641.80089098852.\n",
      "100%|██████████| 5/5 [00:01<00:00,  3.43it/s]\n",
      "[I 2024-09-16 20:10:59,033] Trial 46 finished with value: 251474.23771922733 and parameters: {'max_depth': 9, 'reg_alpha': 0.32250067769688606, 'reg_lambda': 1.89402021230502, 'learning_rate': 0.0024547783516040153, 'num_leaves': 400, 'subsample': 0.6519443252710683, 'colsample_bytree': 0.9524752764146374, 'min_data_in_leaf': 14}. Best is trial 15 with value: 230641.80089098852.\n",
      "100%|██████████| 5/5 [00:00<00:00,  5.21it/s]\n",
      "[I 2024-09-16 20:11:00,066] Trial 47 finished with value: 234334.6691403843 and parameters: {'max_depth': 5, 'reg_alpha': 0.7899097692723415, 'reg_lambda': 7.017285852354702, 'learning_rate': 0.005314706674032683, 'num_leaves': 148, 'subsample': 0.9595364228082446, 'colsample_bytree': 0.8908733098970367, 'min_data_in_leaf': 27}. Best is trial 15 with value: 230641.80089098852.\n",
      "100%|██████████| 5/5 [00:00<00:00,  8.00it/s]\n",
      "[I 2024-09-16 20:11:00,774] Trial 48 finished with value: 439614.73712294234 and parameters: {'max_depth': 9, 'reg_alpha': 1.3022201707930685, 'reg_lambda': 0.001023501918263432, 'learning_rate': 0.02991068542143799, 'num_leaves': 544, 'subsample': 0.89535489932472, 'colsample_bytree': 0.7370127582627434, 'min_data_in_leaf': 69}. Best is trial 15 with value: 230641.80089098852.\n",
      "100%|██████████| 5/5 [00:01<00:00,  4.55it/s]\n",
      "[I 2024-09-16 20:11:01,960] Trial 49 finished with value: 260160.84573372756 and parameters: {'max_depth': 10, 'reg_alpha': 0.23933659143042454, 'reg_lambda': 1.109521545306847, 'learning_rate': 0.01204138182690835, 'num_leaves': 306, 'subsample': 0.8428285713301777, 'colsample_bytree': 0.25441084833127725, 'min_data_in_leaf': 21}. Best is trial 15 with value: 230641.80089098852.\n",
      "100%|██████████| 5/5 [00:04<00:00,  1.07it/s]\n",
      "[I 2024-09-16 20:11:06,697] Trial 50 finished with value: 254111.3315532611 and parameters: {'max_depth': 6, 'reg_alpha': 2.5222853757859713, 'reg_lambda': 3.6816995787561106, 'learning_rate': 0.0092882657863545, 'num_leaves': 219, 'subsample': 0.6137509536616246, 'colsample_bytree': 0.8456882935873006, 'min_data_in_leaf': 1}. Best is trial 15 with value: 230641.80089098852.\n",
      "100%|██████████| 5/5 [00:02<00:00,  2.18it/s]\n",
      "[I 2024-09-16 20:11:09,082] Trial 51 finished with value: 233037.08317955848 and parameters: {'max_depth': 9, 'reg_alpha': 1.3605902888941985, 'reg_lambda': 1.62635582836476, 'learning_rate': 0.005679638766081328, 'num_leaves': 478, 'subsample': 0.7422285699793654, 'colsample_bytree': 0.9713235398980276, 'min_data_in_leaf': 17}. Best is trial 15 with value: 230641.80089098852.\n",
      "100%|██████████| 5/5 [00:01<00:00,  2.76it/s]\n",
      "[I 2024-09-16 20:11:10,970] Trial 52 finished with value: 230852.22942082933 and parameters: {'max_depth': 8, 'reg_alpha': 0.9342849757177046, 'reg_lambda': 0.6163461246506575, 'learning_rate': 0.004480972439365088, 'num_leaves': 382, 'subsample': 0.7159399809802779, 'colsample_bytree': 0.9055163111846984, 'min_data_in_leaf': 11}. Best is trial 15 with value: 230641.80089098852.\n",
      "100%|██████████| 5/5 [00:03<00:00,  1.27it/s]\n",
      "[I 2024-09-16 20:11:14,983] Trial 53 finished with value: 232293.8278273074 and parameters: {'max_depth': 7, 'reg_alpha': 0.5815910587514475, 'reg_lambda': 0.4413461708220285, 'learning_rate': 0.0035266641295998657, 'num_leaves': 383, 'subsample': 0.8092349144374638, 'colsample_bytree': 0.9082189749901071, 'min_data_in_leaf': 10}. Best is trial 15 with value: 230641.80089098852.\n",
      "100%|██████████| 5/5 [00:04<00:00,  1.19it/s]\n",
      "[I 2024-09-16 20:11:19,325] Trial 54 finished with value: 230190.80813027144 and parameters: {'max_depth': 8, 'reg_alpha': 0.8697250578475629, 'reg_lambda': 0.7407064493232969, 'learning_rate': 0.00438848895552515, 'num_leaves': 434, 'subsample': 0.6654851329280294, 'colsample_bytree': 0.9602745719441302, 'min_data_in_leaf': 5}. Best is trial 54 with value: 230190.80813027144.\n",
      "100%|██████████| 5/5 [00:04<00:00,  1.20it/s]\n",
      "[I 2024-09-16 20:11:23,604] Trial 55 finished with value: 230194.48406641884 and parameters: {'max_depth': 8, 'reg_alpha': 0.1515017574338793, 'reg_lambda': 0.25989784957972595, 'learning_rate': 0.00448693703256464, 'num_leaves': 357, 'subsample': 0.672381131378072, 'colsample_bytree': 0.7798938745303101, 'min_data_in_leaf': 5}. Best is trial 54 with value: 230190.80813027144.\n",
      "100%|██████████| 5/5 [00:03<00:00,  1.33it/s]\n",
      "[I 2024-09-16 20:11:27,463] Trial 56 finished with value: 238030.4000281832 and parameters: {'max_depth': 8, 'reg_alpha': 0.12645913150509577, 'reg_lambda': 0.24312319757622372, 'learning_rate': 0.0029712636691923795, 'num_leaves': 415, 'subsample': 0.4873814104427049, 'colsample_bytree': 0.7914546108661367, 'min_data_in_leaf': 5}. Best is trial 54 with value: 230190.80813027144.\n",
      "100%|██████████| 5/5 [00:03<00:00,  1.46it/s]\n",
      "[I 2024-09-16 20:11:31,008] Trial 57 finished with value: 263594.5552788254 and parameters: {'max_depth': 8, 'reg_alpha': 0.03423515391327593, 'reg_lambda': 0.1345511730192845, 'learning_rate': 0.0018489390113811458, 'num_leaves': 623, 'subsample': 0.5865781476216525, 'colsample_bytree': 0.901746183454589, 'min_data_in_leaf': 5}. Best is trial 54 with value: 230190.80813027144.\n",
      "100%|██████████| 5/5 [00:02<00:00,  1.82it/s]\n",
      "[I 2024-09-16 20:11:33,879] Trial 58 finished with value: 234119.89764395048 and parameters: {'max_depth': 7, 'reg_alpha': 0.01572629625714067, 'reg_lambda': 0.3135569392883722, 'learning_rate': 0.003979670679463304, 'num_leaves': 739, 'subsample': 0.38772288914763686, 'colsample_bytree': 0.9477391564248907, 'min_data_in_leaf': 9}. Best is trial 54 with value: 230190.80813027144.\n",
      "  0%|          | 0/5 [00:00<?, ?it/s]"
     ]
    }
   ],
   "source": [
    "study = optuna.create_study(direction='minimize')\n",
    "study.optimize(objectiveTimeSeriesCV, n_trials=500)"
   ]
  },
  {
   "cell_type": "code",
   "execution_count": 110,
   "metadata": {},
   "outputs": [
    {
     "name": "stdout",
     "output_type": "stream",
     "text": [
      "{'max_depth': 5, 'reg_alpha': 0.11110900819209368, 'reg_lambda': 0.016866588933221287, 'learning_rate': 0.024885244063618837, 'num_leaves': 15, 'subsample': 0.5054122941162923, 'colsample_bytree': 0.8666325262730463, 'min_data_in_leaf': 4}\n"
     ]
    }
   ],
   "source": [
    "best_params = study.best_params\n",
    "print(best_params)"
   ]
  },
  {
   "cell_type": "code",
   "execution_count": 111,
   "metadata": {},
   "outputs": [
    {
     "data": {
      "text/html": [
       "<style>#sk-container-id-11 {\n",
       "  /* Definition of color scheme common for light and dark mode */\n",
       "  --sklearn-color-text: black;\n",
       "  --sklearn-color-line: gray;\n",
       "  /* Definition of color scheme for unfitted estimators */\n",
       "  --sklearn-color-unfitted-level-0: #fff5e6;\n",
       "  --sklearn-color-unfitted-level-1: #f6e4d2;\n",
       "  --sklearn-color-unfitted-level-2: #ffe0b3;\n",
       "  --sklearn-color-unfitted-level-3: chocolate;\n",
       "  /* Definition of color scheme for fitted estimators */\n",
       "  --sklearn-color-fitted-level-0: #f0f8ff;\n",
       "  --sklearn-color-fitted-level-1: #d4ebff;\n",
       "  --sklearn-color-fitted-level-2: #b3dbfd;\n",
       "  --sklearn-color-fitted-level-3: cornflowerblue;\n",
       "\n",
       "  /* Specific color for light theme */\n",
       "  --sklearn-color-text-on-default-background: var(--sg-text-color, var(--theme-code-foreground, var(--jp-content-font-color1, black)));\n",
       "  --sklearn-color-background: var(--sg-background-color, var(--theme-background, var(--jp-layout-color0, white)));\n",
       "  --sklearn-color-border-box: var(--sg-text-color, var(--theme-code-foreground, var(--jp-content-font-color1, black)));\n",
       "  --sklearn-color-icon: #696969;\n",
       "\n",
       "  @media (prefers-color-scheme: dark) {\n",
       "    /* Redefinition of color scheme for dark theme */\n",
       "    --sklearn-color-text-on-default-background: var(--sg-text-color, var(--theme-code-foreground, var(--jp-content-font-color1, white)));\n",
       "    --sklearn-color-background: var(--sg-background-color, var(--theme-background, var(--jp-layout-color0, #111)));\n",
       "    --sklearn-color-border-box: var(--sg-text-color, var(--theme-code-foreground, var(--jp-content-font-color1, white)));\n",
       "    --sklearn-color-icon: #878787;\n",
       "  }\n",
       "}\n",
       "\n",
       "#sk-container-id-11 {\n",
       "  color: var(--sklearn-color-text);\n",
       "}\n",
       "\n",
       "#sk-container-id-11 pre {\n",
       "  padding: 0;\n",
       "}\n",
       "\n",
       "#sk-container-id-11 input.sk-hidden--visually {\n",
       "  border: 0;\n",
       "  clip: rect(1px 1px 1px 1px);\n",
       "  clip: rect(1px, 1px, 1px, 1px);\n",
       "  height: 1px;\n",
       "  margin: -1px;\n",
       "  overflow: hidden;\n",
       "  padding: 0;\n",
       "  position: absolute;\n",
       "  width: 1px;\n",
       "}\n",
       "\n",
       "#sk-container-id-11 div.sk-dashed-wrapped {\n",
       "  border: 1px dashed var(--sklearn-color-line);\n",
       "  margin: 0 0.4em 0.5em 0.4em;\n",
       "  box-sizing: border-box;\n",
       "  padding-bottom: 0.4em;\n",
       "  background-color: var(--sklearn-color-background);\n",
       "}\n",
       "\n",
       "#sk-container-id-11 div.sk-container {\n",
       "  /* jupyter's `normalize.less` sets `[hidden] { display: none; }`\n",
       "     but bootstrap.min.css set `[hidden] { display: none !important; }`\n",
       "     so we also need the `!important` here to be able to override the\n",
       "     default hidden behavior on the sphinx rendered scikit-learn.org.\n",
       "     See: https://github.com/scikit-learn/scikit-learn/issues/21755 */\n",
       "  display: inline-block !important;\n",
       "  position: relative;\n",
       "}\n",
       "\n",
       "#sk-container-id-11 div.sk-text-repr-fallback {\n",
       "  display: none;\n",
       "}\n",
       "\n",
       "div.sk-parallel-item,\n",
       "div.sk-serial,\n",
       "div.sk-item {\n",
       "  /* draw centered vertical line to link estimators */\n",
       "  background-image: linear-gradient(var(--sklearn-color-text-on-default-background), var(--sklearn-color-text-on-default-background));\n",
       "  background-size: 2px 100%;\n",
       "  background-repeat: no-repeat;\n",
       "  background-position: center center;\n",
       "}\n",
       "\n",
       "/* Parallel-specific style estimator block */\n",
       "\n",
       "#sk-container-id-11 div.sk-parallel-item::after {\n",
       "  content: \"\";\n",
       "  width: 100%;\n",
       "  border-bottom: 2px solid var(--sklearn-color-text-on-default-background);\n",
       "  flex-grow: 1;\n",
       "}\n",
       "\n",
       "#sk-container-id-11 div.sk-parallel {\n",
       "  display: flex;\n",
       "  align-items: stretch;\n",
       "  justify-content: center;\n",
       "  background-color: var(--sklearn-color-background);\n",
       "  position: relative;\n",
       "}\n",
       "\n",
       "#sk-container-id-11 div.sk-parallel-item {\n",
       "  display: flex;\n",
       "  flex-direction: column;\n",
       "}\n",
       "\n",
       "#sk-container-id-11 div.sk-parallel-item:first-child::after {\n",
       "  align-self: flex-end;\n",
       "  width: 50%;\n",
       "}\n",
       "\n",
       "#sk-container-id-11 div.sk-parallel-item:last-child::after {\n",
       "  align-self: flex-start;\n",
       "  width: 50%;\n",
       "}\n",
       "\n",
       "#sk-container-id-11 div.sk-parallel-item:only-child::after {\n",
       "  width: 0;\n",
       "}\n",
       "\n",
       "/* Serial-specific style estimator block */\n",
       "\n",
       "#sk-container-id-11 div.sk-serial {\n",
       "  display: flex;\n",
       "  flex-direction: column;\n",
       "  align-items: center;\n",
       "  background-color: var(--sklearn-color-background);\n",
       "  padding-right: 1em;\n",
       "  padding-left: 1em;\n",
       "}\n",
       "\n",
       "\n",
       "/* Toggleable style: style used for estimator/Pipeline/ColumnTransformer box that is\n",
       "clickable and can be expanded/collapsed.\n",
       "- Pipeline and ColumnTransformer use this feature and define the default style\n",
       "- Estimators will overwrite some part of the style using the `sk-estimator` class\n",
       "*/\n",
       "\n",
       "/* Pipeline and ColumnTransformer style (default) */\n",
       "\n",
       "#sk-container-id-11 div.sk-toggleable {\n",
       "  /* Default theme specific background. It is overwritten whether we have a\n",
       "  specific estimator or a Pipeline/ColumnTransformer */\n",
       "  background-color: var(--sklearn-color-background);\n",
       "}\n",
       "\n",
       "/* Toggleable label */\n",
       "#sk-container-id-11 label.sk-toggleable__label {\n",
       "  cursor: pointer;\n",
       "  display: block;\n",
       "  width: 100%;\n",
       "  margin-bottom: 0;\n",
       "  padding: 0.5em;\n",
       "  box-sizing: border-box;\n",
       "  text-align: center;\n",
       "}\n",
       "\n",
       "#sk-container-id-11 label.sk-toggleable__label-arrow:before {\n",
       "  /* Arrow on the left of the label */\n",
       "  content: \"▸\";\n",
       "  float: left;\n",
       "  margin-right: 0.25em;\n",
       "  color: var(--sklearn-color-icon);\n",
       "}\n",
       "\n",
       "#sk-container-id-11 label.sk-toggleable__label-arrow:hover:before {\n",
       "  color: var(--sklearn-color-text);\n",
       "}\n",
       "\n",
       "/* Toggleable content - dropdown */\n",
       "\n",
       "#sk-container-id-11 div.sk-toggleable__content {\n",
       "  max-height: 0;\n",
       "  max-width: 0;\n",
       "  overflow: hidden;\n",
       "  text-align: left;\n",
       "  /* unfitted */\n",
       "  background-color: var(--sklearn-color-unfitted-level-0);\n",
       "}\n",
       "\n",
       "#sk-container-id-11 div.sk-toggleable__content.fitted {\n",
       "  /* fitted */\n",
       "  background-color: var(--sklearn-color-fitted-level-0);\n",
       "}\n",
       "\n",
       "#sk-container-id-11 div.sk-toggleable__content pre {\n",
       "  margin: 0.2em;\n",
       "  border-radius: 0.25em;\n",
       "  color: var(--sklearn-color-text);\n",
       "  /* unfitted */\n",
       "  background-color: var(--sklearn-color-unfitted-level-0);\n",
       "}\n",
       "\n",
       "#sk-container-id-11 div.sk-toggleable__content.fitted pre {\n",
       "  /* unfitted */\n",
       "  background-color: var(--sklearn-color-fitted-level-0);\n",
       "}\n",
       "\n",
       "#sk-container-id-11 input.sk-toggleable__control:checked~div.sk-toggleable__content {\n",
       "  /* Expand drop-down */\n",
       "  max-height: 200px;\n",
       "  max-width: 100%;\n",
       "  overflow: auto;\n",
       "}\n",
       "\n",
       "#sk-container-id-11 input.sk-toggleable__control:checked~label.sk-toggleable__label-arrow:before {\n",
       "  content: \"▾\";\n",
       "}\n",
       "\n",
       "/* Pipeline/ColumnTransformer-specific style */\n",
       "\n",
       "#sk-container-id-11 div.sk-label input.sk-toggleable__control:checked~label.sk-toggleable__label {\n",
       "  color: var(--sklearn-color-text);\n",
       "  background-color: var(--sklearn-color-unfitted-level-2);\n",
       "}\n",
       "\n",
       "#sk-container-id-11 div.sk-label.fitted input.sk-toggleable__control:checked~label.sk-toggleable__label {\n",
       "  background-color: var(--sklearn-color-fitted-level-2);\n",
       "}\n",
       "\n",
       "/* Estimator-specific style */\n",
       "\n",
       "/* Colorize estimator box */\n",
       "#sk-container-id-11 div.sk-estimator input.sk-toggleable__control:checked~label.sk-toggleable__label {\n",
       "  /* unfitted */\n",
       "  background-color: var(--sklearn-color-unfitted-level-2);\n",
       "}\n",
       "\n",
       "#sk-container-id-11 div.sk-estimator.fitted input.sk-toggleable__control:checked~label.sk-toggleable__label {\n",
       "  /* fitted */\n",
       "  background-color: var(--sklearn-color-fitted-level-2);\n",
       "}\n",
       "\n",
       "#sk-container-id-11 div.sk-label label.sk-toggleable__label,\n",
       "#sk-container-id-11 div.sk-label label {\n",
       "  /* The background is the default theme color */\n",
       "  color: var(--sklearn-color-text-on-default-background);\n",
       "}\n",
       "\n",
       "/* On hover, darken the color of the background */\n",
       "#sk-container-id-11 div.sk-label:hover label.sk-toggleable__label {\n",
       "  color: var(--sklearn-color-text);\n",
       "  background-color: var(--sklearn-color-unfitted-level-2);\n",
       "}\n",
       "\n",
       "/* Label box, darken color on hover, fitted */\n",
       "#sk-container-id-11 div.sk-label.fitted:hover label.sk-toggleable__label.fitted {\n",
       "  color: var(--sklearn-color-text);\n",
       "  background-color: var(--sklearn-color-fitted-level-2);\n",
       "}\n",
       "\n",
       "/* Estimator label */\n",
       "\n",
       "#sk-container-id-11 div.sk-label label {\n",
       "  font-family: monospace;\n",
       "  font-weight: bold;\n",
       "  display: inline-block;\n",
       "  line-height: 1.2em;\n",
       "}\n",
       "\n",
       "#sk-container-id-11 div.sk-label-container {\n",
       "  text-align: center;\n",
       "}\n",
       "\n",
       "/* Estimator-specific */\n",
       "#sk-container-id-11 div.sk-estimator {\n",
       "  font-family: monospace;\n",
       "  border: 1px dotted var(--sklearn-color-border-box);\n",
       "  border-radius: 0.25em;\n",
       "  box-sizing: border-box;\n",
       "  margin-bottom: 0.5em;\n",
       "  /* unfitted */\n",
       "  background-color: var(--sklearn-color-unfitted-level-0);\n",
       "}\n",
       "\n",
       "#sk-container-id-11 div.sk-estimator.fitted {\n",
       "  /* fitted */\n",
       "  background-color: var(--sklearn-color-fitted-level-0);\n",
       "}\n",
       "\n",
       "/* on hover */\n",
       "#sk-container-id-11 div.sk-estimator:hover {\n",
       "  /* unfitted */\n",
       "  background-color: var(--sklearn-color-unfitted-level-2);\n",
       "}\n",
       "\n",
       "#sk-container-id-11 div.sk-estimator.fitted:hover {\n",
       "  /* fitted */\n",
       "  background-color: var(--sklearn-color-fitted-level-2);\n",
       "}\n",
       "\n",
       "/* Specification for estimator info (e.g. \"i\" and \"?\") */\n",
       "\n",
       "/* Common style for \"i\" and \"?\" */\n",
       "\n",
       ".sk-estimator-doc-link,\n",
       "a:link.sk-estimator-doc-link,\n",
       "a:visited.sk-estimator-doc-link {\n",
       "  float: right;\n",
       "  font-size: smaller;\n",
       "  line-height: 1em;\n",
       "  font-family: monospace;\n",
       "  background-color: var(--sklearn-color-background);\n",
       "  border-radius: 1em;\n",
       "  height: 1em;\n",
       "  width: 1em;\n",
       "  text-decoration: none !important;\n",
       "  margin-left: 1ex;\n",
       "  /* unfitted */\n",
       "  border: var(--sklearn-color-unfitted-level-1) 1pt solid;\n",
       "  color: var(--sklearn-color-unfitted-level-1);\n",
       "}\n",
       "\n",
       ".sk-estimator-doc-link.fitted,\n",
       "a:link.sk-estimator-doc-link.fitted,\n",
       "a:visited.sk-estimator-doc-link.fitted {\n",
       "  /* fitted */\n",
       "  border: var(--sklearn-color-fitted-level-1) 1pt solid;\n",
       "  color: var(--sklearn-color-fitted-level-1);\n",
       "}\n",
       "\n",
       "/* On hover */\n",
       "div.sk-estimator:hover .sk-estimator-doc-link:hover,\n",
       ".sk-estimator-doc-link:hover,\n",
       "div.sk-label-container:hover .sk-estimator-doc-link:hover,\n",
       ".sk-estimator-doc-link:hover {\n",
       "  /* unfitted */\n",
       "  background-color: var(--sklearn-color-unfitted-level-3);\n",
       "  color: var(--sklearn-color-background);\n",
       "  text-decoration: none;\n",
       "}\n",
       "\n",
       "div.sk-estimator.fitted:hover .sk-estimator-doc-link.fitted:hover,\n",
       ".sk-estimator-doc-link.fitted:hover,\n",
       "div.sk-label-container:hover .sk-estimator-doc-link.fitted:hover,\n",
       ".sk-estimator-doc-link.fitted:hover {\n",
       "  /* fitted */\n",
       "  background-color: var(--sklearn-color-fitted-level-3);\n",
       "  color: var(--sklearn-color-background);\n",
       "  text-decoration: none;\n",
       "}\n",
       "\n",
       "/* Span, style for the box shown on hovering the info icon */\n",
       ".sk-estimator-doc-link span {\n",
       "  display: none;\n",
       "  z-index: 9999;\n",
       "  position: relative;\n",
       "  font-weight: normal;\n",
       "  right: .2ex;\n",
       "  padding: .5ex;\n",
       "  margin: .5ex;\n",
       "  width: min-content;\n",
       "  min-width: 20ex;\n",
       "  max-width: 50ex;\n",
       "  color: var(--sklearn-color-text);\n",
       "  box-shadow: 2pt 2pt 4pt #999;\n",
       "  /* unfitted */\n",
       "  background: var(--sklearn-color-unfitted-level-0);\n",
       "  border: .5pt solid var(--sklearn-color-unfitted-level-3);\n",
       "}\n",
       "\n",
       ".sk-estimator-doc-link.fitted span {\n",
       "  /* fitted */\n",
       "  background: var(--sklearn-color-fitted-level-0);\n",
       "  border: var(--sklearn-color-fitted-level-3);\n",
       "}\n",
       "\n",
       ".sk-estimator-doc-link:hover span {\n",
       "  display: block;\n",
       "}\n",
       "\n",
       "/* \"?\"-specific style due to the `<a>` HTML tag */\n",
       "\n",
       "#sk-container-id-11 a.estimator_doc_link {\n",
       "  float: right;\n",
       "  font-size: 1rem;\n",
       "  line-height: 1em;\n",
       "  font-family: monospace;\n",
       "  background-color: var(--sklearn-color-background);\n",
       "  border-radius: 1rem;\n",
       "  height: 1rem;\n",
       "  width: 1rem;\n",
       "  text-decoration: none;\n",
       "  /* unfitted */\n",
       "  color: var(--sklearn-color-unfitted-level-1);\n",
       "  border: var(--sklearn-color-unfitted-level-1) 1pt solid;\n",
       "}\n",
       "\n",
       "#sk-container-id-11 a.estimator_doc_link.fitted {\n",
       "  /* fitted */\n",
       "  border: var(--sklearn-color-fitted-level-1) 1pt solid;\n",
       "  color: var(--sklearn-color-fitted-level-1);\n",
       "}\n",
       "\n",
       "/* On hover */\n",
       "#sk-container-id-11 a.estimator_doc_link:hover {\n",
       "  /* unfitted */\n",
       "  background-color: var(--sklearn-color-unfitted-level-3);\n",
       "  color: var(--sklearn-color-background);\n",
       "  text-decoration: none;\n",
       "}\n",
       "\n",
       "#sk-container-id-11 a.estimator_doc_link.fitted:hover {\n",
       "  /* fitted */\n",
       "  background-color: var(--sklearn-color-fitted-level-3);\n",
       "}\n",
       "</style><div id=\"sk-container-id-11\" class=\"sk-top-container\"><div class=\"sk-text-repr-fallback\"><pre>LGBMRegressor(colsample_bytree=0.8666325262730463,\n",
       "              learning_rate=0.024885244063618837, max_depth=5,\n",
       "              min_data_in_leaf=4, num_leaves=15, reg_alpha=0.11110900819209368,\n",
       "              reg_lambda=0.016866588933221287, subsample=0.5054122941162923)</pre><b>In a Jupyter environment, please rerun this cell to show the HTML representation or trust the notebook. <br />On GitHub, the HTML representation is unable to render, please try loading this page with nbviewer.org.</b></div><div class=\"sk-container\" hidden><div class=\"sk-item\"><div class=\"sk-estimator fitted sk-toggleable\"><input class=\"sk-toggleable__control sk-hidden--visually\" id=\"sk-estimator-id-11\" type=\"checkbox\" checked><label for=\"sk-estimator-id-11\" class=\"sk-toggleable__label fitted sk-toggleable__label-arrow fitted\">&nbsp;LGBMRegressor<span class=\"sk-estimator-doc-link fitted\">i<span>Fitted</span></span></label><div class=\"sk-toggleable__content fitted\"><pre>LGBMRegressor(colsample_bytree=0.8666325262730463,\n",
       "              learning_rate=0.024885244063618837, max_depth=5,\n",
       "              min_data_in_leaf=4, num_leaves=15, reg_alpha=0.11110900819209368,\n",
       "              reg_lambda=0.016866588933221287, subsample=0.5054122941162923)</pre></div> </div></div></div></div>"
      ],
      "text/plain": [
       "LGBMRegressor(colsample_bytree=0.8666325262730463,\n",
       "              learning_rate=0.024885244063618837, max_depth=5,\n",
       "              min_data_in_leaf=4, num_leaves=15, reg_alpha=0.11110900819209368,\n",
       "              reg_lambda=0.016866588933221287, subsample=0.5054122941162923)"
      ]
     },
     "execution_count": 111,
     "metadata": {},
     "output_type": "execute_result"
    }
   ],
   "source": [
    "lgb_model_rs = lgb.LGBMRegressor(**best_params)\n",
    "lgb_model_rs.fit(X_train, Y_train)"
   ]
  },
  {
   "cell_type": "code",
   "execution_count": 112,
   "metadata": {},
   "outputs": [],
   "source": [
    "predictions_rs = lgb_model_rs.predict(X_test)"
   ]
  },
  {
   "cell_type": "code",
   "execution_count": 113,
   "metadata": {},
   "outputs": [
    {
     "name": "stdout",
     "output_type": "stream",
     "text": [
      "MAPE: 0.2166496741535201\n",
      "MSE 313237.0694027115\n"
     ]
    }
   ],
   "source": [
    "print(f'MAPE: {mean_absolute_percentage_error(Y_test, predictions_rs)}')\n",
    "print(f'MSE {mean_squared_error(Y_test, predictions_rs)}')"
   ]
  },
  {
   "cell_type": "code",
   "execution_count": 76,
   "metadata": {},
   "outputs": [
    {
     "ename": "ValueError",
     "evalue": "tree must be Booster, XGBModel or dict instance",
     "output_type": "error",
     "traceback": [
      "\u001b[0;31m---------------------------------------------------------------------------\u001b[0m",
      "\u001b[0;31mValueError\u001b[0m                                Traceback (most recent call last)",
      "Cell \u001b[0;32mIn[76], line 5\u001b[0m\n\u001b[1;32m      3\u001b[0m feature_names \u001b[38;5;241m=\u001b[39m [\u001b[38;5;124mf\u001b[39m\u001b[38;5;124m'\u001b[39m\u001b[38;5;124mfeature_\u001b[39m\u001b[38;5;132;01m{\u001b[39;00mi\u001b[38;5;132;01m}\u001b[39;00m\u001b[38;5;124m'\u001b[39m \u001b[38;5;28;01mfor\u001b[39;00m i \u001b[38;5;129;01min\u001b[39;00m \u001b[38;5;28mrange\u001b[39m(X_train\u001b[38;5;241m.\u001b[39mshape[\u001b[38;5;241m1\u001b[39m])]\n\u001b[1;32m      4\u001b[0m fig, ax \u001b[38;5;241m=\u001b[39m plt\u001b[38;5;241m.\u001b[39msubplots(figsize\u001b[38;5;241m=\u001b[39m(\u001b[38;5;241m10\u001b[39m, \u001b[38;5;241m6\u001b[39m))\n\u001b[0;32m----> 5\u001b[0m xgb\u001b[38;5;241m.\u001b[39mplot_importance(lgb_model_rs, ax\u001b[38;5;241m=\u001b[39max, importance_type\u001b[38;5;241m=\u001b[39m\u001b[38;5;124m'\u001b[39m\u001b[38;5;124mgain\u001b[39m\u001b[38;5;124m'\u001b[39m,\n\u001b[1;32m      6\u001b[0m                     max_num_features\u001b[38;5;241m=\u001b[39mtop_n, show_values\u001b[38;5;241m=\u001b[39m\u001b[38;5;28;01mFalse\u001b[39;00m)\n\u001b[1;32m      7\u001b[0m \u001b[38;5;66;03m# plt.yticks(range(top_n), xgb_model.feature_names[:top_n])\u001b[39;00m\n\u001b[1;32m      8\u001b[0m plt\u001b[38;5;241m.\u001b[39mxlabel(\u001b[38;5;124m'\u001b[39m\u001b[38;5;124mGain\u001b[39m\u001b[38;5;124m'\u001b[39m)\n",
      "File \u001b[0;32m~/opt/anaconda3/envs/timeSeries/lib/python3.12/site-packages/xgboost/plotting.py:96\u001b[0m, in \u001b[0;36mplot_importance\u001b[0;34m(booster, ax, height, xlim, ylim, title, xlabel, ylabel, fmap, importance_type, max_num_features, grid, show_values, values_format, **kwargs)\u001b[0m\n\u001b[1;32m     <a href='file:///Users/jonasfischer/opt/anaconda3/envs/timeSeries/lib/python3.12/site-packages/xgboost/plotting.py?line=93'>94</a>\u001b[0m     importance \u001b[39m=\u001b[39m booster\n\u001b[1;32m     <a href='file:///Users/jonasfischer/opt/anaconda3/envs/timeSeries/lib/python3.12/site-packages/xgboost/plotting.py?line=94'>95</a>\u001b[0m \u001b[39melse\u001b[39;00m:\n\u001b[0;32m---> <a href='file:///Users/jonasfischer/opt/anaconda3/envs/timeSeries/lib/python3.12/site-packages/xgboost/plotting.py?line=95'>96</a>\u001b[0m     \u001b[39mraise\u001b[39;00m \u001b[39mValueError\u001b[39;00m(\u001b[39m\"\u001b[39m\u001b[39mtree must be Booster, XGBModel or dict instance\u001b[39m\u001b[39m\"\u001b[39m)\n\u001b[1;32m     <a href='file:///Users/jonasfischer/opt/anaconda3/envs/timeSeries/lib/python3.12/site-packages/xgboost/plotting.py?line=97'>98</a>\u001b[0m \u001b[39mif\u001b[39;00m \u001b[39mnot\u001b[39;00m importance:\n\u001b[1;32m     <a href='file:///Users/jonasfischer/opt/anaconda3/envs/timeSeries/lib/python3.12/site-packages/xgboost/plotting.py?line=98'>99</a>\u001b[0m     \u001b[39mraise\u001b[39;00m \u001b[39mValueError\u001b[39;00m(\n\u001b[1;32m    <a href='file:///Users/jonasfischer/opt/anaconda3/envs/timeSeries/lib/python3.12/site-packages/xgboost/plotting.py?line=99'>100</a>\u001b[0m         \u001b[39m\"\u001b[39m\u001b[39mBooster.get_score() results in empty.  \u001b[39m\u001b[39m\"\u001b[39m\n\u001b[1;32m    <a href='file:///Users/jonasfischer/opt/anaconda3/envs/timeSeries/lib/python3.12/site-packages/xgboost/plotting.py?line=100'>101</a>\u001b[0m         \u001b[39m+\u001b[39m \u001b[39m\"\u001b[39m\u001b[39mThis maybe caused by having all trees as decision dumps.\u001b[39m\u001b[39m\"\u001b[39m\n\u001b[1;32m    <a href='file:///Users/jonasfischer/opt/anaconda3/envs/timeSeries/lib/python3.12/site-packages/xgboost/plotting.py?line=101'>102</a>\u001b[0m     )\n",
      "\u001b[0;31mValueError\u001b[0m: tree must be Booster, XGBModel or dict instance"
     ]
    },
    {
     "data": {
      "image/png": "[encoded data removed]",
      "text/plain": [
       "<Figure size 1000x600 with 1 Axes>"
      ]
     },
     "metadata": {},
     "output_type": "display_data"
    }
   ],
   "source": [
    "top_n = 25\n",
    "# Create feature names\n",
    "feature_names = [f'feature_{i}' for i in range(X_train.shape[1])]\n",
    "fig, ax = plt.subplots(figsize=(10, 6))\n",
    "xgb.plot_importance(lgb_model_rs, ax=ax, importance_type='gain',\n",
    "                    max_num_features=top_n, show_values=False)\n",
    "# plt.yticks(range(top_n), xgb_model.feature_names[:top_n])\n",
    "plt.xlabel('Gain')\n",
    "plt.title(f'Top {top_n} Most Important Features')\n",
    "plt.show()"
   ]
  },
  {
   "cell_type": "markdown",
   "metadata": {},
   "source": [
    "**Visualization of the optimization process**"
   ]
  },
  {
   "cell_type": "code",
   "execution_count": 17,
   "metadata": {},
   "outputs": [],
   "source": [
    "import matplotlib.pyplot as plt\n",
    "import plotly"
   ]
  },
  {
   "cell_type": "code",
   "execution_count": 77,
   "metadata": {},
   "outputs": [
    {
     "data": {
      "application/vnd.plotly.v1+json": {
       "config": {
        "plotlyServerURL": "https://plot.ly"
       },
       "data": [
        {
         "mode": "markers",
         "name": "Objective Value",
         "type": "scatter",
         "x": [
          0,
          1,
          2,
          3,
          4,
          5,
          6,
          7,
          8,
          9,
          10,
          11,
          12,
          13,
          14,
          15,
          16,
          17,
          18,
          19,
          20,
          21,
          22,
          23,
          24,
          25,
          26,
          27,
          28,
          29,
          30,
          31,
          32,
          33,
          34,
          35,
          36,
          37,
          38,
          39,
          40,
          41,
          42,
          43,
          44,
          45,
          46,
          47,
          48,
          49,
          50,
          51,
          52,
          53,
          54,
          55,
          56,
          57,
          58,
          59,
          60,
          61,
          62,
          63,
          64,
          65,
          66,
          67,
          68,
          69,
          70,
          71,
          72,
          73,
          74,
          75,
          76,
          77,
          78,
          79,
          80,
          81,
          82,
          83,
          84,
          85,
          86,
          87,
          88,
          89,
          90,
          91,
          92,
          93,
          94,
          95,
          96,
          97,
          98,
          99
         ],
         "y": [
          0.35617528868555237,
          0.22261943033281756,
          0.13366727687094426,
          0.31678643182863697,
          0.3289412584364942,
          0.14752180959035063,
          0.2799130753878435,
          0.14159648135101754,
          0.40316278783723886,
          0.15427295506048672,
          0.12750597160869173,
          0.1313657413534424,
          0.1322050977213978,
          0.13774303835937166,
          0.13041392619217357,
          0.12552876298441668,
          0.12800066067627908,
          0.13281464949259908,
          0.1288704417407785,
          0.1351287379447888,
          0.1505986102335474,
          0.12883211508236397,
          0.1491679682108586,
          0.12285720756554834,
          0.12263732244761916,
          0.12135835005755242,
          0.12164013870967168,
          0.12069184280721104,
          0.12963349658424406,
          0.12505928424282103,
          0.12458251423921225,
          0.12314113637410573,
          0.12260229182984143,
          0.12325495074513389,
          0.1218291475645645,
          0.12098859434740125,
          0.11945570816054252,
          0.12098325130630198,
          0.12056410779098892,
          0.12019175640112487,
          0.12748305886835007,
          0.12068790244331506,
          0.12094322955950754,
          0.15949830535958834,
          0.1256244744683664,
          0.12076401790283131,
          0.12598972988201954,
          0.14424943477050262,
          0.12446866927116387,
          0.1978284839152898,
          0.21171016696129635,
          0.1268586602054144,
          0.12565970566023904,
          0.12053088030782858,
          0.11994524202971073,
          0.11983271579340393,
          0.12579539558007974,
          0.12042275401611022,
          0.12429440233681928,
          0.11998886859008065,
          0.12252994344340444,
          0.11993661294045807,
          0.12453685834668382,
          0.12057491348619917,
          0.12743158639337798,
          0.12099352676228792,
          0.1275942728200548,
          0.12333429395205067,
          0.12093883580734854,
          0.20038308870921862,
          0.12434322915940299,
          0.12088003162373114,
          0.12088524599213486,
          0.12042082076583775,
          0.11970155007617864,
          0.11992123827167238,
          0.12280394292278822,
          0.11988769333318938,
          0.17352486966281933,
          0.12024743519278751,
          0.1204155915686738,
          0.12005568284801185,
          0.12120408834465277,
          0.12146549209696511,
          0.12043019479551005,
          0.12013805043374774,
          0.12141818554997122,
          0.12425505683585616,
          0.13848201934158325,
          0.12030137257750424,
          0.11941304753332087,
          0.11878902238632572,
          0.12090633013650973,
          0.12002425926505596,
          0.12002911455631946,
          0.12023041463177386,
          0.1426023565194547,
          0.11953900540710646,
          0.1348590908210209,
          0.2130729985354461
         ]
        },
        {
         "mode": "lines",
         "name": "Best Value",
         "type": "scatter",
         "x": [
          0,
          1,
          2,
          3,
          4,
          5,
          6,
          7,
          8,
          9,
          10,
          11,
          12,
          13,
          14,
          15,
          16,
          17,
          18,
          19,
          20,
          21,
          22,
          23,
          24,
          25,
          26,
          27,
          28,
          29,
          30,
          31,
          32,
          33,
          34,
          35,
          36,
          37,
          38,
          39,
          40,
          41,
          42,
          43,
          44,
          45,
          46,
          47,
          48,
          49,
          50,
          51,
          52,
          53,
          54,
          55,
          56,
          57,
          58,
          59,
          60,
          61,
          62,
          63,
          64,
          65,
          66,
          67,
          68,
          69,
          70,
          71,
          72,
          73,
          74,
          75,
          76,
          77,
          78,
          79,
          80,
          81,
          82,
          83,
          84,
          85,
          86,
          87,
          88,
          89,
          90,
          91,
          92,
          93,
          94,
          95,
          96,
          97,
          98,
          99
         ],
         "y": [
          0.35617528868555237,
          0.22261943033281756,
          0.13366727687094426,
          0.13366727687094426,
          0.13366727687094426,
          0.13366727687094426,
          0.13366727687094426,
          0.13366727687094426,
          0.13366727687094426,
          0.13366727687094426,
          0.12750597160869173,
          0.12750597160869173,
          0.12750597160869173,
          0.12750597160869173,
          0.12750597160869173,
          0.12552876298441668,
          0.12552876298441668,
          0.12552876298441668,
          0.12552876298441668,
          0.12552876298441668,
          0.12552876298441668,
          0.12552876298441668,
          0.12552876298441668,
          0.12285720756554834,
          0.12263732244761916,
          0.12135835005755242,
          0.12135835005755242,
          0.12069184280721104,
          0.12069184280721104,
          0.12069184280721104,
          0.12069184280721104,
          0.12069184280721104,
          0.12069184280721104,
          0.12069184280721104,
          0.12069184280721104,
          0.12069184280721104,
          0.11945570816054252,
          0.11945570816054252,
          0.11945570816054252,
          0.11945570816054252,
          0.11945570816054252,
          0.11945570816054252,
          0.11945570816054252,
          0.11945570816054252,
          0.11945570816054252,
          0.11945570816054252,
          0.11945570816054252,
          0.11945570816054252,
          0.11945570816054252,
          0.11945570816054252,
          0.11945570816054252,
          0.11945570816054252,
          0.11945570816054252,
          0.11945570816054252,
          0.11945570816054252,
          0.11945570816054252,
          0.11945570816054252,
          0.11945570816054252,
          0.11945570816054252,
          0.11945570816054252,
          0.11945570816054252,
          0.11945570816054252,
          0.11945570816054252,
          0.11945570816054252,
          0.11945570816054252,
          0.11945570816054252,
          0.11945570816054252,
          0.11945570816054252,
          0.11945570816054252,
          0.11945570816054252,
          0.11945570816054252,
          0.11945570816054252,
          0.11945570816054252,
          0.11945570816054252,
          0.11945570816054252,
          0.11945570816054252,
          0.11945570816054252,
          0.11945570816054252,
          0.11945570816054252,
          0.11945570816054252,
          0.11945570816054252,
          0.11945570816054252,
          0.11945570816054252,
          0.11945570816054252,
          0.11945570816054252,
          0.11945570816054252,
          0.11945570816054252,
          0.11945570816054252,
          0.11945570816054252,
          0.11945570816054252,
          0.11941304753332087,
          0.11878902238632572,
          0.11878902238632572,
          0.11878902238632572,
          0.11878902238632572,
          0.11878902238632572,
          0.11878902238632572,
          0.11878902238632572,
          0.11878902238632572,
          0.11878902238632572
         ]
        },
        {
         "marker": {
          "color": "#cccccc"
         },
         "mode": "markers",
         "name": "Infeasible Trial",
         "showlegend": false,
         "type": "scatter",
         "x": [],
         "y": []
        }
       ],
       "layout": {
        "template": {
         "data": {
          "bar": [
           {
            "error_x": {
             "color": "#2a3f5f"
            },
            "error_y": {
             "color": "#2a3f5f"
            },
            "marker": {
             "line": {
              "color": "#E5ECF6",
              "width": 0.5
             },
             "pattern": {
              "fillmode": "overlay",
              "size": 10,
              "solidity": 0.2
             }
            },
            "type": "bar"
           }
          ],
          "barpolar": [
           {
            "marker": {
             "line": {
              "color": "#E5ECF6",
              "width": 0.5
             },
             "pattern": {
              "fillmode": "overlay",
              "size": 10,
              "solidity": 0.2
             }
            },
            "type": "barpolar"
           }
          ],
          "carpet": [
           {
            "aaxis": {
             "endlinecolor": "#2a3f5f",
             "gridcolor": "white",
             "linecolor": "white",
             "minorgridcolor": "white",
             "startlinecolor": "#2a3f5f"
            },
            "baxis": {
             "endlinecolor": "#2a3f5f",
             "gridcolor": "white",
             "linecolor": "white",
             "minorgridcolor": "white",
             "startlinecolor": "#2a3f5f"
            },
            "type": "carpet"
           }
          ],
          "choropleth": [
           {
            "colorbar": {
             "outlinewidth": 0,
             "ticks": ""
            },
            "type": "choropleth"
           }
          ],
          "contour": [
           {
            "colorbar": {
             "outlinewidth": 0,
             "ticks": ""
            },
            "colorscale": [
             [
              0,
              "#0d0887"
             ],
             [
              0.1111111111111111,
              "#46039f"
             ],
             [
              0.2222222222222222,
              "#7201a8"
             ],
             [
              0.3333333333333333,
              "#9c179e"
             ],
             [
              0.4444444444444444,
              "#bd3786"
             ],
             [
              0.5555555555555556,
              "#d8576b"
             ],
             [
              0.6666666666666666,
              "#ed7953"
             ],
             [
              0.7777777777777778,
              "#fb9f3a"
             ],
             [
              0.8888888888888888,
              "#fdca26"
             ],
             [
              1,
              "#f0f921"
             ]
            ],
            "type": "contour"
           }
          ],
          "contourcarpet": [
           {
            "colorbar": {
             "outlinewidth": 0,
             "ticks": ""
            },
            "type": "contourcarpet"
           }
          ],
          "heatmap": [
           {
            "colorbar": {
             "outlinewidth": 0,
             "ticks": ""
            },
            "colorscale": [
             [
              0,
              "#0d0887"
             ],
             [
              0.1111111111111111,
              "#46039f"
             ],
             [
              0.2222222222222222,
              "#7201a8"
             ],
             [
              0.3333333333333333,
              "#9c179e"
             ],
             [
              0.4444444444444444,
              "#bd3786"
             ],
             [
              0.5555555555555556,
              "#d8576b"
             ],
             [
              0.6666666666666666,
              "#ed7953"
             ],
             [
              0.7777777777777778,
              "#fb9f3a"
             ],
             [
              0.8888888888888888,
              "#fdca26"
             ],
             [
              1,
              "#f0f921"
             ]
            ],
            "type": "heatmap"
           }
          ],
          "heatmapgl": [
           {
            "colorbar": {
             "outlinewidth": 0,
             "ticks": ""
            },
            "colorscale": [
             [
              0,
              "#0d0887"
             ],
             [
              0.1111111111111111,
              "#46039f"
             ],
             [
              0.2222222222222222,
              "#7201a8"
             ],
             [
              0.3333333333333333,
              "#9c179e"
             ],
             [
              0.4444444444444444,
              "#bd3786"
             ],
             [
              0.5555555555555556,
              "#d8576b"
             ],
             [
              0.6666666666666666,
              "#ed7953"
             ],
             [
              0.7777777777777778,
              "#fb9f3a"
             ],
             [
              0.8888888888888888,
              "#fdca26"
             ],
             [
              1,
              "#f0f921"
             ]
            ],
            "type": "heatmapgl"
           }
          ],
          "histogram": [
           {
            "marker": {
             "pattern": {
              "fillmode": "overlay",
              "size": 10,
              "solidity": 0.2
             }
            },
            "type": "histogram"
           }
          ],
          "histogram2d": [
           {
            "colorbar": {
             "outlinewidth": 0,
             "ticks": ""
            },
            "colorscale": [
             [
              0,
              "#0d0887"
             ],
             [
              0.1111111111111111,
              "#46039f"
             ],
             [
              0.2222222222222222,
              "#7201a8"
             ],
             [
              0.3333333333333333,
              "#9c179e"
             ],
             [
              0.4444444444444444,
              "#bd3786"
             ],
             [
              0.5555555555555556,
              "#d8576b"
             ],
             [
              0.6666666666666666,
              "#ed7953"
             ],
             [
              0.7777777777777778,
              "#fb9f3a"
             ],
             [
              0.8888888888888888,
              "#fdca26"
             ],
             [
              1,
              "#f0f921"
             ]
            ],
            "type": "histogram2d"
           }
          ],
          "histogram2dcontour": [
           {
            "colorbar": {
             "outlinewidth": 0,
             "ticks": ""
            },
            "colorscale": [
             [
              0,
              "#0d0887"
             ],
             [
              0.1111111111111111,
              "#46039f"
             ],
             [
              0.2222222222222222,
              "#7201a8"
             ],
             [
              0.3333333333333333,
              "#9c179e"
             ],
             [
              0.4444444444444444,
              "#bd3786"
             ],
             [
              0.5555555555555556,
              "#d8576b"
             ],
             [
              0.6666666666666666,
              "#ed7953"
             ],
             [
              0.7777777777777778,
              "#fb9f3a"
             ],
             [
              0.8888888888888888,
              "#fdca26"
             ],
             [
              1,
              "#f0f921"
             ]
            ],
            "type": "histogram2dcontour"
           }
          ],
          "mesh3d": [
           {
            "colorbar": {
             "outlinewidth": 0,
             "ticks": ""
            },
            "type": "mesh3d"
           }
          ],
          "parcoords": [
           {
            "line": {
             "colorbar": {
              "outlinewidth": 0,
              "ticks": ""
             }
            },
            "type": "parcoords"
           }
          ],
          "pie": [
           {
            "automargin": true,
            "type": "pie"
           }
          ],
          "scatter": [
           {
            "fillpattern": {
             "fillmode": "overlay",
             "size": 10,
             "solidity": 0.2
            },
            "type": "scatter"
           }
          ],
          "scatter3d": [
           {
            "line": {
             "colorbar": {
              "outlinewidth": 0,
              "ticks": ""
             }
            },
            "marker": {
             "colorbar": {
              "outlinewidth": 0,
              "ticks": ""
             }
            },
            "type": "scatter3d"
           }
          ],
          "scattercarpet": [
           {
            "marker": {
             "colorbar": {
              "outlinewidth": 0,
              "ticks": ""
             }
            },
            "type": "scattercarpet"
           }
          ],
          "scattergeo": [
           {
            "marker": {
             "colorbar": {
              "outlinewidth": 0,
              "ticks": ""
             }
            },
            "type": "scattergeo"
           }
          ],
          "scattergl": [
           {
            "marker": {
             "colorbar": {
              "outlinewidth": 0,
              "ticks": ""
             }
            },
            "type": "scattergl"
           }
          ],
          "scattermapbox": [
           {
            "marker": {
             "colorbar": {
              "outlinewidth": 0,
              "ticks": ""
             }
            },
            "type": "scattermapbox"
           }
          ],
          "scatterpolar": [
           {
            "marker": {
             "colorbar": {
              "outlinewidth": 0,
              "ticks": ""
             }
            },
            "type": "scatterpolar"
           }
          ],
          "scatterpolargl": [
           {
            "marker": {
             "colorbar": {
              "outlinewidth": 0,
              "ticks": ""
             }
            },
            "type": "scatterpolargl"
           }
          ],
          "scatterternary": [
           {
            "marker": {
             "colorbar": {
              "outlinewidth": 0,
              "ticks": ""
             }
            },
            "type": "scatterternary"
           }
          ],
          "surface": [
           {
            "colorbar": {
             "outlinewidth": 0,
             "ticks": ""
            },
            "colorscale": [
             [
              0,
              "#0d0887"
             ],
             [
              0.1111111111111111,
              "#46039f"
             ],
             [
              0.2222222222222222,
              "#7201a8"
             ],
             [
              0.3333333333333333,
              "#9c179e"
             ],
             [
              0.4444444444444444,
              "#bd3786"
             ],
             [
              0.5555555555555556,
              "#d8576b"
             ],
             [
              0.6666666666666666,
              "#ed7953"
             ],
             [
              0.7777777777777778,
              "#fb9f3a"
             ],
             [
              0.8888888888888888,
              "#fdca26"
             ],
             [
              1,
              "#f0f921"
             ]
            ],
            "type": "surface"
           }
          ],
          "table": [
           {
            "cells": {
             "fill": {
              "color": "#EBF0F8"
             },
             "line": {
              "color": "white"
             }
            },
            "header": {
             "fill": {
              "color": "#C8D4E3"
             },
             "line": {
              "color": "white"
             }
            },
            "type": "table"
           }
          ]
         },
         "layout": {
          "annotationdefaults": {
           "arrowcolor": "#2a3f5f",
           "arrowhead": 0,
           "arrowwidth": 1
          },
          "autotypenumbers": "strict",
          "coloraxis": {
           "colorbar": {
            "outlinewidth": 0,
            "ticks": ""
           }
          },
          "colorscale": {
           "diverging": [
            [
             0,
             "#8e0152"
            ],
            [
             0.1,
             "#c51b7d"
            ],
            [
             0.2,
             "#de77ae"
            ],
            [
             0.3,
             "#f1b6da"
            ],
            [
             0.4,
             "#fde0ef"
            ],
            [
             0.5,
             "#f7f7f7"
            ],
            [
             0.6,
             "#e6f5d0"
            ],
            [
             0.7,
             "#b8e186"
            ],
            [
             0.8,
             "#7fbc41"
            ],
            [
             0.9,
             "#4d9221"
            ],
            [
             1,
             "#276419"
            ]
           ],
           "sequential": [
            [
             0,
             "#0d0887"
            ],
            [
             0.1111111111111111,
             "#46039f"
            ],
            [
             0.2222222222222222,
             "#7201a8"
            ],
            [
             0.3333333333333333,
             "#9c179e"
            ],
            [
             0.4444444444444444,
             "#bd3786"
            ],
            [
             0.5555555555555556,
             "#d8576b"
            ],
            [
             0.6666666666666666,
             "#ed7953"
            ],
            [
             0.7777777777777778,
             "#fb9f3a"
            ],
            [
             0.8888888888888888,
             "#fdca26"
            ],
            [
             1,
             "#f0f921"
            ]
           ],
           "sequentialminus": [
            [
             0,
             "#0d0887"
            ],
            [
             0.1111111111111111,
             "#46039f"
            ],
            [
             0.2222222222222222,
             "#7201a8"
            ],
            [
             0.3333333333333333,
             "#9c179e"
            ],
            [
             0.4444444444444444,
             "#bd3786"
            ],
            [
             0.5555555555555556,
             "#d8576b"
            ],
            [
             0.6666666666666666,
             "#ed7953"
            ],
            [
             0.7777777777777778,
             "#fb9f3a"
            ],
            [
             0.8888888888888888,
             "#fdca26"
            ],
            [
             1,
             "#f0f921"
            ]
           ]
          },
          "colorway": [
           "#636efa",
           "#EF553B",
           "#00cc96",
           "#ab63fa",
           "#FFA15A",
           "#19d3f3",
           "#FF6692",
           "#B6E880",
           "#FF97FF",
           "#FECB52"
          ],
          "font": {
           "color": "#2a3f5f"
          },
          "geo": {
           "bgcolor": "white",
           "lakecolor": "white",
           "landcolor": "#E5ECF6",
           "showlakes": true,
           "showland": true,
           "subunitcolor": "white"
          },
          "hoverlabel": {
           "align": "left"
          },
          "hovermode": "closest",
          "mapbox": {
           "style": "light"
          },
          "paper_bgcolor": "white",
          "plot_bgcolor": "#E5ECF6",
          "polar": {
           "angularaxis": {
            "gridcolor": "white",
            "linecolor": "white",
            "ticks": ""
           },
           "bgcolor": "#E5ECF6",
           "radialaxis": {
            "gridcolor": "white",
            "linecolor": "white",
            "ticks": ""
           }
          },
          "scene": {
           "xaxis": {
            "backgroundcolor": "#E5ECF6",
            "gridcolor": "white",
            "gridwidth": 2,
            "linecolor": "white",
            "showbackground": true,
            "ticks": "",
            "zerolinecolor": "white"
           },
           "yaxis": {
            "backgroundcolor": "#E5ECF6",
            "gridcolor": "white",
            "gridwidth": 2,
            "linecolor": "white",
            "showbackground": true,
            "ticks": "",
            "zerolinecolor": "white"
           },
           "zaxis": {
            "backgroundcolor": "#E5ECF6",
            "gridcolor": "white",
            "gridwidth": 2,
            "linecolor": "white",
            "showbackground": true,
            "ticks": "",
            "zerolinecolor": "white"
           }
          },
          "shapedefaults": {
           "line": {
            "color": "#2a3f5f"
           }
          },
          "ternary": {
           "aaxis": {
            "gridcolor": "white",
            "linecolor": "white",
            "ticks": ""
           },
           "baxis": {
            "gridcolor": "white",
            "linecolor": "white",
            "ticks": ""
           },
           "bgcolor": "#E5ECF6",
           "caxis": {
            "gridcolor": "white",
            "linecolor": "white",
            "ticks": ""
           }
          },
          "title": {
           "x": 0.05
          },
          "xaxis": {
           "automargin": true,
           "gridcolor": "white",
           "linecolor": "white",
           "ticks": "",
           "title": {
            "standoff": 15
           },
           "zerolinecolor": "white",
           "zerolinewidth": 2
          },
          "yaxis": {
           "automargin": true,
           "gridcolor": "white",
           "linecolor": "white",
           "ticks": "",
           "title": {
            "standoff": 15
           },
           "zerolinecolor": "white",
           "zerolinewidth": 2
          }
         }
        },
        "title": {
         "text": "Optimization History Plot"
        },
        "xaxis": {
         "title": {
          "text": "Trial"
         }
        },
        "yaxis": {
         "title": {
          "text": "Objective Value"
         }
        }
       }
      }
     },
     "metadata": {},
     "output_type": "display_data"
    }
   ],
   "source": [
    "optuna.visualization.plot_optimization_history(study)"
   ]
  },
  {
   "cell_type": "code",
   "execution_count": 78,
   "metadata": {},
   "outputs": [
    {
     "data": {
      "application/vnd.plotly.v1+json": {
       "config": {
        "plotlyServerURL": "https://plot.ly"
       },
       "data": [
        {
         "cliponaxis": false,
         "hovertemplate": [
          "num_leaves (IntDistribution): 0.007742691885900298<extra></extra>",
          "max_depth (IntDistribution): 0.008333874253641963<extra></extra>",
          "learning_rate (FloatDistribution): 0.034445372745605045<extra></extra>",
          "colsample_bytree (FloatDistribution): 0.10061717375211926<extra></extra>",
          "subsample (FloatDistribution): 0.30916235183273766<extra></extra>",
          "min_data_in_leaf (IntDistribution): 0.5396985355299958<extra></extra>"
         ],
         "name": "Objective Value",
         "orientation": "h",
         "text": [
          "<0.01",
          "<0.01",
          "0.03",
          "0.10",
          "0.31",
          "0.54"
         ],
         "textposition": "outside",
         "type": "bar",
         "x": [
          0.007742691885900298,
          0.008333874253641963,
          0.034445372745605045,
          0.10061717375211926,
          0.30916235183273766,
          0.5396985355299958
         ],
         "y": [
          "num_leaves",
          "max_depth",
          "learning_rate",
          "colsample_bytree",
          "subsample",
          "min_data_in_leaf"
         ]
        }
       ],
       "layout": {
        "template": {
         "data": {
          "bar": [
           {
            "error_x": {
             "color": "#2a3f5f"
            },
            "error_y": {
             "color": "#2a3f5f"
            },
            "marker": {
             "line": {
              "color": "#E5ECF6",
              "width": 0.5
             },
             "pattern": {
              "fillmode": "overlay",
              "size": 10,
              "solidity": 0.2
             }
            },
            "type": "bar"
           }
          ],
          "barpolar": [
           {
            "marker": {
             "line": {
              "color": "#E5ECF6",
              "width": 0.5
             },
             "pattern": {
              "fillmode": "overlay",
              "size": 10,
              "solidity": 0.2
             }
            },
            "type": "barpolar"
           }
          ],
          "carpet": [
           {
            "aaxis": {
             "endlinecolor": "#2a3f5f",
             "gridcolor": "white",
             "linecolor": "white",
             "minorgridcolor": "white",
             "startlinecolor": "#2a3f5f"
            },
            "baxis": {
             "endlinecolor": "#2a3f5f",
             "gridcolor": "white",
             "linecolor": "white",
             "minorgridcolor": "white",
             "startlinecolor": "#2a3f5f"
            },
            "type": "carpet"
           }
          ],
          "choropleth": [
           {
            "colorbar": {
             "outlinewidth": 0,
             "ticks": ""
            },
            "type": "choropleth"
           }
          ],
          "contour": [
           {
            "colorbar": {
             "outlinewidth": 0,
             "ticks": ""
            },
            "colorscale": [
             [
              0,
              "#0d0887"
             ],
             [
              0.1111111111111111,
              "#46039f"
             ],
             [
              0.2222222222222222,
              "#7201a8"
             ],
             [
              0.3333333333333333,
              "#9c179e"
             ],
             [
              0.4444444444444444,
              "#bd3786"
             ],
             [
              0.5555555555555556,
              "#d8576b"
             ],
             [
              0.6666666666666666,
              "#ed7953"
             ],
             [
              0.7777777777777778,
              "#fb9f3a"
             ],
             [
              0.8888888888888888,
              "#fdca26"
             ],
             [
              1,
              "#f0f921"
             ]
            ],
            "type": "contour"
           }
          ],
          "contourcarpet": [
           {
            "colorbar": {
             "outlinewidth": 0,
             "ticks": ""
            },
            "type": "contourcarpet"
           }
          ],
          "heatmap": [
           {
            "colorbar": {
             "outlinewidth": 0,
             "ticks": ""
            },
            "colorscale": [
             [
              0,
              "#0d0887"
             ],
             [
              0.1111111111111111,
              "#46039f"
             ],
             [
              0.2222222222222222,
              "#7201a8"
             ],
             [
              0.3333333333333333,
              "#9c179e"
             ],
             [
              0.4444444444444444,
              "#bd3786"
             ],
             [
              0.5555555555555556,
              "#d8576b"
             ],
             [
              0.6666666666666666,
              "#ed7953"
             ],
             [
              0.7777777777777778,
              "#fb9f3a"
             ],
             [
              0.8888888888888888,
              "#fdca26"
             ],
             [
              1,
              "#f0f921"
             ]
            ],
            "type": "heatmap"
           }
          ],
          "heatmapgl": [
           {
            "colorbar": {
             "outlinewidth": 0,
             "ticks": ""
            },
            "colorscale": [
             [
              0,
              "#0d0887"
             ],
             [
              0.1111111111111111,
              "#46039f"
             ],
             [
              0.2222222222222222,
              "#7201a8"
             ],
             [
              0.3333333333333333,
              "#9c179e"
             ],
             [
              0.4444444444444444,
              "#bd3786"
             ],
             [
              0.5555555555555556,
              "#d8576b"
             ],
             [
              0.6666666666666666,
              "#ed7953"
             ],
             [
              0.7777777777777778,
              "#fb9f3a"
             ],
             [
              0.8888888888888888,
              "#fdca26"
             ],
             [
              1,
              "#f0f921"
             ]
            ],
            "type": "heatmapgl"
           }
          ],
          "histogram": [
           {
            "marker": {
             "pattern": {
              "fillmode": "overlay",
              "size": 10,
              "solidity": 0.2
             }
            },
            "type": "histogram"
           }
          ],
          "histogram2d": [
           {
            "colorbar": {
             "outlinewidth": 0,
             "ticks": ""
            },
            "colorscale": [
             [
              0,
              "#0d0887"
             ],
             [
              0.1111111111111111,
              "#46039f"
             ],
             [
              0.2222222222222222,
              "#7201a8"
             ],
             [
              0.3333333333333333,
              "#9c179e"
             ],
             [
              0.4444444444444444,
              "#bd3786"
             ],
             [
              0.5555555555555556,
              "#d8576b"
             ],
             [
              0.6666666666666666,
              "#ed7953"
             ],
             [
              0.7777777777777778,
              "#fb9f3a"
             ],
             [
              0.8888888888888888,
              "#fdca26"
             ],
             [
              1,
              "#f0f921"
             ]
            ],
            "type": "histogram2d"
           }
          ],
          "histogram2dcontour": [
           {
            "colorbar": {
             "outlinewidth": 0,
             "ticks": ""
            },
            "colorscale": [
             [
              0,
              "#0d0887"
             ],
             [
              0.1111111111111111,
              "#46039f"
             ],
             [
              0.2222222222222222,
              "#7201a8"
             ],
             [
              0.3333333333333333,
              "#9c179e"
             ],
             [
              0.4444444444444444,
              "#bd3786"
             ],
             [
              0.5555555555555556,
              "#d8576b"
             ],
             [
              0.6666666666666666,
              "#ed7953"
             ],
             [
              0.7777777777777778,
              "#fb9f3a"
             ],
             [
              0.8888888888888888,
              "#fdca26"
             ],
             [
              1,
              "#f0f921"
             ]
            ],
            "type": "histogram2dcontour"
           }
          ],
          "mesh3d": [
           {
            "colorbar": {
             "outlinewidth": 0,
             "ticks": ""
            },
            "type": "mesh3d"
           }
          ],
          "parcoords": [
           {
            "line": {
             "colorbar": {
              "outlinewidth": 0,
              "ticks": ""
             }
            },
            "type": "parcoords"
           }
          ],
          "pie": [
           {
            "automargin": true,
            "type": "pie"
           }
          ],
          "scatter": [
           {
            "fillpattern": {
             "fillmode": "overlay",
             "size": 10,
             "solidity": 0.2
            },
            "type": "scatter"
           }
          ],
          "scatter3d": [
           {
            "line": {
             "colorbar": {
              "outlinewidth": 0,
              "ticks": ""
             }
            },
            "marker": {
             "colorbar": {
              "outlinewidth": 0,
              "ticks": ""
             }
            },
            "type": "scatter3d"
           }
          ],
          "scattercarpet": [
           {
            "marker": {
             "colorbar": {
              "outlinewidth": 0,
              "ticks": ""
             }
            },
            "type": "scattercarpet"
           }
          ],
          "scattergeo": [
           {
            "marker": {
             "colorbar": {
              "outlinewidth": 0,
              "ticks": ""
             }
            },
            "type": "scattergeo"
           }
          ],
          "scattergl": [
           {
            "marker": {
             "colorbar": {
              "outlinewidth": 0,
              "ticks": ""
             }
            },
            "type": "scattergl"
           }
          ],
          "scattermapbox": [
           {
            "marker": {
             "colorbar": {
              "outlinewidth": 0,
              "ticks": ""
             }
            },
            "type": "scattermapbox"
           }
          ],
          "scatterpolar": [
           {
            "marker": {
             "colorbar": {
              "outlinewidth": 0,
              "ticks": ""
             }
            },
            "type": "scatterpolar"
           }
          ],
          "scatterpolargl": [
           {
            "marker": {
             "colorbar": {
              "outlinewidth": 0,
              "ticks": ""
             }
            },
            "type": "scatterpolargl"
           }
          ],
          "scatterternary": [
           {
            "marker": {
             "colorbar": {
              "outlinewidth": 0,
              "ticks": ""
             }
            },
            "type": "scatterternary"
           }
          ],
          "surface": [
           {
            "colorbar": {
             "outlinewidth": 0,
             "ticks": ""
            },
            "colorscale": [
             [
              0,
              "#0d0887"
             ],
             [
              0.1111111111111111,
              "#46039f"
             ],
             [
              0.2222222222222222,
              "#7201a8"
             ],
             [
              0.3333333333333333,
              "#9c179e"
             ],
             [
              0.4444444444444444,
              "#bd3786"
             ],
             [
              0.5555555555555556,
              "#d8576b"
             ],
             [
              0.6666666666666666,
              "#ed7953"
             ],
             [
              0.7777777777777778,
              "#fb9f3a"
             ],
             [
              0.8888888888888888,
              "#fdca26"
             ],
             [
              1,
              "#f0f921"
             ]
            ],
            "type": "surface"
           }
          ],
          "table": [
           {
            "cells": {
             "fill": {
              "color": "#EBF0F8"
             },
             "line": {
              "color": "white"
             }
            },
            "header": {
             "fill": {
              "color": "#C8D4E3"
             },
             "line": {
              "color": "white"
             }
            },
            "type": "table"
           }
          ]
         },
         "layout": {
          "annotationdefaults": {
           "arrowcolor": "#2a3f5f",
           "arrowhead": 0,
           "arrowwidth": 1
          },
          "autotypenumbers": "strict",
          "coloraxis": {
           "colorbar": {
            "outlinewidth": 0,
            "ticks": ""
           }
          },
          "colorscale": {
           "diverging": [
            [
             0,
             "#8e0152"
            ],
            [
             0.1,
             "#c51b7d"
            ],
            [
             0.2,
             "#de77ae"
            ],
            [
             0.3,
             "#f1b6da"
            ],
            [
             0.4,
             "#fde0ef"
            ],
            [
             0.5,
             "#f7f7f7"
            ],
            [
             0.6,
             "#e6f5d0"
            ],
            [
             0.7,
             "#b8e186"
            ],
            [
             0.8,
             "#7fbc41"
            ],
            [
             0.9,
             "#4d9221"
            ],
            [
             1,
             "#276419"
            ]
           ],
           "sequential": [
            [
             0,
             "#0d0887"
            ],
            [
             0.1111111111111111,
             "#46039f"
            ],
            [
             0.2222222222222222,
             "#7201a8"
            ],
            [
             0.3333333333333333,
             "#9c179e"
            ],
            [
             0.4444444444444444,
             "#bd3786"
            ],
            [
             0.5555555555555556,
             "#d8576b"
            ],
            [
             0.6666666666666666,
             "#ed7953"
            ],
            [
             0.7777777777777778,
             "#fb9f3a"
            ],
            [
             0.8888888888888888,
             "#fdca26"
            ],
            [
             1,
             "#f0f921"
            ]
           ],
           "sequentialminus": [
            [
             0,
             "#0d0887"
            ],
            [
             0.1111111111111111,
             "#46039f"
            ],
            [
             0.2222222222222222,
             "#7201a8"
            ],
            [
             0.3333333333333333,
             "#9c179e"
            ],
            [
             0.4444444444444444,
             "#bd3786"
            ],
            [
             0.5555555555555556,
             "#d8576b"
            ],
            [
             0.6666666666666666,
             "#ed7953"
            ],
            [
             0.7777777777777778,
             "#fb9f3a"
            ],
            [
             0.8888888888888888,
             "#fdca26"
            ],
            [
             1,
             "#f0f921"
            ]
           ]
          },
          "colorway": [
           "#636efa",
           "#EF553B",
           "#00cc96",
           "#ab63fa",
           "#FFA15A",
           "#19d3f3",
           "#FF6692",
           "#B6E880",
           "#FF97FF",
           "#FECB52"
          ],
          "font": {
           "color": "#2a3f5f"
          },
          "geo": {
           "bgcolor": "white",
           "lakecolor": "white",
           "landcolor": "#E5ECF6",
           "showlakes": true,
           "showland": true,
           "subunitcolor": "white"
          },
          "hoverlabel": {
           "align": "left"
          },
          "hovermode": "closest",
          "mapbox": {
           "style": "light"
          },
          "paper_bgcolor": "white",
          "plot_bgcolor": "#E5ECF6",
          "polar": {
           "angularaxis": {
            "gridcolor": "white",
            "linecolor": "white",
            "ticks": ""
           },
           "bgcolor": "#E5ECF6",
           "radialaxis": {
            "gridcolor": "white",
            "linecolor": "white",
            "ticks": ""
           }
          },
          "scene": {
           "xaxis": {
            "backgroundcolor": "#E5ECF6",
            "gridcolor": "white",
            "gridwidth": 2,
            "linecolor": "white",
            "showbackground": true,
            "ticks": "",
            "zerolinecolor": "white"
           },
           "yaxis": {
            "backgroundcolor": "#E5ECF6",
            "gridcolor": "white",
            "gridwidth": 2,
            "linecolor": "white",
            "showbackground": true,
            "ticks": "",
            "zerolinecolor": "white"
           },
           "zaxis": {
            "backgroundcolor": "#E5ECF6",
            "gridcolor": "white",
            "gridwidth": 2,
            "linecolor": "white",
            "showbackground": true,
            "ticks": "",
            "zerolinecolor": "white"
           }
          },
          "shapedefaults": {
           "line": {
            "color": "#2a3f5f"
           }
          },
          "ternary": {
           "aaxis": {
            "gridcolor": "white",
            "linecolor": "white",
            "ticks": ""
           },
           "baxis": {
            "gridcolor": "white",
            "linecolor": "white",
            "ticks": ""
           },
           "bgcolor": "#E5ECF6",
           "caxis": {
            "gridcolor": "white",
            "linecolor": "white",
            "ticks": ""
           }
          },
          "title": {
           "x": 0.05
          },
          "xaxis": {
           "automargin": true,
           "gridcolor": "white",
           "linecolor": "white",
           "ticks": "",
           "title": {
            "standoff": 15
           },
           "zerolinecolor": "white",
           "zerolinewidth": 2
          },
          "yaxis": {
           "automargin": true,
           "gridcolor": "white",
           "linecolor": "white",
           "ticks": "",
           "title": {
            "standoff": 15
           },
           "zerolinecolor": "white",
           "zerolinewidth": 2
          }
         }
        },
        "title": {
         "text": "Hyperparameter Importances"
        },
        "xaxis": {
         "title": {
          "text": "Hyperparameter Importance"
         }
        },
        "yaxis": {
         "title": {
          "text": "Hyperparameter"
         }
        }
       }
      }
     },
     "metadata": {},
     "output_type": "display_data"
    }
   ],
   "source": [
    "optuna.visualization.plot_param_importances(study)"
   ]
  },
  {
   "cell_type": "code",
   "execution_count": 79,
   "metadata": {},
   "outputs": [
    {
     "data": {
      "application/vnd.plotly.v1+json": {
       "config": {
        "plotlyServerURL": "https://plot.ly"
       },
       "data": [
        {
         "hovertemplate": "%{hovertext}<extra></extra>",
         "hovertext": [
          "Trial #0<br>max_depth: 3<br>learning_rate: 0.016373611291886372<br>num_leaves: 525<br>subsample: 0.116184775871365<br>colsample_bytree: 0.8162044237354343<br>min_data_in_leaf: 35<br><b>Objective Value: 0.35617528868555237</b>",
          "Trial #1<br>max_depth: 5<br>learning_rate: 0.04198985069796406<br>num_leaves: 210<br>subsample: 0.6278194996354467<br>colsample_bytree: 0.07257157821623013<br>min_data_in_leaf: 45<br><b>Objective Value: 0.22261943033281756</b>",
          "Trial #2<br>max_depth: 5<br>learning_rate: 0.010832182498941422<br>num_leaves: 64<br>subsample: 0.16230429116770628<br>colsample_bytree: 0.3490806136094307<br>min_data_in_leaf: 6<br><b>Objective Value: 0.13366727687094426</b>",
          "Trial #3<br>max_depth: 3<br>learning_rate: 0.0013550585437992594<br>num_leaves: 225<br>subsample: 0.588140011276406<br>colsample_bytree: 0.152409768186883<br>min_data_in_leaf: 48<br><b>Objective Value: 0.31678643182863697</b>",
          "Trial #4<br>max_depth: 6<br>learning_rate: 0.09913364720475172<br>num_leaves: 847<br>subsample: 0.19535540826487946<br>colsample_bytree: 0.9944510115599653<br>min_data_in_leaf: 49<br><b>Objective Value: 0.3289412584364942</b>",
          "Trial #5<br>max_depth: 4<br>learning_rate: 0.011564548932495098<br>num_leaves: 487<br>subsample: 0.6698944458571542<br>colsample_bytree: 0.30168977212633497<br>min_data_in_leaf: 34<br><b>Objective Value: 0.14752180959035063</b>",
          "Trial #6<br>max_depth: 5<br>learning_rate: 0.0023158541859498154<br>num_leaves: 750<br>subsample: 0.63426104030348<br>colsample_bytree: 0.1395741550294213<br>min_data_in_leaf: 48<br><b>Objective Value: 0.2799130753878435</b>",
          "Trial #7<br>max_depth: 5<br>learning_rate: 0.004111111585047848<br>num_leaves: 865<br>subsample: 0.8224904988035151<br>colsample_bytree: 0.3976484051264879<br>min_data_in_leaf: 20<br><b>Objective Value: 0.14159648135101754</b>",
          "Trial #8<br>max_depth: 5<br>learning_rate: 0.0014042813867371066<br>num_leaves: 66<br>subsample: 0.05508893795759802<br>colsample_bytree: 0.861516135783903<br>min_data_in_leaf: 37<br><b>Objective Value: 0.40316278783723886</b>",
          "Trial #9<br>max_depth: 4<br>learning_rate: 0.0038670858109036326<br>num_leaves: 146<br>subsample: 0.7237137095871693<br>colsample_bytree: 0.3779449741530888<br>min_data_in_leaf: 36<br><b>Objective Value: 0.15427295506048672</b>",
          "Trial #10<br>max_depth: 7<br>learning_rate: 0.025930291625472914<br>num_leaves: 399<br>subsample: 0.3473572867819754<br>colsample_bytree: 0.6065831088349424<br>min_data_in_leaf: 1<br><b>Objective Value: 0.12750597160869173</b>",
          "Trial #11<br>max_depth: 7<br>learning_rate: 0.02245531528987732<br>num_leaves: 416<br>subsample: 0.33188329520590965<br>colsample_bytree: 0.6285169830264183<br>min_data_in_leaf: 3<br><b>Objective Value: 0.1313657413534424</b>",
          "Trial #12<br>max_depth: 7<br>learning_rate: 0.027190572488529772<br>num_leaves: 452<br>subsample: 0.37796046560578384<br>colsample_bytree: 0.6315966689185385<br>min_data_in_leaf: 1<br><b>Objective Value: 0.1322050977213978</b>",
          "Trial #13<br>max_depth: 7<br>learning_rate: 0.048013195964417714<br>num_leaves: 344<br>subsample: 0.39088708858910454<br>colsample_bytree: 0.5958479998102213<br>min_data_in_leaf: 13<br><b>Objective Value: 0.13774303835937166</b>",
          "Trial #14<br>max_depth: 7<br>learning_rate: 0.022208453779825884<br>num_leaves: 646<br>subsample: 0.39918636133420615<br>colsample_bytree: 0.715781327273698<br>min_data_in_leaf: 11<br><b>Objective Value: 0.13041392619217357</b>",
          "Trial #15<br>max_depth: 6<br>learning_rate: 0.005965093695802181<br>num_leaves: 635<br>subsample: 0.4943353358689292<br>colsample_bytree: 0.7528132891578572<br>min_data_in_leaf: 11<br><b>Objective Value: 0.12552876298441668</b>",
          "Trial #16<br>max_depth: 6<br>learning_rate: 0.0060229763602604874<br>num_leaves: 1008<br>subsample: 0.4947196296439692<br>colsample_bytree: 0.7776359014013703<br>min_data_in_leaf: 17<br><b>Objective Value: 0.12800066067627908</b>",
          "Trial #17<br>max_depth: 6<br>learning_rate: 0.007159090422992727<br>num_leaves: 636<br>subsample: 0.9872708842033355<br>colsample_bytree: 0.5191337941169847<br>min_data_in_leaf: 25<br><b>Objective Value: 0.13281464949259908</b>",
          "Trial #18<br>max_depth: 6<br>learning_rate: 0.0477346184762044<br>num_leaves: 605<br>subsample: 0.26399785377555157<br>colsample_bytree: 0.9312945354174995<br>min_data_in_leaf: 6<br><b>Objective Value: 0.1288704417407785</b>",
          "Trial #19<br>max_depth: 6<br>learning_rate: 0.09411791950962567<br>num_leaves: 332<br>subsample: 0.5059821013217489<br>colsample_bytree: 0.5065015231511892<br>min_data_in_leaf: 11<br><b>Objective Value: 0.1351287379447888</b>",
          "Trial #20<br>max_depth: 7<br>learning_rate: 0.0028763795275551915<br>num_leaves: 747<br>subsample: 0.4644736922743977<br>colsample_bytree: 0.7096944401846672<br>min_data_in_leaf: 24<br><b>Objective Value: 0.1505986102335474</b>",
          "Trial #21<br>max_depth: 6<br>learning_rate: 0.006139158171523354<br>num_leaves: 954<br>subsample: 0.4854120529980385<br>colsample_bytree: 0.7730834974989206<br>min_data_in_leaf: 17<br><b>Objective Value: 0.12883211508236397</b>",
          "Trial #22<br>max_depth: 6<br>learning_rate: 0.006291703181519206<br>num_leaves: 1014<br>subsample: 0.272565937850444<br>colsample_bytree: 0.7227298692024934<br>min_data_in_leaf: 16<br><b>Objective Value: 0.1491679682108586</b>",
          "Trial #23<br>max_depth: 7<br>learning_rate: 0.008986090227363243<br>num_leaves: 739<br>subsample: 0.5394374773332729<br>colsample_bytree: 0.8664680121843389<br>min_data_in_leaf: 7<br><b>Objective Value: 0.12285720756554834</b>",
          "Trial #24<br>max_depth: 7<br>learning_rate: 0.01369258280893895<br>num_leaves: 734<br>subsample: 0.5674076380113324<br>colsample_bytree: 0.8994871750719634<br>min_data_in_leaf: 7<br><b>Objective Value: 0.12263732244761916</b>",
          "Trial #25<br>max_depth: 7<br>learning_rate: 0.00995209184866025<br>num_leaves: 738<br>subsample: 0.76730003867493<br>colsample_bytree: 0.8946246865471349<br>min_data_in_leaf: 7<br><b>Objective Value: 0.12135835005755242</b>",
          "Trial #26<br>max_depth: 7<br>learning_rate: 0.014480082609590895<br>num_leaves: 750<br>subsample: 0.8089615151746876<br>colsample_bytree: 0.9072097345397101<br>min_data_in_leaf: 7<br><b>Objective Value: 0.12164013870967168</b>",
          "Trial #27<br>max_depth: 7<br>learning_rate: 0.014757053020411746<br>num_leaves: 830<br>subsample: 0.8536792631306578<br>colsample_bytree: 0.9913662038262046<br>min_data_in_leaf: 7<br><b>Objective Value: 0.12069184280721104</b>",
          "Trial #28<br>max_depth: 7<br>learning_rate: 0.0168550001040522<br>num_leaves: 844<br>subsample: 0.8779324642180163<br>colsample_bytree: 0.9386453443296081<br>min_data_in_leaf: 30<br><b>Objective Value: 0.12963349658424406</b>",
          "Trial #29<br>max_depth: 7<br>learning_rate: 0.016961670532821847<br>num_leaves: 553<br>subsample: 0.7913532831781627<br>colsample_bytree: 0.9910181419489675<br>min_data_in_leaf: 22<br><b>Objective Value: 0.12505928424282103</b>",
          "Trial #30<br>max_depth: 3<br>learning_rate: 0.035110409938119376<br>num_leaves: 930<br>subsample: 0.9710569967245275<br>colsample_bytree: 0.8097423787795417<br>min_data_in_leaf: 13<br><b>Objective Value: 0.12458251423921225</b>",
          "Trial #31<br>max_depth: 7<br>learning_rate: 0.01615812287489651<br>num_leaves: 710<br>subsample: 0.9011937114194356<br>colsample_bytree: 0.8945173951341538<br>min_data_in_leaf: 8<br><b>Objective Value: 0.12314113637410573</b>",
          "Trial #32<br>max_depth: 7<br>learning_rate: 0.014058630654991714<br>num_leaves: 813<br>subsample: 0.7356146051566471<br>colsample_bytree: 0.9250994240803234<br>min_data_in_leaf: 4<br><b>Objective Value: 0.12260229182984143</b>",
          "Trial #33<br>max_depth: 7<br>learning_rate: 0.008837066787048766<br>num_leaves: 807<br>subsample: 0.7544491813095897<br>colsample_bytree: 0.8356692701425597<br>min_data_in_leaf: 4<br><b>Objective Value: 0.12325495074513389</b>",
          "Trial #34<br>max_depth: 7<br>learning_rate: 0.01317779510002816<br>num_leaves: 808<br>subsample: 0.8609837518226796<br>colsample_bytree: 0.9555410356397093<br>min_data_in_leaf: 9<br><b>Objective Value: 0.1218291475645645</b>",
          "Trial #35<br>max_depth: 6<br>learning_rate: 0.011258437959079461<br>num_leaves: 926<br>subsample: 0.8769901105574618<br>colsample_bytree: 0.9969322950042835<br>min_data_in_leaf: 9<br><b>Objective Value: 0.12098859434740125</b>",
          "Trial #36<br>max_depth: 6<br>learning_rate: 0.008815598161305659<br>num_leaves: 924<br>subsample: 0.9277551449221286<br>colsample_bytree: 0.9954551872969295<br>min_data_in_leaf: 14<br><b>Objective Value: 0.11945570816054252</b>",
          "Trial #37<br>max_depth: 5<br>learning_rate: 0.009785403312099178<br>num_leaves: 923<br>subsample: 0.9249742722267988<br>colsample_bytree: 0.965699004813939<br>min_data_in_leaf: 19<br><b>Objective Value: 0.12098325130630198</b>",
          "Trial #38<br>max_depth: 5<br>learning_rate: 0.009089139833732001<br>num_leaves: 906<br>subsample: 0.9539747888218837<br>colsample_bytree: 0.9992744780915291<br>min_data_in_leaf: 19<br><b>Objective Value: 0.12056410779098892</b>",
          "Trial #39<br>max_depth: 4<br>learning_rate: 0.007883557287033188<br>num_leaves: 894<br>subsample: 0.9437094403494206<br>colsample_bytree: 0.9994402736704269<br>min_data_in_leaf: 20<br><b>Objective Value: 0.12019175640112487</b>",
          "Trial #40<br>max_depth: 4<br>learning_rate: 0.004495500350749336<br>num_leaves: 878<br>subsample: 0.9439536524658358<br>colsample_bytree: 0.8404588642200583<br>min_data_in_leaf: 28<br><b>Objective Value: 0.12748305886835007</b>",
          "Trial #41<br>max_depth: 5<br>learning_rate: 0.00798334413408701<br>num_leaves: 949<br>subsample: 0.9320143636129627<br>colsample_bytree: 0.9656602999058141<br>min_data_in_leaf: 19<br><b>Objective Value: 0.12068790244331506</b>",
          "Trial #42<br>max_depth: 4<br>learning_rate: 0.007794596872912312<br>num_leaves: 976<br>subsample: 0.9954937537643578<br>colsample_bytree: 0.994289898679822<br>min_data_in_leaf: 21<br><b>Objective Value: 0.12094322955950754</b>",
          "Trial #43<br>max_depth: 5<br>learning_rate: 0.0047481481493234735<br>num_leaves: 879<br>subsample: 0.8414612216822689<br>colsample_bytree: 0.23372057543006397<br>min_data_in_leaf: 15<br><b>Objective Value: 0.15949830535958834</b>",
          "Trial #44<br>max_depth: 5<br>learning_rate: 0.007931045783924744<br>num_leaves: 892<br>subsample: 0.6939086628480986<br>colsample_bytree: 0.943019667605578<br>min_data_in_leaf: 23<br><b>Objective Value: 0.1256244744683664</b>",
          "Trial #45<br>max_depth: 4<br>learning_rate: 0.00341729133056169<br>num_leaves: 972<br>subsample: 0.9385720250729958<br>colsample_bytree: 0.99810044763457<br>min_data_in_leaf: 19<br><b>Objective Value: 0.12076401790283131</b>",
          "Trial #46<br>max_depth: 5<br>learning_rate: 0.005070939770369199<br>num_leaves: 829<br>subsample: 0.9019385433565816<br>colsample_bytree: 0.8670958826311231<br>min_data_in_leaf: 28<br><b>Objective Value: 0.12598972988201954</b>",
          "Trial #47<br>max_depth: 3<br>learning_rate: 0.0017036315729611802<br>num_leaves: 1024<br>subsample: 0.9461114319783314<br>colsample_bytree: 0.8113829256365093<br>min_data_in_leaf: 14<br><b>Objective Value: 0.14424943477050262</b>",
          "Trial #48<br>max_depth: 4<br>learning_rate: 0.02181188362258904<br>num_leaves: 907<br>subsample: 0.8216268651822553<br>colsample_bytree: 0.9573345049204413<br>min_data_in_leaf: 18<br><b>Objective Value: 0.12446866927116387</b>",
          "Trial #49<br>max_depth: 5<br>learning_rate: 0.012022339507546045<br>num_leaves: 790<br>subsample: 0.9054417610578664<br>colsample_bytree: 0.06603294251768443<br>min_data_in_leaf: 21<br><b>Objective Value: 0.1978284839152898</b>",
          "Trial #50<br>max_depth: 5<br>learning_rate: 0.003161119712600485<br>num_leaves: 853<br>subsample: 0.6325827146647257<br>colsample_bytree: 0.43479940812161855<br>min_data_in_leaf: 40<br><b>Objective Value: 0.21171016696129635</b>",
          "Trial #51<br>max_depth: 4<br>learning_rate: 0.002246853047928493<br>num_leaves: 963<br>subsample: 0.953050760673341<br>colsample_bytree: 0.9992676848629046<br>min_data_in_leaf: 19<br><b>Objective Value: 0.1268586602054144</b>",
          "Trial #52<br>max_depth: 4<br>learning_rate: 0.003364221521746919<br>num_leaves: 985<br>subsample: 0.8525464034641719<br>colsample_bytree: 0.9654256467838114<br>min_data_in_leaf: 26<br><b>Objective Value: 0.12565970566023904</b>",
          "Trial #53<br>max_depth: 4<br>learning_rate: 0.006906459170261311<br>num_leaves: 950<br>subsample: 0.9989982281200498<br>colsample_bytree: 0.9148397798830931<br>min_data_in_leaf: 12<br><b>Objective Value: 0.12053088030782858</b>",
          "Trial #54<br>max_depth: 3<br>learning_rate: 0.007117038809480757<br>num_leaves: 934<br>subsample: 0.9728208123994165<br>colsample_bytree: 0.8702410870578756<br>min_data_in_leaf: 13<br><b>Objective Value: 0.11994524202971073</b>",
          "Trial #55<br>max_depth: 3<br>learning_rate: 0.006888686865258972<br>num_leaves: 679<br>subsample: 0.9774252172657771<br>colsample_bytree: 0.8609305376557165<br>min_data_in_leaf: 12<br><b>Objective Value: 0.11983271579340393</b>",
          "Trial #56<br>max_depth: 3<br>learning_rate: 0.005329988250867362<br>num_leaves: 898<br>subsample: 0.9873302834468113<br>colsample_bytree: 0.6586630662481733<br>min_data_in_leaf: 12<br><b>Objective Value: 0.12579539558007974</b>",
          "Trial #57<br>max_depth: 3<br>learning_rate: 0.006457712876750343<br>num_leaves: 21<br>subsample: 0.9935582405682164<br>colsample_bytree: 0.8657612702995039<br>min_data_in_leaf: 15<br><b>Objective Value: 0.12042275401611022</b>",
          "Trial #58<br>max_depth: 3<br>learning_rate: 0.003998026363002764<br>num_leaves: 212<br>subsample: 0.9990195927677478<br>colsample_bytree: 0.7891344027149162<br>min_data_in_leaf: 16<br><b>Objective Value: 0.12429440233681928</b>",
          "Trial #59<br>max_depth: 3<br>learning_rate: 0.006092567620775311<br>num_leaves: 140<br>subsample: 0.8970556625643102<br>colsample_bytree: 0.8533416972430871<br>min_data_in_leaf: 10<br><b>Objective Value: 0.11998886859008065</b>",
          "Trial #60<br>max_depth: 3<br>learning_rate: 0.005643374694153548<br>num_leaves: 28<br>subsample: 0.8990527931063749<br>colsample_bytree: 0.73924947079216<br>min_data_in_leaf: 10<br><b>Objective Value: 0.12252994344340444</b>",
          "Trial #61<br>max_depth: 3<br>learning_rate: 0.006825604416951366<br>num_leaves: 149<br>subsample: 0.9629433046392765<br>colsample_bytree: 0.8718224318689928<br>min_data_in_leaf: 14<br><b>Objective Value: 0.11993661294045807</b>",
          "Trial #62<br>max_depth: 3<br>learning_rate: 0.006955863831313109<br>num_leaves: 131<br>subsample: 0.9656978489379451<br>colsample_bytree: 0.6804072053851342<br>min_data_in_leaf: 14<br><b>Objective Value: 0.12453685834668382</b>",
          "Trial #63<br>max_depth: 3<br>learning_rate: 0.004451837394128328<br>num_leaves: 145<br>subsample: 0.9191924143831492<br>colsample_bytree: 0.8615743959020297<br>min_data_in_leaf: 15<br><b>Objective Value: 0.12057491348619917</b>",
          "Trial #64<br>max_depth: 3<br>learning_rate: 0.006459386020969158<br>num_leaves: 97<br>subsample: 0.879681070544484<br>colsample_bytree: 0.5694856222256293<br>min_data_in_leaf: 10<br><b>Objective Value: 0.12743158639337798</b>",
          "Trial #65<br>max_depth: 3<br>learning_rate: 0.010594132274730264<br>num_leaves: 64<br>subsample: 0.7918930815786519<br>colsample_bytree: 0.8831702863695414<br>min_data_in_leaf: 13<br><b>Objective Value: 0.12099352676228792</b>",
          "Trial #66<br>max_depth: 3<br>learning_rate: 0.002659414275889521<br>num_leaves: 247<br>subsample: 0.9708247347869006<br>colsample_bytree: 0.8328210472156837<br>min_data_in_leaf: 16<br><b>Objective Value: 0.1275942728200548</b>",
          "Trial #67<br>max_depth: 3<br>learning_rate: 0.005353481215811704<br>num_leaves: 261<br>subsample: 0.8371748405473498<br>colsample_bytree: 0.7505760530688511<br>min_data_in_leaf: 17<br><b>Objective Value: 0.12333429395205067</b>",
          "Trial #68<br>max_depth: 3<br>learning_rate: 0.007985366927880837<br>num_leaves: 35<br>subsample: 0.9175477744512632<br>colsample_bytree: 0.7967018936269187<br>min_data_in_leaf: 11<br><b>Objective Value: 0.12093883580734854</b>",
          "Trial #69<br>max_depth: 3<br>learning_rate: 0.006291843457550706<br>num_leaves: 182<br>subsample: 0.1372974613085251<br>colsample_bytree: 0.9185412741007304<br>min_data_in_leaf: 14<br><b>Objective Value: 0.20038308870921862</b>",
          "Trial #70<br>max_depth: 3<br>learning_rate: 0.0037436091577099876<br>num_leaves: 343<br>subsample: 0.44077947769647563<br>colsample_bytree: 0.7717995576417909<br>min_data_in_leaf: 5<br><b>Objective Value: 0.12434322915940299</b>",
          "Trial #71<br>max_depth: 4<br>learning_rate: 0.0069345266585400175<br>num_leaves: 694<br>subsample: 0.9978908527151837<br>colsample_bytree: 0.9146618683821081<br>min_data_in_leaf: 13<br><b>Objective Value: 0.12088003162373114</b>",
          "Trial #72<br>max_depth: 3<br>learning_rate: 0.008830515308755971<br>num_leaves: 108<br>subsample: 0.9688043983454199<br>colsample_bytree: 0.841157455140424<br>min_data_in_leaf: 12<br><b>Objective Value: 0.12088524599213486</b>",
          "Trial #73<br>max_depth: 4<br>learning_rate: 0.007356378933623697<br>num_leaves: 521<br>subsample: 0.8837930725729477<br>colsample_bytree: 0.8807119230727277<br>min_data_in_leaf: 10<br><b>Objective Value: 0.12042082076583775</b>",
          "Trial #74<br>max_depth: 3<br>learning_rate: 0.01099620384588571<br>num_leaves: 519<br>subsample: 0.8777935295239444<br>colsample_bytree: 0.8760275698199518<br>min_data_in_leaf: 9<br><b>Objective Value: 0.11970155007617864</b>",
          "Trial #75<br>max_depth: 3<br>learning_rate: 0.010931027069809257<br>num_leaves: 511<br>subsample: 0.8769625948101888<br>colsample_bytree: 0.8923325483373697<br>min_data_in_leaf: 8<br><b>Objective Value: 0.11992123827167238</b>",
          "Trial #76<br>max_depth: 3<br>learning_rate: 0.01202085033002442<br>num_leaves: 574<br>subsample: 0.8708873654818385<br>colsample_bytree: 0.8382392886513009<br>min_data_in_leaf: 2<br><b>Objective Value: 0.12280394292278822</b>",
          "Trial #77<br>max_depth: 3<br>learning_rate: 0.010615916882325053<br>num_leaves: 477<br>subsample: 0.7733532365166005<br>colsample_bytree: 0.9401362249453834<br>min_data_in_leaf: 8<br><b>Objective Value: 0.11988769333318938</b>",
          "Trial #78<br>max_depth: 3<br>learning_rate: 0.01941797270610922<br>num_leaves: 427<br>subsample: 0.7845236120036736<br>colsample_bytree: 0.10494612241074508<br>min_data_in_leaf: 5<br><b>Objective Value: 0.17352486966281933</b>",
          "Trial #79<br>max_depth: 3<br>learning_rate: 0.010495611633240172<br>num_leaves: 476<br>subsample: 0.751209824632912<br>colsample_bytree: 0.9346394368243635<br>min_data_in_leaf: 6<br><b>Objective Value: 0.12024743519278751</b>",
          "Trial #80<br>max_depth: 3<br>learning_rate: 0.009215205681405568<br>num_leaves: 368<br>subsample: 0.6719853267204476<br>colsample_bytree: 0.8864891784287356<br>min_data_in_leaf: 8<br><b>Objective Value: 0.1204155915686738</b>",
          "Trial #81<br>max_depth: 3<br>learning_rate: 0.012729613630833355<br>num_leaves: 489<br>subsample: 0.8151967882297105<br>colsample_bytree: 0.9487808176045162<br>min_data_in_leaf: 8<br><b>Objective Value: 0.12005568284801185</b>",
          "Trial #82<br>max_depth: 3<br>learning_rate: 0.012568741316240535<br>num_leaves: 494<br>subsample: 0.8282653957507697<br>colsample_bytree: 0.8159855827219415<br>min_data_in_leaf: 9<br><b>Objective Value: 0.12120408834465277</b>",
          "Trial #83<br>max_depth: 3<br>learning_rate: 0.016384729567177715<br>num_leaves: 294<br>subsample: 0.8165217752494196<br>colsample_bytree: 0.8987005880677689<br>min_data_in_leaf: 3<br><b>Objective Value: 0.12146549209696511</b>",
          "Trial #84<br>max_depth: 3<br>learning_rate: 0.011088257236120178<br>num_leaves: 560<br>subsample: 0.7134279789640883<br>colsample_bytree: 0.9393506780655958<br>min_data_in_leaf: 8<br><b>Objective Value: 0.12043019479551005</b>",
          "Trial #85<br>max_depth: 3<br>learning_rate: 0.009931522835058807<br>num_leaves: 599<br>subsample: 0.8514841772695647<br>colsample_bytree: 0.9621369101543733<br>min_data_in_leaf: 5<br><b>Objective Value: 0.12013805043374774</b>",
          "Trial #86<br>max_depth: 3<br>learning_rate: 0.014862108425736082<br>num_leaves: 673<br>subsample: 0.9289687168506173<br>colsample_bytree: 0.8489648953818334<br>min_data_in_leaf: 11<br><b>Objective Value: 0.12141818554997122</b>",
          "Trial #87<br>max_depth: 3<br>learning_rate: 0.0762440878926557<br>num_leaves: 442<br>subsample: 0.8891917661941601<br>colsample_bytree: 0.9060839187219631<br>min_data_in_leaf: 8<br><b>Objective Value: 0.12425505683585616</b>",
          "Trial #88<br>max_depth: 3<br>learning_rate: 0.019728210561480032<br>num_leaves: 183<br>subsample: 0.8022853443353246<br>colsample_bytree: 0.30586334109695756<br>min_data_in_leaf: 1<br><b>Objective Value: 0.13848201934158325</b>",
          "Trial #89<br>max_depth: 3<br>learning_rate: 0.013557531835310346<br>num_leaves: 469<br>subsample: 0.5796341248046002<br>colsample_bytree: 0.9771856356846663<br>min_data_in_leaf: 6<br><b>Objective Value: 0.12030137257750424</b>",
          "Trial #90<br>max_depth: 3<br>learning_rate: 0.008617329039662076<br>num_leaves: 404<br>subsample: 0.8627528732589411<br>colsample_bytree: 0.875408342472098<br>min_data_in_leaf: 9<br><b>Objective Value: 0.11941304753332087</b>",
          "Trial #91<br>max_depth: 3<br>learning_rate: 0.008525422161967654<br>num_leaves: 384<br>subsample: 0.9120437543588611<br>colsample_bytree: 0.9398889996693455<br>min_data_in_leaf: 9<br><b>Objective Value: 0.11878902238632572</b>",
          "Trial #92<br>max_depth: 3<br>learning_rate: 0.008621864437749548<br>num_leaves: 374<br>subsample: 0.9137327065000836<br>colsample_bytree: 0.8145413431822411<br>min_data_in_leaf: 10<br><b>Objective Value: 0.12090633013650973</b>",
          "Trial #93<br>max_depth: 3<br>learning_rate: 0.009767258291828658<br>num_leaves: 394<br>subsample: 0.8605004702711452<br>colsample_bytree: 0.9257281502887305<br>min_data_in_leaf: 12<br><b>Objective Value: 0.12002425926505596</b>",
          "Trial #94<br>max_depth: 3<br>learning_rate: 0.005763841299415962<br>num_leaves: 544<br>subsample: 0.9573748031657906<br>colsample_bytree: 0.8664862531395889<br>min_data_in_leaf: 9<br><b>Objective Value: 0.12002911455631946</b>",
          "Trial #95<br>max_depth: 3<br>learning_rate: 0.008537632655030939<br>num_leaves: 417<br>subsample: 0.9340925867390554<br>colsample_bytree: 0.8812268734532136<br>min_data_in_leaf: 3<br><b>Objective Value: 0.12023041463177386</b>",
          "Trial #96<br>max_depth: 3<br>learning_rate: 0.004748909690106854<br>num_leaves: 608<br>subsample: 0.892270418155414<br>colsample_bytree: 0.7769570096529526<br>min_data_in_leaf: 45<br><b>Objective Value: 0.1426023565194547</b>",
          "Trial #97<br>max_depth: 3<br>learning_rate: 0.007714703309867491<br>num_leaves: 778<br>subsample: 0.9732879943003236<br>colsample_bytree: 0.857474855091969<br>min_data_in_leaf: 11<br><b>Objective Value: 0.11953900540710646</b>",
          "Trial #98<br>max_depth: 6<br>learning_rate: 0.011356947572635178<br>num_leaves: 323<br>subsample: 0.9743049527641902<br>colsample_bytree: 0.4530200776751816<br>min_data_in_leaf: 11<br><b>Objective Value: 0.1348590908210209</b>",
          "Trial #99<br>max_depth: 3<br>learning_rate: 0.007383897416626609<br>num_leaves: 767<br>subsample: 0.05079175109914863<br>colsample_bytree: 0.9719042558411972<br>min_data_in_leaf: 7<br><b>Objective Value: 0.2130729985354461</b>"
         ],
         "marker": {
          "color": [
           "rgb(170.0, 5.0, 38.0)",
           "rgb(190.0, 24.0, 39.0)",
           "rgb(247.0, 130.0, 77.0)",
           "rgb(180.0, 15.0, 38.0)",
           "rgb(175.0, 10.0, 38.0)",
           "rgb(230.0, 79.0, 53.0)",
           "rgb(185.0, 19.0, 38.0)",
           "rgb(239.0, 98.0, 62.0)",
           "rgb(165.0, 0.0, 38.0)",
           "rgb(221.0, 61.0, 45.0)",
           "rgb(253.0, 191.0, 113.0)",
           "rgb(250.0, 150.0, 86.0)",
           "rgb(249.0, 143.0, 83.0)",
           "rgb(244.0, 110.0, 68.0)",
           "rgb(251.0, 156.0, 89.0)",
           "rgb(254.0, 228.0, 151.0)",
           "rgb(253.0, 181.0, 103.0)",
           "rgb(248.0, 137.0, 80.0)",
           "rgb(252.0, 169.0, 95.0)",
           "rgb(245.0, 117.0, 71.0)",
           "rgb(224.0, 67.0, 48.0)",
           "rgb(253.0, 176.0, 98.0)",
           "rgb(227.0, 73.0, 51.0)",
           "rgb(247.0, 252.0, 205.0)",
           "rgb(241.0, 250.0, 217.0)",
           "rgb(215.0, 239.0, 246.0)",
           "rgb(228.0, 245.0, 240.0)",
           "rgb(156.0, 205.0, 226.0)",
           "rgb(251.0, 163.0, 92.0)",
           "rgb(254.0, 232.0, 155.0)",
           "rgb(254.0, 235.0, 160.0)",
           "rgb(250.0, 253.0, 200.0)",
           "rgb(238.0, 248.0, 223.0)",
           "rgb(253.0, 254.0, 194.0)",
           "rgb(232.0, 246.0, 234.0)",
           "rgb(199.0, 231.0, 241.0)",
           "rgb(53.0, 67.0, 155.0)",
           "rgb(194.0, 228.0, 240.0)",
           "rgb(139.0, 192.0, 219.0)",
           "rgb(93.0, 146.0, 195.0)",
           "rgb(253.0, 196.0, 117.0)",
           "rgb(150.0, 201.0, 224.0)",
           "rgb(189.0, 226.0, 238.0)",
           "rgb(218.0, 55.0, 42.0)",
           "rgb(254.0, 225.0, 146.0)",
           "rgb(162.0, 209.0, 229.0)",
           "rgb(254.0, 211.0, 132.0)",
           "rgb(233.0, 86.0, 56.0)",
           "rgb(255.0, 241.0, 170.0)",
           "rgb(210.0, 44.0, 39.0)",
           "rgb(200.0, 34.0, 39.0)",
           "rgb(254.0, 206.0, 127.0)",
           "rgb(254.0, 221.0, 141.0)",
           "rgb(134.0, 187.0, 217.0)",
           "rgb(67.0, 111.0, 177.0)",
           "rgb(59.0, 86.0, 165.0)",
           "rgb(254.0, 216.0, 136.0)",
           "rgb(123.0, 178.0, 212.0)",
           "rgb(255.0, 247.0, 179.0)",
           "rgb(69.0, 118.0, 180.0)",
           "rgb(235.0, 247.0, 228.0)",
           "rgb(65.0, 105.0, 174.0)",
           "rgb(254.0, 238.0, 165.0)",
           "rgb(145.0, 196.0, 222.0)",
           "rgb(254.0, 201.0, 122.0)",
           "rgb(205.0, 234.0, 243.0)",
           "rgb(253.0, 186.0, 108.0)",
           "rgb(255.0, 253.0, 189.0)",
           "rgb(183.0, 223.0, 236.0)",
           "rgb(205.0, 39.0, 39.0)",
           "rgb(255.0, 244.0, 174.0)",
           "rgb(167.0, 214.0, 231.0)",
           "rgb(173.0, 218.0, 233.0)",
           "rgb(117.0, 174.0, 209.0)",
           "rgb(57.0, 79.0, 162.0)",
           "rgb(63.0, 99.0, 171.0)",
           "rgb(244.0, 251.0, 211.0)",
           "rgb(61.0, 92.0, 168.0)",
           "rgb(215.0, 49.0, 39.0)",
           "rgb(103.0, 157.0, 201.0)",
           "rgb(112.0, 168.0, 207.0)",
           "rgb(84.0, 135.0, 189.0)",
           "rgb(210.0, 236.0, 244.0)",
           "rgb(225.0, 243.0, 246.0)",
           "rgb(128.0, 183.0, 214.0)",
           "rgb(88.0, 140.0, 192.0)",
           "rgb(221.0, 241.0, 247.0)",
           "rgb(255.0, 250.0, 184.0)",
           "rgb(242.0, 104.0, 65.0)",
           "rgb(107.0, 163.0, 204.0)",
           "rgb(51.0, 60.0, 152.0)",
           "rgb(49.0, 54.0, 149.0)",
           "rgb(178.0, 220.0, 235.0)",
           "rgb(74.0, 123.0, 183.0)",
           "rgb(79.0, 129.0, 186.0)",
           "rgb(98.0, 152.0, 198.0)",
           "rgb(236.0, 92.0, 59.0)",
           "rgb(55.0, 73.0, 158.0)",
           "rgb(246.0, 123.0, 74.0)",
           "rgb(195.0, 29.0, 39.0)"
          ],
          "line": {
           "color": "Grey",
           "width": 0.5
          }
         },
         "mode": "markers",
         "showlegend": false,
         "type": "scatter",
         "x": [
          0.8162044237354343,
          0.07257157821623013,
          0.3490806136094307,
          0.152409768186883,
          0.9944510115599653,
          0.30168977212633497,
          0.1395741550294213,
          0.3976484051264879,
          0.861516135783903,
          0.3779449741530888,
          0.6065831088349424,
          0.6285169830264183,
          0.6315966689185385,
          0.5958479998102213,
          0.715781327273698,
          0.7528132891578572,
          0.7776359014013703,
          0.5191337941169847,
          0.9312945354174995,
          0.5065015231511892,
          0.7096944401846672,
          0.7730834974989206,
          0.7227298692024934,
          0.8664680121843389,
          0.8994871750719634,
          0.8946246865471349,
          0.9072097345397101,
          0.9913662038262046,
          0.9386453443296081,
          0.9910181419489675,
          0.8097423787795417,
          0.8945173951341538,
          0.9250994240803234,
          0.8356692701425597,
          0.9555410356397093,
          0.9969322950042835,
          0.9954551872969295,
          0.965699004813939,
          0.9992744780915291,
          0.9994402736704269,
          0.8404588642200583,
          0.9656602999058141,
          0.994289898679822,
          0.23372057543006397,
          0.943019667605578,
          0.99810044763457,
          0.8670958826311231,
          0.8113829256365093,
          0.9573345049204413,
          0.06603294251768443,
          0.43479940812161855,
          0.9992676848629046,
          0.9654256467838114,
          0.9148397798830931,
          0.8702410870578756,
          0.8609305376557165,
          0.6586630662481733,
          0.8657612702995039,
          0.7891344027149162,
          0.8533416972430871,
          0.73924947079216,
          0.8718224318689928,
          0.6804072053851342,
          0.8615743959020297,
          0.5694856222256293,
          0.8831702863695414,
          0.8328210472156837,
          0.7505760530688511,
          0.7967018936269187,
          0.9185412741007304,
          0.7717995576417909,
          0.9146618683821081,
          0.841157455140424,
          0.8807119230727277,
          0.8760275698199518,
          0.8923325483373697,
          0.8382392886513009,
          0.9401362249453834,
          0.10494612241074508,
          0.9346394368243635,
          0.8864891784287356,
          0.9487808176045162,
          0.8159855827219415,
          0.8987005880677689,
          0.9393506780655958,
          0.9621369101543733,
          0.8489648953818334,
          0.9060839187219631,
          0.30586334109695756,
          0.9771856356846663,
          0.875408342472098,
          0.9398889996693455,
          0.8145413431822411,
          0.9257281502887305,
          0.8664862531395889,
          0.8812268734532136,
          0.7769570096529526,
          0.857474855091969,
          0.4530200776751816,
          0.9719042558411972
         ],
         "y": [
          0.016373611291886372,
          0.04198985069796406,
          0.010832182498941422,
          0.0013550585437992594,
          0.09913364720475172,
          0.011564548932495098,
          0.0023158541859498154,
          0.004111111585047848,
          0.0014042813867371066,
          0.0038670858109036326,
          0.025930291625472914,
          0.02245531528987732,
          0.027190572488529772,
          0.048013195964417714,
          0.022208453779825884,
          0.005965093695802181,
          0.0060229763602604874,
          0.007159090422992727,
          0.0477346184762044,
          0.09411791950962567,
          0.0028763795275551915,
          0.006139158171523354,
          0.006291703181519206,
          0.008986090227363243,
          0.01369258280893895,
          0.00995209184866025,
          0.014480082609590895,
          0.014757053020411746,
          0.0168550001040522,
          0.016961670532821847,
          0.035110409938119376,
          0.01615812287489651,
          0.014058630654991714,
          0.008837066787048766,
          0.01317779510002816,
          0.011258437959079461,
          0.008815598161305659,
          0.009785403312099178,
          0.009089139833732001,
          0.007883557287033188,
          0.004495500350749336,
          0.00798334413408701,
          0.007794596872912312,
          0.0047481481493234735,
          0.007931045783924744,
          0.00341729133056169,
          0.005070939770369199,
          0.0017036315729611802,
          0.02181188362258904,
          0.012022339507546045,
          0.003161119712600485,
          0.002246853047928493,
          0.003364221521746919,
          0.006906459170261311,
          0.007117038809480757,
          0.006888686865258972,
          0.005329988250867362,
          0.006457712876750343,
          0.003998026363002764,
          0.006092567620775311,
          0.005643374694153548,
          0.006825604416951366,
          0.006955863831313109,
          0.004451837394128328,
          0.006459386020969158,
          0.010594132274730264,
          0.002659414275889521,
          0.005353481215811704,
          0.007985366927880837,
          0.006291843457550706,
          0.0037436091577099876,
          0.0069345266585400175,
          0.008830515308755971,
          0.007356378933623697,
          0.01099620384588571,
          0.010931027069809257,
          0.01202085033002442,
          0.010615916882325053,
          0.01941797270610922,
          0.010495611633240172,
          0.009215205681405568,
          0.012729613630833355,
          0.012568741316240535,
          0.016384729567177715,
          0.011088257236120178,
          0.009931522835058807,
          0.014862108425736082,
          0.0762440878926557,
          0.019728210561480032,
          0.013557531835310346,
          0.008617329039662076,
          0.008525422161967654,
          0.008621864437749548,
          0.009767258291828658,
          0.005763841299415962,
          0.008537632655030939,
          0.004748909690106854,
          0.007714703309867491,
          0.011356947572635178,
          0.007383897416626609
         ]
        },
        {
         "hoverinfo": "none",
         "marker": {
          "cmax": 1,
          "cmin": 0,
          "colorbar": {
           "thickness": 10,
           "ticktext": [
            "min. (0.118789)",
            "25% (0.120572)",
            "50% (0.123295)",
            "75% (0.132357)",
            "max. (0.403163)"
           ],
           "tickvals": [
            0,
            0.25,
            0.5,
            0.75,
            1
           ]
          },
          "colorscale": [
           [
            0,
            "rgb(49,54,149)"
           ],
           [
            0.1,
            "rgb(69,117,180)"
           ],
           [
            0.2,
            "rgb(116,173,209)"
           ],
           [
            0.3,
            "rgb(171,217,233)"
           ],
           [
            0.4,
            "rgb(224,243,248)"
           ],
           [
            0.5,
            "rgb(255,255,191)"
           ],
           [
            0.6,
            "rgb(254,224,144)"
           ],
           [
            0.7,
            "rgb(253,174,97)"
           ],
           [
            0.8,
            "rgb(244,109,67)"
           ],
           [
            0.9,
            "rgb(215,48,39)"
           ],
           [
            1,
            "rgb(165,0,38)"
           ]
          ],
          "showscale": true
         },
         "mode": "markers",
         "showlegend": false,
         "type": "scatter",
         "x": [
          null
         ],
         "y": [
          null
         ]
        }
       ],
       "layout": {
        "template": {
         "data": {
          "bar": [
           {
            "error_x": {
             "color": "#2a3f5f"
            },
            "error_y": {
             "color": "#2a3f5f"
            },
            "marker": {
             "line": {
              "color": "#E5ECF6",
              "width": 0.5
             },
             "pattern": {
              "fillmode": "overlay",
              "size": 10,
              "solidity": 0.2
             }
            },
            "type": "bar"
           }
          ],
          "barpolar": [
           {
            "marker": {
             "line": {
              "color": "#E5ECF6",
              "width": 0.5
             },
             "pattern": {
              "fillmode": "overlay",
              "size": 10,
              "solidity": 0.2
             }
            },
            "type": "barpolar"
           }
          ],
          "carpet": [
           {
            "aaxis": {
             "endlinecolor": "#2a3f5f",
             "gridcolor": "white",
             "linecolor": "white",
             "minorgridcolor": "white",
             "startlinecolor": "#2a3f5f"
            },
            "baxis": {
             "endlinecolor": "#2a3f5f",
             "gridcolor": "white",
             "linecolor": "white",
             "minorgridcolor": "white",
             "startlinecolor": "#2a3f5f"
            },
            "type": "carpet"
           }
          ],
          "choropleth": [
           {
            "colorbar": {
             "outlinewidth": 0,
             "ticks": ""
            },
            "type": "choropleth"
           }
          ],
          "contour": [
           {
            "colorbar": {
             "outlinewidth": 0,
             "ticks": ""
            },
            "colorscale": [
             [
              0,
              "#0d0887"
             ],
             [
              0.1111111111111111,
              "#46039f"
             ],
             [
              0.2222222222222222,
              "#7201a8"
             ],
             [
              0.3333333333333333,
              "#9c179e"
             ],
             [
              0.4444444444444444,
              "#bd3786"
             ],
             [
              0.5555555555555556,
              "#d8576b"
             ],
             [
              0.6666666666666666,
              "#ed7953"
             ],
             [
              0.7777777777777778,
              "#fb9f3a"
             ],
             [
              0.8888888888888888,
              "#fdca26"
             ],
             [
              1,
              "#f0f921"
             ]
            ],
            "type": "contour"
           }
          ],
          "contourcarpet": [
           {
            "colorbar": {
             "outlinewidth": 0,
             "ticks": ""
            },
            "type": "contourcarpet"
           }
          ],
          "heatmap": [
           {
            "colorbar": {
             "outlinewidth": 0,
             "ticks": ""
            },
            "colorscale": [
             [
              0,
              "#0d0887"
             ],
             [
              0.1111111111111111,
              "#46039f"
             ],
             [
              0.2222222222222222,
              "#7201a8"
             ],
             [
              0.3333333333333333,
              "#9c179e"
             ],
             [
              0.4444444444444444,
              "#bd3786"
             ],
             [
              0.5555555555555556,
              "#d8576b"
             ],
             [
              0.6666666666666666,
              "#ed7953"
             ],
             [
              0.7777777777777778,
              "#fb9f3a"
             ],
             [
              0.8888888888888888,
              "#fdca26"
             ],
             [
              1,
              "#f0f921"
             ]
            ],
            "type": "heatmap"
           }
          ],
          "heatmapgl": [
           {
            "colorbar": {
             "outlinewidth": 0,
             "ticks": ""
            },
            "colorscale": [
             [
              0,
              "#0d0887"
             ],
             [
              0.1111111111111111,
              "#46039f"
             ],
             [
              0.2222222222222222,
              "#7201a8"
             ],
             [
              0.3333333333333333,
              "#9c179e"
             ],
             [
              0.4444444444444444,
              "#bd3786"
             ],
             [
              0.5555555555555556,
              "#d8576b"
             ],
             [
              0.6666666666666666,
              "#ed7953"
             ],
             [
              0.7777777777777778,
              "#fb9f3a"
             ],
             [
              0.8888888888888888,
              "#fdca26"
             ],
             [
              1,
              "#f0f921"
             ]
            ],
            "type": "heatmapgl"
           }
          ],
          "histogram": [
           {
            "marker": {
             "pattern": {
              "fillmode": "overlay",
              "size": 10,
              "solidity": 0.2
             }
            },
            "type": "histogram"
           }
          ],
          "histogram2d": [
           {
            "colorbar": {
             "outlinewidth": 0,
             "ticks": ""
            },
            "colorscale": [
             [
              0,
              "#0d0887"
             ],
             [
              0.1111111111111111,
              "#46039f"
             ],
             [
              0.2222222222222222,
              "#7201a8"
             ],
             [
              0.3333333333333333,
              "#9c179e"
             ],
             [
              0.4444444444444444,
              "#bd3786"
             ],
             [
              0.5555555555555556,
              "#d8576b"
             ],
             [
              0.6666666666666666,
              "#ed7953"
             ],
             [
              0.7777777777777778,
              "#fb9f3a"
             ],
             [
              0.8888888888888888,
              "#fdca26"
             ],
             [
              1,
              "#f0f921"
             ]
            ],
            "type": "histogram2d"
           }
          ],
          "histogram2dcontour": [
           {
            "colorbar": {
             "outlinewidth": 0,
             "ticks": ""
            },
            "colorscale": [
             [
              0,
              "#0d0887"
             ],
             [
              0.1111111111111111,
              "#46039f"
             ],
             [
              0.2222222222222222,
              "#7201a8"
             ],
             [
              0.3333333333333333,
              "#9c179e"
             ],
             [
              0.4444444444444444,
              "#bd3786"
             ],
             [
              0.5555555555555556,
              "#d8576b"
             ],
             [
              0.6666666666666666,
              "#ed7953"
             ],
             [
              0.7777777777777778,
              "#fb9f3a"
             ],
             [
              0.8888888888888888,
              "#fdca26"
             ],
             [
              1,
              "#f0f921"
             ]
            ],
            "type": "histogram2dcontour"
           }
          ],
          "mesh3d": [
           {
            "colorbar": {
             "outlinewidth": 0,
             "ticks": ""
            },
            "type": "mesh3d"
           }
          ],
          "parcoords": [
           {
            "line": {
             "colorbar": {
              "outlinewidth": 0,
              "ticks": ""
             }
            },
            "type": "parcoords"
           }
          ],
          "pie": [
           {
            "automargin": true,
            "type": "pie"
           }
          ],
          "scatter": [
           {
            "fillpattern": {
             "fillmode": "overlay",
             "size": 10,
             "solidity": 0.2
            },
            "type": "scatter"
           }
          ],
          "scatter3d": [
           {
            "line": {
             "colorbar": {
              "outlinewidth": 0,
              "ticks": ""
             }
            },
            "marker": {
             "colorbar": {
              "outlinewidth": 0,
              "ticks": ""
             }
            },
            "type": "scatter3d"
           }
          ],
          "scattercarpet": [
           {
            "marker": {
             "colorbar": {
              "outlinewidth": 0,
              "ticks": ""
             }
            },
            "type": "scattercarpet"
           }
          ],
          "scattergeo": [
           {
            "marker": {
             "colorbar": {
              "outlinewidth": 0,
              "ticks": ""
             }
            },
            "type": "scattergeo"
           }
          ],
          "scattergl": [
           {
            "marker": {
             "colorbar": {
              "outlinewidth": 0,
              "ticks": ""
             }
            },
            "type": "scattergl"
           }
          ],
          "scattermapbox": [
           {
            "marker": {
             "colorbar": {
              "outlinewidth": 0,
              "ticks": ""
             }
            },
            "type": "scattermapbox"
           }
          ],
          "scatterpolar": [
           {
            "marker": {
             "colorbar": {
              "outlinewidth": 0,
              "ticks": ""
             }
            },
            "type": "scatterpolar"
           }
          ],
          "scatterpolargl": [
           {
            "marker": {
             "colorbar": {
              "outlinewidth": 0,
              "ticks": ""
             }
            },
            "type": "scatterpolargl"
           }
          ],
          "scatterternary": [
           {
            "marker": {
             "colorbar": {
              "outlinewidth": 0,
              "ticks": ""
             }
            },
            "type": "scatterternary"
           }
          ],
          "surface": [
           {
            "colorbar": {
             "outlinewidth": 0,
             "ticks": ""
            },
            "colorscale": [
             [
              0,
              "#0d0887"
             ],
             [
              0.1111111111111111,
              "#46039f"
             ],
             [
              0.2222222222222222,
              "#7201a8"
             ],
             [
              0.3333333333333333,
              "#9c179e"
             ],
             [
              0.4444444444444444,
              "#bd3786"
             ],
             [
              0.5555555555555556,
              "#d8576b"
             ],
             [
              0.6666666666666666,
              "#ed7953"
             ],
             [
              0.7777777777777778,
              "#fb9f3a"
             ],
             [
              0.8888888888888888,
              "#fdca26"
             ],
             [
              1,
              "#f0f921"
             ]
            ],
            "type": "surface"
           }
          ],
          "table": [
           {
            "cells": {
             "fill": {
              "color": "#EBF0F8"
             },
             "line": {
              "color": "white"
             }
            },
            "header": {
             "fill": {
              "color": "#C8D4E3"
             },
             "line": {
              "color": "white"
             }
            },
            "type": "table"
           }
          ]
         },
         "layout": {
          "annotationdefaults": {
           "arrowcolor": "#2a3f5f",
           "arrowhead": 0,
           "arrowwidth": 1
          },
          "autotypenumbers": "strict",
          "coloraxis": {
           "colorbar": {
            "outlinewidth": 0,
            "ticks": ""
           }
          },
          "colorscale": {
           "diverging": [
            [
             0,
             "#8e0152"
            ],
            [
             0.1,
             "#c51b7d"
            ],
            [
             0.2,
             "#de77ae"
            ],
            [
             0.3,
             "#f1b6da"
            ],
            [
             0.4,
             "#fde0ef"
            ],
            [
             0.5,
             "#f7f7f7"
            ],
            [
             0.6,
             "#e6f5d0"
            ],
            [
             0.7,
             "#b8e186"
            ],
            [
             0.8,
             "#7fbc41"
            ],
            [
             0.9,
             "#4d9221"
            ],
            [
             1,
             "#276419"
            ]
           ],
           "sequential": [
            [
             0,
             "#0d0887"
            ],
            [
             0.1111111111111111,
             "#46039f"
            ],
            [
             0.2222222222222222,
             "#7201a8"
            ],
            [
             0.3333333333333333,
             "#9c179e"
            ],
            [
             0.4444444444444444,
             "#bd3786"
            ],
            [
             0.5555555555555556,
             "#d8576b"
            ],
            [
             0.6666666666666666,
             "#ed7953"
            ],
            [
             0.7777777777777778,
             "#fb9f3a"
            ],
            [
             0.8888888888888888,
             "#fdca26"
            ],
            [
             1,
             "#f0f921"
            ]
           ],
           "sequentialminus": [
            [
             0,
             "#0d0887"
            ],
            [
             0.1111111111111111,
             "#46039f"
            ],
            [
             0.2222222222222222,
             "#7201a8"
            ],
            [
             0.3333333333333333,
             "#9c179e"
            ],
            [
             0.4444444444444444,
             "#bd3786"
            ],
            [
             0.5555555555555556,
             "#d8576b"
            ],
            [
             0.6666666666666666,
             "#ed7953"
            ],
            [
             0.7777777777777778,
             "#fb9f3a"
            ],
            [
             0.8888888888888888,
             "#fdca26"
            ],
            [
             1,
             "#f0f921"
            ]
           ]
          },
          "colorway": [
           "#636efa",
           "#EF553B",
           "#00cc96",
           "#ab63fa",
           "#FFA15A",
           "#19d3f3",
           "#FF6692",
           "#B6E880",
           "#FF97FF",
           "#FECB52"
          ],
          "font": {
           "color": "#2a3f5f"
          },
          "geo": {
           "bgcolor": "white",
           "lakecolor": "white",
           "landcolor": "#E5ECF6",
           "showlakes": true,
           "showland": true,
           "subunitcolor": "white"
          },
          "hoverlabel": {
           "align": "left"
          },
          "hovermode": "closest",
          "mapbox": {
           "style": "light"
          },
          "paper_bgcolor": "white",
          "plot_bgcolor": "#E5ECF6",
          "polar": {
           "angularaxis": {
            "gridcolor": "white",
            "linecolor": "white",
            "ticks": ""
           },
           "bgcolor": "#E5ECF6",
           "radialaxis": {
            "gridcolor": "white",
            "linecolor": "white",
            "ticks": ""
           }
          },
          "scene": {
           "xaxis": {
            "backgroundcolor": "#E5ECF6",
            "gridcolor": "white",
            "gridwidth": 2,
            "linecolor": "white",
            "showbackground": true,
            "ticks": "",
            "zerolinecolor": "white"
           },
           "yaxis": {
            "backgroundcolor": "#E5ECF6",
            "gridcolor": "white",
            "gridwidth": 2,
            "linecolor": "white",
            "showbackground": true,
            "ticks": "",
            "zerolinecolor": "white"
           },
           "zaxis": {
            "backgroundcolor": "#E5ECF6",
            "gridcolor": "white",
            "gridwidth": 2,
            "linecolor": "white",
            "showbackground": true,
            "ticks": "",
            "zerolinecolor": "white"
           }
          },
          "shapedefaults": {
           "line": {
            "color": "#2a3f5f"
           }
          },
          "ternary": {
           "aaxis": {
            "gridcolor": "white",
            "linecolor": "white",
            "ticks": ""
           },
           "baxis": {
            "gridcolor": "white",
            "linecolor": "white",
            "ticks": ""
           },
           "bgcolor": "#E5ECF6",
           "caxis": {
            "gridcolor": "white",
            "linecolor": "white",
            "ticks": ""
           }
          },
          "title": {
           "x": 0.05
          },
          "xaxis": {
           "automargin": true,
           "gridcolor": "white",
           "linecolor": "white",
           "ticks": "",
           "title": {
            "standoff": 15
           },
           "zerolinecolor": "white",
           "zerolinewidth": 2
          },
          "yaxis": {
           "automargin": true,
           "gridcolor": "white",
           "linecolor": "white",
           "ticks": "",
           "title": {
            "standoff": 15
           },
           "zerolinecolor": "white",
           "zerolinewidth": 2
          }
         }
        },
        "title": {
         "text": "Rank (Objective Value)"
        },
        "xaxis": {
         "range": [
          0.019362575960047312,
          1.046110640228064
         ],
         "title": {
          "text": "colsample_bytree"
         }
        },
        "yaxis": {
         "range": [
          -2.9612550924575887,
          -0.910565764208565
         ],
         "title": {
          "text": "learning_rate"
         },
         "type": "log"
        }
       }
      }
     },
     "metadata": {},
     "output_type": "display_data"
    }
   ],
   "source": [
    "optuna.visualization.plot_rank(study, params=['colsample_bytree', 'learning_rate'])"
   ]
  },
  {
   "cell_type": "code",
   "execution_count": 93,
   "metadata": {},
   "outputs": [],
   "source": [
    "pred_test = lgb_model_rs.predict(X_test)"
   ]
  },
  {
   "cell_type": "code",
   "execution_count": 98,
   "metadata": {},
   "outputs": [
    {
     "data": {
      "image/png": "[encoded data removed]",
      "text/plain": [
       "<Figure size 640x480 with 1 Axes>"
      ]
     },
     "metadata": {},
     "output_type": "display_data"
    }
   ],
   "source": [
    "plot_revenue(test_df, pred_test)"
   ]
  },
  {
   "cell_type": "markdown",
   "metadata": {},
   "source": [
    "**Forecasting with LightGBM**"
   ]
  },
  {
   "cell_type": "markdown",
   "metadata": {},
   "source": [
    "**Save and load**"
   ]
  },
  {
   "cell_type": "code",
   "execution_count": null,
   "metadata": {},
   "outputs": [],
   "source": [
    "file_name = \"xgb_reg_randomSearch.pkl\"\n",
    "xgb_model_rs = pickle.load(open(file_name, \"rb\"))"
   ]
  },
  {
   "cell_type": "code",
   "execution_count": null,
   "metadata": {},
   "outputs": [],
   "source": [
    "import pickle\n",
    "file_name = \"xgb_reg_randomSearch.pkl\"\n",
    "# xgb_model_rs = xgb.XGBRegressor()\n",
    "# save\n",
    "pickle.dump(xgb_model_rs, open(file_name, \"wb\"))"
   ]
  }
 ],
 "metadata": {
  "interpreter": {
   "hash": "90aa3fa5cc50aea3691101b03202bc403ba41abb582bc86ee789d2830253a490"
  },
  "kernelspec": {
   "display_name": "Python 3.12.4 ('wal')",
   "language": "python",
   "name": "python3"
  },
  "language_info": {
   "codemirror_mode": {
    "name": "ipython",
    "version": 3
   },
   "file_extension": ".py",
   "mimetype": "text/x-python",
   "name": "python",
   "nbconvert_exporter": "python",
   "pygments_lexer": "ipython3",
   "version": "3.12.4"
  },
  "orig_nbformat": 4
 },
 "nbformat": 4,
 "nbformat_minor": 2
}
