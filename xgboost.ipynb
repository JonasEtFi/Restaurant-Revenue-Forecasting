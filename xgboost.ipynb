{
 "cells": [
  {
   "cell_type": "code",
   "execution_count": 2,
   "metadata": {},
   "outputs": [],
   "source": [
    "import git\n",
    "import os\n",
    "\n",
    "repo = git.Repo('.', search_parent_directories=True)\n",
    "os.chdir(str(repo.working_tree_dir) + '/src')"
   ]
  },
  {
   "cell_type": "markdown",
   "metadata": {},
   "source": [
    "**Data Preperation and Visualisation**"
   ]
  },
  {
   "cell_type": "code",
   "execution_count": 3,
   "metadata": {},
   "outputs": [],
   "source": [
    "import numpy as np\n",
    "import matplotlib.pyplot as plt\n",
    "from demos import prepare_data, plot_data, plot_revenue_per_weekday, plot_avg_revenue_per_weekday, create_test_and_train_set, plot_revenue\n",
    "\n",
    "%matplotlib inline\n",
    "%load_ext autoreload\n",
    "%autoreload 2\n",
    "\n",
    "np.set_printoptions(precision=2)"
   ]
  },
  {
   "cell_type": "code",
   "execution_count": 4,
   "metadata": {},
   "outputs": [
    {
     "name": "stderr",
     "output_type": "stream",
     "text": [
      "/Users/jonasfischer/Library/CloudStorage/OneDrive-Persönlich/Projekte/Restaurant-Revenue-Forecasting/src/demos.py:170: FutureWarning: ChainedAssignmentError: behaviour will change in pandas 3.0!\n",
      "You are setting values through chained assignment. Currently this works in certain cases, but when using Copy-on-Write (which will become the default behaviour in pandas 3.0) this will never work to update the original DataFrame or Series, because the intermediate object on which we are setting values will behave as a copy.\n",
      "A typical example is when you are setting values in a column of a DataFrame, like:\n",
      "\n",
      "df[\"col\"][row_indexer] = value\n",
      "\n",
      "Use `df.loc[row_indexer, \"col\"] = values` instead, to perform the assignment in a single step and ensure this keeps updating the original `df`.\n",
      "\n",
      "See the caveats in the documentation: https://pandas.pydata.org/pandas-docs/stable/user_guide/indexing.html#returning-a-view-versus-a-copy\n",
      "\n",
      "  df.yesterday_revenue.iloc[0] = df.revenue.iloc[0]\n",
      "/Users/jonasfischer/Library/CloudStorage/OneDrive-Persönlich/Projekte/Restaurant-Revenue-Forecasting/src/demos.py:170: SettingWithCopyWarning: \n",
      "A value is trying to be set on a copy of a slice from a DataFrame\n",
      "\n",
      "See the caveats in the documentation: https://pandas.pydata.org/pandas-docs/stable/user_guide/indexing.html#returning-a-view-versus-a-copy\n",
      "  df.yesterday_revenue.iloc[0] = df.revenue.iloc[0]\n"
     ]
    }
   ],
   "source": [
    "wheater_path = repo.working_tree_dir + '/data/wheater_data.csv' \n",
    "revenue_path = repo.working_tree_dir + '/data/revenue_data.csv' \n",
    "df = prepare_data(wheater_path, revenue_path)\n",
    "train_df, test_df = create_test_and_train_set(df)"
   ]
  },
  {
   "cell_type": "code",
   "execution_count": 5,
   "metadata": {},
   "outputs": [
    {
     "data": {
      "text/html": [
       "<div>\n",
       "<style scoped>\n",
       "    .dataframe tbody tr th:only-of-type {\n",
       "        vertical-align: middle;\n",
       "    }\n",
       "\n",
       "    .dataframe tbody tr th {\n",
       "        vertical-align: top;\n",
       "    }\n",
       "\n",
       "    .dataframe thead th {\n",
       "        text-align: right;\n",
       "    }\n",
       "</style>\n",
       "<table border=\"1\" class=\"dataframe\">\n",
       "  <thead>\n",
       "    <tr style=\"text-align: right;\">\n",
       "      <th></th>\n",
       "      <th>tavg</th>\n",
       "      <th>tmin</th>\n",
       "      <th>tmax</th>\n",
       "      <th>prcp</th>\n",
       "      <th>wdir</th>\n",
       "      <th>wspd</th>\n",
       "      <th>pres</th>\n",
       "      <th>national_holiday</th>\n",
       "      <th>holiday</th>\n",
       "      <th>revenue</th>\n",
       "      <th>...</th>\n",
       "      <th>holiday_all_germany</th>\n",
       "      <th>national_and_holiday</th>\n",
       "      <th>DOW</th>\n",
       "      <th>yesterday_revenue</th>\n",
       "      <th>three_day_revenue</th>\n",
       "      <th>week_revenue</th>\n",
       "      <th>bridge_day</th>\n",
       "      <th>day</th>\n",
       "      <th>month</th>\n",
       "      <th>year</th>\n",
       "    </tr>\n",
       "    <tr>\n",
       "      <th>date</th>\n",
       "      <th></th>\n",
       "      <th></th>\n",
       "      <th></th>\n",
       "      <th></th>\n",
       "      <th></th>\n",
       "      <th></th>\n",
       "      <th></th>\n",
       "      <th></th>\n",
       "      <th></th>\n",
       "      <th></th>\n",
       "      <th></th>\n",
       "      <th></th>\n",
       "      <th></th>\n",
       "      <th></th>\n",
       "      <th></th>\n",
       "      <th></th>\n",
       "      <th></th>\n",
       "      <th></th>\n",
       "      <th></th>\n",
       "      <th></th>\n",
       "      <th></th>\n",
       "    </tr>\n",
       "  </thead>\n",
       "  <tbody>\n",
       "    <tr>\n",
       "      <th>2023-10-02</th>\n",
       "      <td>18.1</td>\n",
       "      <td>12.7</td>\n",
       "      <td>25.3</td>\n",
       "      <td>0.0</td>\n",
       "      <td>120</td>\n",
       "      <td>7.6</td>\n",
       "      <td>1022.0</td>\n",
       "      <td>0</td>\n",
       "      <td>0</td>\n",
       "      <td>4848</td>\n",
       "      <td>...</td>\n",
       "      <td>0</td>\n",
       "      <td>0</td>\n",
       "      <td>0</td>\n",
       "      <td>5185.0</td>\n",
       "      <td>4018.000000</td>\n",
       "      <td>2742.142857</td>\n",
       "      <td>1</td>\n",
       "      <td>2</td>\n",
       "      <td>10</td>\n",
       "      <td>2023</td>\n",
       "    </tr>\n",
       "    <tr>\n",
       "      <th>2022-06-17</th>\n",
       "      <td>22.0</td>\n",
       "      <td>14.2</td>\n",
       "      <td>28.5</td>\n",
       "      <td>0.0</td>\n",
       "      <td>116</td>\n",
       "      <td>5.7</td>\n",
       "      <td>1023.6</td>\n",
       "      <td>0</td>\n",
       "      <td>1</td>\n",
       "      <td>3471</td>\n",
       "      <td>...</td>\n",
       "      <td>0</td>\n",
       "      <td>0</td>\n",
       "      <td>4</td>\n",
       "      <td>4278.0</td>\n",
       "      <td>2326.000000</td>\n",
       "      <td>2628.285714</td>\n",
       "      <td>1</td>\n",
       "      <td>17</td>\n",
       "      <td>6</td>\n",
       "      <td>2022</td>\n",
       "    </tr>\n",
       "    <tr>\n",
       "      <th>2022-10-31</th>\n",
       "      <td>14.4</td>\n",
       "      <td>11.1</td>\n",
       "      <td>19.4</td>\n",
       "      <td>0.0</td>\n",
       "      <td>96</td>\n",
       "      <td>4.5</td>\n",
       "      <td>1019.0</td>\n",
       "      <td>1</td>\n",
       "      <td>1</td>\n",
       "      <td>3837</td>\n",
       "      <td>...</td>\n",
       "      <td>1</td>\n",
       "      <td>1</td>\n",
       "      <td>0</td>\n",
       "      <td>4633.0</td>\n",
       "      <td>3507.000000</td>\n",
       "      <td>2541.142857</td>\n",
       "      <td>1</td>\n",
       "      <td>31</td>\n",
       "      <td>10</td>\n",
       "      <td>2022</td>\n",
       "    </tr>\n",
       "    <tr>\n",
       "      <th>2024-05-31</th>\n",
       "      <td>13.6</td>\n",
       "      <td>11.8</td>\n",
       "      <td>16.3</td>\n",
       "      <td>2.0</td>\n",
       "      <td>297</td>\n",
       "      <td>11.6</td>\n",
       "      <td>1009.9</td>\n",
       "      <td>0</td>\n",
       "      <td>1</td>\n",
       "      <td>3485</td>\n",
       "      <td>...</td>\n",
       "      <td>0</td>\n",
       "      <td>0</td>\n",
       "      <td>4</td>\n",
       "      <td>3185.0</td>\n",
       "      <td>2200.333333</td>\n",
       "      <td>2984.571429</td>\n",
       "      <td>1</td>\n",
       "      <td>31</td>\n",
       "      <td>5</td>\n",
       "      <td>2024</td>\n",
       "    </tr>\n",
       "    <tr>\n",
       "      <th>2024-05-10</th>\n",
       "      <td>15.9</td>\n",
       "      <td>9.2</td>\n",
       "      <td>21.8</td>\n",
       "      <td>0.0</td>\n",
       "      <td>64</td>\n",
       "      <td>9.7</td>\n",
       "      <td>1022.4</td>\n",
       "      <td>0</td>\n",
       "      <td>0</td>\n",
       "      <td>4313</td>\n",
       "      <td>...</td>\n",
       "      <td>0</td>\n",
       "      <td>0</td>\n",
       "      <td>4</td>\n",
       "      <td>4362.0</td>\n",
       "      <td>2610.000000</td>\n",
       "      <td>3049.857143</td>\n",
       "      <td>1</td>\n",
       "      <td>10</td>\n",
       "      <td>5</td>\n",
       "      <td>2024</td>\n",
       "    </tr>\n",
       "  </tbody>\n",
       "</table>\n",
       "<p>5 rows × 22 columns</p>\n",
       "</div>"
      ],
      "text/plain": [
       "            tavg  tmin  tmax  prcp  wdir  wspd    pres  national_holiday  \\\n",
       "date                                                                       \n",
       "2023-10-02  18.1  12.7  25.3   0.0   120   7.6  1022.0                 0   \n",
       "2022-06-17  22.0  14.2  28.5   0.0   116   5.7  1023.6                 0   \n",
       "2022-10-31  14.4  11.1  19.4   0.0    96   4.5  1019.0                 1   \n",
       "2024-05-31  13.6  11.8  16.3   2.0   297  11.6  1009.9                 0   \n",
       "2024-05-10  15.9   9.2  21.8   0.0    64   9.7  1022.4                 0   \n",
       "\n",
       "            holiday  revenue  ... holiday_all_germany  national_and_holiday  \\\n",
       "date                          ...                                             \n",
       "2023-10-02        0     4848  ...                   0                     0   \n",
       "2022-06-17        1     3471  ...                   0                     0   \n",
       "2022-10-31        1     3837  ...                   1                     1   \n",
       "2024-05-31        1     3485  ...                   0                     0   \n",
       "2024-05-10        0     4313  ...                   0                     0   \n",
       "\n",
       "            DOW  yesterday_revenue three_day_revenue  week_revenue  \\\n",
       "date                                                                 \n",
       "2023-10-02    0             5185.0       4018.000000   2742.142857   \n",
       "2022-06-17    4             4278.0       2326.000000   2628.285714   \n",
       "2022-10-31    0             4633.0       3507.000000   2541.142857   \n",
       "2024-05-31    4             3185.0       2200.333333   2984.571429   \n",
       "2024-05-10    4             4362.0       2610.000000   3049.857143   \n",
       "\n",
       "            bridge_day  day  month  year  \n",
       "date                                      \n",
       "2023-10-02           1    2     10  2023  \n",
       "2022-06-17           1   17      6  2022  \n",
       "2022-10-31           1   31     10  2022  \n",
       "2024-05-31           1   31      5  2024  \n",
       "2024-05-10           1   10      5  2024  \n",
       "\n",
       "[5 rows x 22 columns]"
      ]
     },
     "execution_count": 5,
     "metadata": {},
     "output_type": "execute_result"
    }
   ],
   "source": [
    "df.sort_values('bridge_day', ascending=False).head()"
   ]
  },
  {
   "cell_type": "code",
   "execution_count": 6,
   "metadata": {},
   "outputs": [
    {
     "name": "stderr",
     "output_type": "stream",
     "text": [
      "/Users/jonasfischer/Library/CloudStorage/OneDrive-Persönlich/Projekte/Restaurant-Revenue-Forecasting/src/demos.py:231: UserWarning: set_ticklabels() should only be used with a fixed number of ticks, i.e. after set_ticks() or using a FixedLocator.\n",
      "  g.ax.set_xticklabels(g.ax.get_xticklabels(), fontsize=7)\n"
     ]
    },
    {
     "data": {
      "image/png": "[encoded data removed]",
      "text/plain": [
       "<Figure size 511.111x500 with 1 Axes>"
      ]
     },
     "metadata": {},
     "output_type": "display_data"
    }
   ],
   "source": [
    "plot_avg_revenue_per_weekday(df)"
   ]
  },
  {
   "cell_type": "code",
   "execution_count": 7,
   "metadata": {},
   "outputs": [
    {
     "data": {
      "image/png": "[encoded data removed]",
      "text/plain": [
       "<Figure size 640x480 with 4 Axes>"
      ]
     },
     "metadata": {},
     "output_type": "display_data"
    }
   ],
   "source": [
    "plot_data(df)"
   ]
  },
  {
   "cell_type": "code",
   "execution_count": 8,
   "metadata": {},
   "outputs": [
    {
     "name": "stderr",
     "output_type": "stream",
     "text": [
      "/Users/jonasfischer/Library/CloudStorage/OneDrive-Persönlich/Projekte/Restaurant-Revenue-Forecasting/src/demos.py:282: UserWarning: set_ticklabels() should only be used with a fixed number of ticks, i.e. after set_ticks() or using a FixedLocator.\n",
      "  g.ax.set_xticklabels(g.ax.get_xticklabels(), fontsize=7)\n"
     ]
    },
    {
     "data": {
      "image/png": "[encoded data removed]",
      "text/plain": [
       "<Figure size 511.111x500 with 1 Axes>"
      ]
     },
     "metadata": {},
     "output_type": "display_data"
    }
   ],
   "source": [
    "plot_revenue_per_weekday(df)"
   ]
  },
  {
   "cell_type": "markdown",
   "metadata": {},
   "source": [
    "**Optimization with Optuna and Time Servies Cross-Validation**"
   ]
  },
  {
   "cell_type": "code",
   "execution_count": 9,
   "metadata": {},
   "outputs": [],
   "source": [
    "import xgboost as xgb\n",
    "from sklearn.model_selection import RandomizedSearchCV\n",
    "import scipy.stats as stats\n",
    "from sklearn.metrics import mean_absolute_percentage_error, mean_absolute_error, mean_squared_error\n",
    "from src.model import time_series_cross_validation\n",
    "from src.demos import split_X_Y\n",
    "\n",
    "X_train, Y_train= split_X_Y(train_df)\n",
    "X_test, Y_test = split_X_Y(test_df)"
   ]
  },
  {
   "cell_type": "code",
   "execution_count": 10,
   "metadata": {},
   "outputs": [],
   "source": [
    "import optuna\n",
    "from src.model import time_series_cross_validation\n",
    "import pickle"
   ]
  },
  {
   "cell_type": "code",
   "execution_count": 11,
   "metadata": {},
   "outputs": [],
   "source": [
    "def objectiveTimeSeriesCV(trial):\n",
    "    params = {\n",
    "        \"objective\": \"reg:squarederror\",\n",
    "        \"n_estimators\": trial.suggest_int('n_estimators',50,1000),\n",
    "        \"verbosity\": 0,\n",
    "        \"learning_rate\": trial.suggest_float(\"learning_rate\", 1e-3, 0.1, log=True),\n",
    "        \"max_depth\": trial.suggest_int(\"max_depth\", 1, 10),\n",
    "        \"subsample\": trial.suggest_float(\"subsample\", 0.05, 1.0),\n",
    "        \"colsample_bytree\": trial.suggest_float(\"colsample_bytree\", 0.05, 1.0),\n",
    "        \"min_child_weight\": trial.suggest_int(\"min_child_weight\", 1, 20),\n",
    "    }\n",
    "\n",
    "    err = time_series_cross_validation(train_df, params, cv=5)\n",
    "    return err"
   ]
  },
  {
   "cell_type": "code",
   "execution_count": 27,
   "metadata": {},
   "outputs": [
    {
     "name": "stderr",
     "output_type": "stream",
     "text": [
      "[I 2024-09-16 19:33:36,676] A new study created in memory with name: no-name-40e56df4-a3cf-4a03-87a9-e8ad0d9230ea\n",
      "100%|██████████| 5/5 [00:07<00:00,  1.55s/it]\n",
      "[I 2024-09-16 19:33:44,454] Trial 0 finished with value: 679290.0387191011 and parameters: {'n_estimators': 877, 'learning_rate': 0.0013138421337018386, 'max_depth': 9, 'subsample': 0.975496099322987, 'colsample_bytree': 0.4005015084736828, 'min_child_weight': 11}. Best is trial 0 with value: 679290.0387191011.\n",
      "100%|██████████| 5/5 [00:02<00:00,  1.82it/s]\n",
      "[I 2024-09-16 19:33:47,212] Trial 1 finished with value: 366625.48553662095 and parameters: {'n_estimators': 707, 'learning_rate': 0.015865295675681526, 'max_depth': 1, 'subsample': 0.14980557490083563, 'colsample_bytree': 0.7954137980793977, 'min_child_weight': 4}. Best is trial 1 with value: 366625.48553662095.\n",
      "100%|██████████| 5/5 [00:00<00:00,  5.98it/s]\n",
      "[I 2024-09-16 19:33:48,055] Trial 2 finished with value: 1161888.6260646277 and parameters: {'n_estimators': 116, 'learning_rate': 0.0012674051598113212, 'max_depth': 1, 'subsample': 0.5865851191015637, 'colsample_bytree': 0.5414422217705465, 'min_child_weight': 12}. Best is trial 1 with value: 366625.48553662095.\n",
      "100%|██████████| 5/5 [00:06<00:00,  1.20s/it]\n",
      "[I 2024-09-16 19:33:54,064] Trial 3 finished with value: 878004.8666292655 and parameters: {'n_estimators': 658, 'learning_rate': 0.0022888595391560127, 'max_depth': 2, 'subsample': 0.4402841933855002, 'colsample_bytree': 0.15030459421725217, 'min_child_weight': 14}. Best is trial 1 with value: 366625.48553662095.\n",
      "100%|██████████| 5/5 [00:12<00:00,  2.52s/it]\n",
      "[I 2024-09-16 19:34:06,691] Trial 4 finished with value: 430960.51130096696 and parameters: {'n_estimators': 954, 'learning_rate': 0.00226353093019257, 'max_depth': 9, 'subsample': 0.8238229244615086, 'colsample_bytree': 0.5728246035472676, 'min_child_weight': 9}. Best is trial 1 with value: 366625.48553662095.\n",
      "100%|██████████| 5/5 [00:05<00:00,  1.09s/it]\n",
      "[I 2024-09-16 19:34:12,173] Trial 5 finished with value: 350567.6367239541 and parameters: {'n_estimators': 734, 'learning_rate': 0.012242267485303406, 'max_depth': 4, 'subsample': 0.9278374125289268, 'colsample_bytree': 0.9609914005726139, 'min_child_weight': 16}. Best is trial 5 with value: 350567.6367239541.\n",
      "100%|██████████| 5/5 [00:04<00:00,  1.07it/s]\n",
      "[I 2024-09-16 19:34:16,871] Trial 6 finished with value: 421013.6722914193 and parameters: {'n_estimators': 917, 'learning_rate': 0.016734198113367262, 'max_depth': 8, 'subsample': 0.7033751753403201, 'colsample_bytree': 0.24209794520496297, 'min_child_weight': 17}. Best is trial 5 with value: 350567.6367239541.\n",
      "100%|██████████| 5/5 [00:03<00:00,  1.31it/s]\n",
      "[I 2024-09-16 19:34:20,690] Trial 7 finished with value: 969105.630095101 and parameters: {'n_estimators': 754, 'learning_rate': 0.00111949399250875, 'max_depth': 6, 'subsample': 0.8411667892399864, 'colsample_bytree': 0.20767579802661962, 'min_child_weight': 4}. Best is trial 5 with value: 350567.6367239541.\n",
      "100%|██████████| 5/5 [00:01<00:00,  3.47it/s]\n",
      "[I 2024-09-16 19:34:22,137] Trial 8 finished with value: 421465.6397121415 and parameters: {'n_estimators': 300, 'learning_rate': 0.08789027696693445, 'max_depth': 3, 'subsample': 0.4239128067472745, 'colsample_bytree': 0.1518362079834492, 'min_child_weight': 15}. Best is trial 5 with value: 350567.6367239541.\n",
      "100%|██████████| 5/5 [00:01<00:00,  2.86it/s]\n",
      "[I 2024-09-16 19:34:23,893] Trial 9 finished with value: 645296.3758828804 and parameters: {'n_estimators': 332, 'learning_rate': 0.011143507565532404, 'max_depth': 10, 'subsample': 0.19413676722907458, 'colsample_bytree': 0.16305377061181325, 'min_child_weight': 5}. Best is trial 5 with value: 350567.6367239541.\n",
      "100%|██████████| 5/5 [00:02<00:00,  1.76it/s]\n",
      "[I 2024-09-16 19:34:26,794] Trial 10 finished with value: 391865.90314721473 and parameters: {'n_estimators': 511, 'learning_rate': 0.04413433745678212, 'max_depth': 5, 'subsample': 0.9877159260069346, 'colsample_bytree': 0.9531496299022031, 'min_child_weight': 20}. Best is trial 5 with value: 350567.6367239541.\n",
      "100%|██████████| 5/5 [00:02<00:00,  2.03it/s]\n",
      "[I 2024-09-16 19:34:29,311] Trial 11 finished with value: 377090.67885144486 and parameters: {'n_estimators': 636, 'learning_rate': 0.005818897180785108, 'max_depth': 4, 'subsample': 0.06611302017041445, 'colsample_bytree': 0.957897788548107, 'min_child_weight': 1}. Best is trial 5 with value: 350567.6367239541.\n",
      "100%|██████████| 5/5 [00:01<00:00,  3.60it/s]\n",
      "[I 2024-09-16 19:34:30,752] Trial 12 finished with value: 364574.3970825219 and parameters: {'n_estimators': 477, 'learning_rate': 0.022460758589932583, 'max_depth': 1, 'subsample': 0.2782898642226369, 'colsample_bytree': 0.7544522334121015, 'min_child_weight': 6}. Best is trial 5 with value: 350567.6367239541.\n",
      "100%|██████████| 5/5 [00:02<00:00,  2.28it/s]\n",
      "[I 2024-09-16 19:34:33,006] Trial 13 finished with value: 364572.2956892254 and parameters: {'n_estimators': 464, 'learning_rate': 0.028314949237281114, 'max_depth': 6, 'subsample': 0.33624216750019176, 'colsample_bytree': 0.7755309551778602, 'min_child_weight': 8}. Best is trial 5 with value: 350567.6367239541.\n",
      "100%|██████████| 5/5 [00:01<00:00,  2.80it/s]\n",
      "[I 2024-09-16 19:34:34,854] Trial 14 finished with value: 388569.0213836586 and parameters: {'n_estimators': 391, 'learning_rate': 0.005867658531717563, 'max_depth': 6, 'subsample': 0.35602574047317714, 'colsample_bytree': 0.7585354191691196, 'min_child_weight': 9}. Best is trial 5 with value: 350567.6367239541.\n",
      "100%|██████████| 5/5 [00:01<00:00,  4.99it/s]\n",
      "[I 2024-09-16 19:34:35,912] Trial 15 finished with value: 356506.2023953237 and parameters: {'n_estimators': 175, 'learning_rate': 0.03368469755861148, 'max_depth': 7, 'subsample': 0.5917305960530955, 'colsample_bytree': 0.8640071623807613, 'min_child_weight': 20}. Best is trial 5 with value: 350567.6367239541.\n",
      "100%|██████████| 5/5 [00:00<00:00,  6.47it/s]\n",
      "[I 2024-09-16 19:34:36,741] Trial 16 finished with value: 357810.05090162356 and parameters: {'n_estimators': 76, 'learning_rate': 0.06440843901687726, 'max_depth': 7, 'subsample': 0.5821525542359, 'colsample_bytree': 0.8926280359981281, 'min_child_weight': 20}. Best is trial 5 with value: 350567.6367239541.\n",
      "100%|██████████| 5/5 [00:01<00:00,  4.71it/s]\n",
      "[I 2024-09-16 19:34:37,874] Trial 17 finished with value: 467775.6758149524 and parameters: {'n_estimators': 245, 'learning_rate': 0.006529196074555153, 'max_depth': 4, 'subsample': 0.7198979463516708, 'colsample_bytree': 0.6538875661122839, 'min_child_weight': 17}. Best is trial 5 with value: 350567.6367239541.\n",
      "100%|██████████| 5/5 [00:03<00:00,  1.55it/s]\n",
      "[I 2024-09-16 19:34:41,159] Trial 18 finished with value: 396615.7577420637 and parameters: {'n_estimators': 802, 'learning_rate': 0.03735092301215079, 'max_depth': 4, 'subsample': 0.8587207969973308, 'colsample_bytree': 0.9997354972687543, 'min_child_weight': 17}. Best is trial 5 with value: 350567.6367239541.\n",
      "100%|██████████| 5/5 [00:02<00:00,  2.27it/s]\n",
      "[I 2024-09-16 19:34:43,425] Trial 19 finished with value: 350562.8818255729 and parameters: {'n_estimators': 595, 'learning_rate': 0.011412075654731587, 'max_depth': 7, 'subsample': 0.6904981120460123, 'colsample_bytree': 0.8649958063667648, 'min_child_weight': 19}. Best is trial 19 with value: 350562.8818255729.\n",
      "100%|██████████| 5/5 [00:02<00:00,  2.37it/s]\n",
      "[I 2024-09-16 19:34:45,589] Trial 20 finished with value: 352452.79690233443 and parameters: {'n_estimators': 579, 'learning_rate': 0.009308824873607442, 'max_depth': 5, 'subsample': 0.6701482801156606, 'colsample_bytree': 0.6341169142470039, 'min_child_weight': 14}. Best is trial 19 with value: 350562.8818255729.\n",
      "100%|██████████| 5/5 [00:02<00:00,  2.19it/s]\n",
      "[I 2024-09-16 19:34:47,934] Trial 21 finished with value: 402985.35320911737 and parameters: {'n_estimators': 576, 'learning_rate': 0.008829575812672213, 'max_depth': 5, 'subsample': 0.6908173322731525, 'colsample_bytree': 0.37485915820244137, 'min_child_weight': 14}. Best is trial 19 with value: 350562.8818255729.\n",
      "100%|██████████| 5/5 [00:02<00:00,  2.47it/s]\n",
      "[I 2024-09-16 19:34:50,030] Trial 22 finished with value: 404635.85750224383 and parameters: {'n_estimators': 599, 'learning_rate': 0.0037601498305753537, 'max_depth': 3, 'subsample': 0.7684325713207192, 'colsample_bytree': 0.6763825112482538, 'min_child_weight': 18}. Best is trial 19 with value: 350562.8818255729.\n",
      "100%|██████████| 5/5 [00:04<00:00,  1.02it/s]\n",
      "[I 2024-09-16 19:34:54,995] Trial 23 finished with value: 356097.9989402124 and parameters: {'n_estimators': 855, 'learning_rate': 0.011708814723905935, 'max_depth': 7, 'subsample': 0.9111027625247774, 'colsample_bytree': 0.8728006545603509, 'min_child_weight': 15}. Best is trial 19 with value: 350562.8818255729.\n",
      "100%|██████████| 5/5 [00:03<00:00,  1.50it/s]\n",
      "[I 2024-09-16 19:34:58,394] Trial 24 finished with value: 360421.15827285446 and parameters: {'n_estimators': 731, 'learning_rate': 0.01637968681842455, 'max_depth': 5, 'subsample': 0.6704781497704482, 'colsample_bytree': 0.6617999045606515, 'min_child_weight': 13}. Best is trial 19 with value: 350562.8818255729.\n",
      "100%|██████████| 5/5 [00:01<00:00,  3.16it/s]\n",
      "[I 2024-09-16 19:35:00,034] Trial 25 finished with value: 411664.9349195659 and parameters: {'n_estimators': 557, 'learning_rate': 0.006988240962729094, 'max_depth': 3, 'subsample': 0.5028040081831817, 'colsample_bytree': 0.40571120758061713, 'min_child_weight': 18}. Best is trial 19 with value: 350562.8818255729.\n",
      "100%|██████████| 5/5 [00:02<00:00,  2.11it/s]\n",
      "[I 2024-09-16 19:35:02,460] Trial 26 finished with value: 427259.8495571779 and parameters: {'n_estimators': 419, 'learning_rate': 0.00377184170087238, 'max_depth': 8, 'subsample': 0.7612922082384879, 'colsample_bytree': 0.8362280405579358, 'min_child_weight': 16}. Best is trial 19 with value: 350562.8818255729.\n",
      "100%|██████████| 5/5 [00:04<00:00,  1.16it/s]\n",
      "[I 2024-09-16 19:35:06,832] Trial 27 finished with value: 379084.6907660344 and parameters: {'n_estimators': 1000, 'learning_rate': 0.00409175760836267, 'max_depth': 4, 'subsample': 0.620695498651052, 'colsample_bytree': 0.47472069725195304, 'min_child_weight': 12}. Best is trial 19 with value: 350562.8818255729.\n",
      "100%|██████████| 5/5 [00:02<00:00,  1.72it/s]\n",
      "[I 2024-09-16 19:35:09,806] Trial 28 finished with value: 615543.163118883 and parameters: {'n_estimators': 677, 'learning_rate': 0.023173643737047705, 'max_depth': 5, 'subsample': 0.49095872138751817, 'colsample_bytree': 0.05772596807334218, 'min_child_weight': 19}. Best is trial 19 with value: 350562.8818255729.\n",
      "100%|██████████| 5/5 [00:07<00:00,  1.55s/it]\n",
      "[I 2024-09-16 19:35:17,597] Trial 29 finished with value: 353450.22946709354 and parameters: {'n_estimators': 821, 'learning_rate': 0.009463388022840198, 'max_depth': 8, 'subsample': 0.9184241542163023, 'colsample_bytree': 0.7177252013817044, 'min_child_weight': 15}. Best is trial 19 with value: 350562.8818255729.\n",
      "100%|██████████| 5/5 [00:02<00:00,  2.21it/s]\n",
      "[I 2024-09-16 19:35:19,921] Trial 30 finished with value: 337275.91000807355 and parameters: {'n_estimators': 789, 'learning_rate': 0.013075153285676714, 'max_depth': 2, 'subsample': 0.9398821826271453, 'colsample_bytree': 0.6071075222104177, 'min_child_weight': 10}. Best is trial 30 with value: 337275.91000807355.\n",
      "100%|██████████| 5/5 [00:03<00:00,  1.35it/s]\n",
      "[I 2024-09-16 19:35:23,678] Trial 31 finished with value: 339192.9475857875 and parameters: {'n_estimators': 773, 'learning_rate': 0.01356009186947082, 'max_depth': 2, 'subsample': 0.9267541463930388, 'colsample_bytree': 0.6046015267184484, 'min_child_weight': 11}. Best is trial 30 with value: 337275.91000807355.\n",
      "100%|██████████| 5/5 [00:03<00:00,  1.66it/s]\n",
      "[I 2024-09-16 19:35:26,750] Trial 32 finished with value: 339082.1590534424 and parameters: {'n_estimators': 771, 'learning_rate': 0.013314253976253947, 'max_depth': 2, 'subsample': 0.9270920907842265, 'colsample_bytree': 0.4708200033203251, 'min_child_weight': 11}. Best is trial 30 with value: 337275.91000807355.\n",
      "100%|██████████| 5/5 [00:05<00:00,  1.13s/it]\n",
      "[I 2024-09-16 19:35:32,469] Trial 33 finished with value: 344444.41323010734 and parameters: {'n_estimators': 783, 'learning_rate': 0.02019426114622103, 'max_depth': 2, 'subsample': 0.9582448064933992, 'colsample_bytree': 0.4734241376313603, 'min_child_weight': 10}. Best is trial 30 with value: 337275.91000807355.\n",
      "100%|██████████| 5/5 [00:11<00:00,  2.40s/it]\n",
      "[I 2024-09-16 19:35:44,555] Trial 34 finished with value: 341090.81016193307 and parameters: {'n_estimators': 789, 'learning_rate': 0.02009604806644986, 'max_depth': 2, 'subsample': 0.9928101332801927, 'colsample_bytree': 0.4974006235054818, 'min_child_weight': 11}. Best is trial 30 with value: 337275.91000807355.\n",
      "100%|██████████| 5/5 [00:12<00:00,  2.40s/it]\n",
      "[I 2024-09-16 19:35:56,622] Trial 35 finished with value: 341952.71866658924 and parameters: {'n_estimators': 892, 'learning_rate': 0.015000860891789758, 'max_depth': 2, 'subsample': 0.9955453996138068, 'colsample_bytree': 0.552091199885708, 'min_child_weight': 11}. Best is trial 30 with value: 337275.91000807355.\n",
      "100%|██████████| 5/5 [00:06<00:00,  1.21s/it]\n",
      "[I 2024-09-16 19:36:02,730] Trial 36 finished with value: 353605.1064604561 and parameters: {'n_estimators': 691, 'learning_rate': 0.026187561505300046, 'max_depth': 1, 'subsample': 0.865146885699851, 'colsample_bytree': 0.36254546377746966, 'min_child_weight': 8}. Best is trial 30 with value: 337275.91000807355.\n",
      "100%|██████████| 5/5 [00:13<00:00,  2.62s/it]\n",
      "[I 2024-09-16 19:36:15,881] Trial 37 finished with value: 387012.09575164196 and parameters: {'n_estimators': 864, 'learning_rate': 0.05180630673083849, 'max_depth': 2, 'subsample': 0.7893487951803966, 'colsample_bytree': 0.48847647611488243, 'min_child_weight': 10}. Best is trial 30 with value: 337275.91000807355.\n",
      "100%|██████████| 5/5 [00:10<00:00,  2.10s/it]\n",
      "[I 2024-09-16 19:36:26,549] Trial 38 finished with value: 381296.8696303264 and parameters: {'n_estimators': 960, 'learning_rate': 0.0201607610354384, 'max_depth': 1, 'subsample': 0.8941920221650584, 'colsample_bytree': 0.6084583860210199, 'min_child_weight': 12}. Best is trial 30 with value: 337275.91000807355.\n",
      "100%|██████████| 5/5 [00:18<00:00,  3.61s/it]\n",
      "[I 2024-09-16 19:36:44,722] Trial 39 finished with value: 341052.26725246664 and parameters: {'n_estimators': 817, 'learning_rate': 0.01416885400803346, 'max_depth': 3, 'subsample': 0.8088454729007063, 'colsample_bytree': 0.30751543116687907, 'min_child_weight': 7}. Best is trial 30 with value: 337275.91000807355.\n",
      "100%|██████████| 5/5 [00:21<00:00,  4.33s/it]\n",
      "[I 2024-09-16 19:37:06,457] Trial 40 finished with value: 317374.3858383673 and parameters: {'n_estimators': 924, 'learning_rate': 0.012919322875299294, 'max_depth': 3, 'subsample': 0.8013069739644613, 'colsample_bytree': 0.5872415650406032, 'min_child_weight': 7}. Best is trial 40 with value: 317374.3858383673.\n",
      "100%|██████████| 5/5 [00:21<00:00,  4.27s/it]\n",
      "[I 2024-09-16 19:37:27,885] Trial 41 finished with value: 342693.11322049826 and parameters: {'n_estimators': 948, 'learning_rate': 0.014486530847514304, 'max_depth': 3, 'subsample': 0.821132724321613, 'colsample_bytree': 0.3048877961740488, 'min_child_weight': 7}. Best is trial 40 with value: 317374.3858383673.\n",
      "100%|██████████| 5/5 [00:17<00:00,  3.51s/it]\n",
      "[I 2024-09-16 19:37:45,544] Trial 42 finished with value: 325825.8422887642 and parameters: {'n_estimators': 842, 'learning_rate': 0.007553339486195514, 'max_depth': 3, 'subsample': 0.9409927188754916, 'colsample_bytree': 0.5861363723550825, 'min_child_weight': 9}. Best is trial 40 with value: 317374.3858383673.\n",
      "100%|██████████| 5/5 [00:07<00:00,  1.59s/it]\n",
      "[I 2024-09-16 19:37:53,589] Trial 43 finished with value: 358481.65928405646 and parameters: {'n_estimators': 897, 'learning_rate': 0.008088379150035923, 'max_depth': 1, 'subsample': 0.9443699686643692, 'colsample_bytree': 0.5970686552443232, 'min_child_weight': 9}. Best is trial 40 with value: 317374.3858383673.\n",
      "100%|██████████| 5/5 [00:09<00:00,  1.89s/it]\n",
      "[I 2024-09-16 19:38:03,113] Trial 44 finished with value: 362365.55521108053 and parameters: {'n_estimators': 726, 'learning_rate': 0.0045209988378670015, 'max_depth': 2, 'subsample': 0.8658627022774317, 'colsample_bytree': 0.5394600996585132, 'min_child_weight': 3}. Best is trial 40 with value: 317374.3858383673.\n",
      "100%|██████████| 5/5 [00:13<00:00,  2.79s/it]\n",
      "[I 2024-09-16 19:38:17,120] Trial 45 finished with value: 463458.27707610093 and parameters: {'n_estimators': 842, 'learning_rate': 0.002787675475796882, 'max_depth': 3, 'subsample': 0.9465886012062066, 'colsample_bytree': 0.43069603778081933, 'min_child_weight': 10}. Best is trial 40 with value: 317374.3858383673.\n",
      "100%|██████████| 5/5 [00:14<00:00,  2.97s/it]\n",
      "[I 2024-09-16 19:38:32,022] Trial 46 finished with value: 345158.06999383774 and parameters: {'n_estimators': 758, 'learning_rate': 0.005048478122375007, 'max_depth': 2, 'subsample': 0.8930556834627419, 'colsample_bytree': 0.7083872750540404, 'min_child_weight': 8}. Best is trial 40 with value: 317374.3858383673.\n",
      "100%|██████████| 5/5 [00:05<00:00,  1.17s/it]\n",
      "[I 2024-09-16 19:38:37,974] Trial 47 finished with value: 351853.38327468955 and parameters: {'n_estimators': 651, 'learning_rate': 0.012985268866089174, 'max_depth': 1, 'subsample': 0.7553435437980032, 'colsample_bytree': 0.5777041972917553, 'min_child_weight': 5}. Best is trial 40 with value: 317374.3858383673.\n",
      "100%|██████████| 5/5 [00:16<00:00,  3.25s/it]\n",
      "[I 2024-09-16 19:38:54,296] Trial 48 finished with value: 350322.57544287917 and parameters: {'n_estimators': 918, 'learning_rate': 0.0075155576261096025, 'max_depth': 3, 'subsample': 0.8924452830574732, 'colsample_bytree': 0.5223885853612886, 'min_child_weight': 13}. Best is trial 40 with value: 317374.3858383673.\n",
      "100%|██████████| 5/5 [00:13<00:00,  2.67s/it]\n",
      "[I 2024-09-16 19:39:07,746] Trial 49 finished with value: 440963.8124341999 and parameters: {'n_estimators': 995, 'learning_rate': 0.0018669184611660174, 'max_depth': 2, 'subsample': 0.958800675928325, 'colsample_bytree': 0.6178051275945472, 'min_child_weight': 7}. Best is trial 40 with value: 317374.3858383673.\n",
      "100%|██████████| 5/5 [00:21<00:00,  4.20s/it]\n",
      "[I 2024-09-16 19:39:28,839] Trial 50 finished with value: 351777.3273426705 and parameters: {'n_estimators': 933, 'learning_rate': 0.029437201346771368, 'max_depth': 4, 'subsample': 0.840718243301152, 'colsample_bytree': 0.4323141466290008, 'min_child_weight': 9}. Best is trial 40 with value: 317374.3858383673.\n",
      "100%|██████████| 5/5 [00:15<00:00,  3.01s/it]\n",
      "[I 2024-09-16 19:39:43,974] Trial 51 finished with value: 349837.1009250557 and parameters: {'n_estimators': 832, 'learning_rate': 0.01725890980434644, 'max_depth': 3, 'subsample': 0.8083777517655961, 'colsample_bytree': 0.2800835533977212, 'min_child_weight': 6}. Best is trial 40 with value: 317374.3858383673.\n",
      "100%|██████████| 5/5 [00:14<00:00,  2.97s/it]\n",
      "[I 2024-09-16 19:39:58,882] Trial 52 finished with value: 301657.78363287455 and parameters: {'n_estimators': 766, 'learning_rate': 0.010105489160419825, 'max_depth': 3, 'subsample': 0.9277672984029419, 'colsample_bytree': 0.7158373969295292, 'min_child_weight': 7}. Best is trial 52 with value: 301657.78363287455.\n",
      "100%|██████████| 5/5 [00:13<00:00,  2.71s/it]\n",
      "[I 2024-09-16 19:40:12,550] Trial 53 finished with value: 358260.71065161435 and parameters: {'n_estimators': 761, 'learning_rate': 0.010514749686810498, 'max_depth': 2, 'subsample': 0.9305052340876823, 'colsample_bytree': 0.6966121983944331, 'min_child_weight': 12}. Best is trial 52 with value: 301657.78363287455.\n",
      "100%|██████████| 5/5 [00:06<00:00,  1.28s/it]\n",
      "[I 2024-09-16 19:40:19,043] Trial 54 finished with value: 384809.9807358046 and parameters: {'n_estimators': 701, 'learning_rate': 0.005836028339290379, 'max_depth': 1, 'subsample': 0.9736609462530275, 'colsample_bytree': 0.7378229653798578, 'min_child_weight': 8}. Best is trial 52 with value: 301657.78363287455.\n",
      "100%|██████████| 5/5 [00:16<00:00,  3.25s/it]\n",
      "[I 2024-09-16 19:40:35,371] Trial 55 finished with value: 302652.7738850446 and parameters: {'n_estimators': 873, 'learning_rate': 0.010008970233044766, 'max_depth': 3, 'subsample': 0.8778973019747512, 'colsample_bytree': 0.8054610262234755, 'min_child_weight': 6}. Best is trial 52 with value: 301657.78363287455.\n",
      "100%|██████████| 5/5 [00:21<00:00,  4.34s/it]\n",
      "[I 2024-09-16 19:40:57,178] Trial 56 finished with value: 297216.6483668266 and parameters: {'n_estimators': 876, 'learning_rate': 0.010274252516201945, 'max_depth': 4, 'subsample': 0.8681365211476988, 'colsample_bytree': 0.7889139567442724, 'min_child_weight': 5}. Best is trial 56 with value: 297216.6483668266.\n",
      "100%|██████████| 5/5 [00:26<00:00,  5.40s/it]\n",
      "[I 2024-09-16 19:41:24,278] Trial 57 finished with value: 292916.27065474004 and parameters: {'n_estimators': 880, 'learning_rate': 0.010284220140756157, 'max_depth': 4, 'subsample': 0.8619460555927204, 'colsample_bytree': 0.8177112320166352, 'min_child_weight': 3}. Best is trial 57 with value: 292916.27065474004.\n",
      "100%|██████████| 5/5 [00:20<00:00,  4.16s/it]\n",
      "[I 2024-09-16 19:41:45,165] Trial 58 finished with value: 293494.4038819185 and parameters: {'n_estimators': 881, 'learning_rate': 0.008178667996198923, 'max_depth': 4, 'subsample': 0.7298073573195631, 'colsample_bytree': 0.8015232957583249, 'min_child_weight': 3}. Best is trial 57 with value: 292916.27065474004.\n",
      "100%|██████████| 5/5 [00:24<00:00,  4.82s/it]\n",
      "[I 2024-09-16 19:42:09,349] Trial 59 finished with value: 276330.06095310475 and parameters: {'n_estimators': 962, 'learning_rate': 0.010151402983859782, 'max_depth': 4, 'subsample': 0.7314089709555274, 'colsample_bytree': 0.797489715582529, 'min_child_weight': 2}. Best is trial 59 with value: 276330.06095310475.\n",
      "100%|██████████| 5/5 [00:25<00:00,  5.02s/it]\n",
      "[I 2024-09-16 19:42:34,537] Trial 60 finished with value: 276461.5632668458 and parameters: {'n_estimators': 966, 'learning_rate': 0.009886305151165425, 'max_depth': 4, 'subsample': 0.7243923677663154, 'colsample_bytree': 0.7993697003006646, 'min_child_weight': 2}. Best is trial 59 with value: 276330.06095310475.\n",
      "100%|██████████| 5/5 [00:23<00:00,  4.77s/it]\n",
      "[I 2024-09-16 19:42:58,470] Trial 61 finished with value: 276912.4388753066 and parameters: {'n_estimators': 963, 'learning_rate': 0.010442899007836197, 'max_depth': 4, 'subsample': 0.7371552376286271, 'colsample_bytree': 0.7981460182431006, 'min_child_weight': 2}. Best is trial 59 with value: 276330.06095310475.\n",
      "100%|██████████| 5/5 [00:10<00:00,  2.11s/it]\n",
      "[I 2024-09-16 19:43:09,101] Trial 62 finished with value: 275504.55438716034 and parameters: {'n_estimators': 968, 'learning_rate': 0.008698904418549844, 'max_depth': 4, 'subsample': 0.6318273208369644, 'colsample_bytree': 0.9081377360643194, 'min_child_weight': 1}. Best is trial 62 with value: 275504.55438716034.\n",
      "100%|██████████| 5/5 [00:04<00:00,  1.07it/s]\n",
      "[I 2024-09-16 19:43:13,847] Trial 63 finished with value: 272733.56091692194 and parameters: {'n_estimators': 983, 'learning_rate': 0.006447264310627344, 'max_depth': 4, 'subsample': 0.612964583177195, 'colsample_bytree': 0.9160016734029872, 'min_child_weight': 1}. Best is trial 63 with value: 272733.56091692194.\n",
      "100%|██████████| 5/5 [00:09<00:00,  1.86s/it]\n",
      "[I 2024-09-16 19:43:23,203] Trial 64 finished with value: 272744.5547511965 and parameters: {'n_estimators': 968, 'learning_rate': 0.006358501494448835, 'max_depth': 5, 'subsample': 0.6112992991621201, 'colsample_bytree': 0.9265784899511773, 'min_child_weight': 1}. Best is trial 63 with value: 272733.56091692194.\n",
      "100%|██████████| 5/5 [00:06<00:00,  1.38s/it]\n",
      "[I 2024-09-16 19:43:30,236] Trial 65 finished with value: 273584.89163895074 and parameters: {'n_estimators': 972, 'learning_rate': 0.00652369173554935, 'max_depth': 5, 'subsample': 0.6274700938737992, 'colsample_bytree': 0.917301659989585, 'min_child_weight': 1}. Best is trial 63 with value: 272733.56091692194.\n",
      "100%|██████████| 5/5 [00:08<00:00,  1.65s/it]\n",
      "[I 2024-09-16 19:43:38,644] Trial 66 finished with value: 281007.8885172955 and parameters: {'n_estimators': 972, 'learning_rate': 0.006606248692325297, 'max_depth': 6, 'subsample': 0.6058188324043936, 'colsample_bytree': 0.9190146183198423, 'min_child_weight': 1}. Best is trial 63 with value: 272733.56091692194.\n",
      "100%|██████████| 5/5 [00:11<00:00,  2.20s/it]\n",
      "[I 2024-09-16 19:43:49,748] Trial 67 finished with value: 270944.35131153715 and parameters: {'n_estimators': 970, 'learning_rate': 0.00510380549632642, 'max_depth': 5, 'subsample': 0.6416612379958364, 'colsample_bytree': 0.9908323091624512, 'min_child_weight': 2}. Best is trial 67 with value: 270944.35131153715.\n",
      "100%|██████████| 5/5 [00:08<00:00,  1.77s/it]\n",
      "[I 2024-09-16 19:43:58,680] Trial 68 finished with value: 285709.25445795804 and parameters: {'n_estimators': 995, 'learning_rate': 0.00301269828628987, 'max_depth': 5, 'subsample': 0.540453454918826, 'colsample_bytree': 0.9831076153823247, 'min_child_weight': 2}. Best is trial 67 with value: 270944.35131153715.\n",
      "100%|██████████| 5/5 [00:08<00:00,  1.63s/it]\n",
      "[I 2024-09-16 19:44:06,895] Trial 69 finished with value: 274528.5281106734 and parameters: {'n_estimators': 914, 'learning_rate': 0.0053277024529954425, 'max_depth': 5, 'subsample': 0.6417121591320247, 'colsample_bytree': 0.9285860272028192, 'min_child_weight': 2}. Best is trial 67 with value: 270944.35131153715.\n",
      "100%|██████████| 5/5 [00:08<00:00,  1.78s/it]\n",
      "[I 2024-09-16 19:44:15,893] Trial 70 finished with value: 279567.1579303307 and parameters: {'n_estimators': 906, 'learning_rate': 0.00461738064373986, 'max_depth': 6, 'subsample': 0.6415192688969286, 'colsample_bytree': 0.9060448575753496, 'min_child_weight': 1}. Best is trial 67 with value: 270944.35131153715.\n",
      "100%|██████████| 5/5 [00:07<00:00,  1.47s/it]\n",
      "[I 2024-09-16 19:44:23,284] Trial 71 finished with value: 273211.5624427402 and parameters: {'n_estimators': 977, 'learning_rate': 0.005384621994278143, 'max_depth': 5, 'subsample': 0.6480007446369003, 'colsample_bytree': 0.9360569833506036, 'min_child_weight': 2}. Best is trial 67 with value: 270944.35131153715.\n",
      "100%|██████████| 5/5 [00:13<00:00,  2.74s/it]\n",
      "[I 2024-09-16 19:44:37,044] Trial 72 finished with value: 275845.4908501244 and parameters: {'n_estimators': 927, 'learning_rate': 0.0055921779045606515, 'max_depth': 5, 'subsample': 0.5712686734151396, 'colsample_bytree': 0.938944063828536, 'min_child_weight': 1}. Best is trial 67 with value: 270944.35131153715.\n",
      "100%|██████████| 5/5 [00:17<00:00,  3.42s/it]\n",
      "[I 2024-09-16 19:44:54,206] Trial 73 finished with value: 276534.5038517061 and parameters: {'n_estimators': 934, 'learning_rate': 0.005286957451574873, 'max_depth': 5, 'subsample': 0.5738365579744874, 'colsample_bytree': 0.9410274840386835, 'min_child_weight': 1}. Best is trial 67 with value: 270944.35131153715.\n",
      "100%|██████████| 5/5 [00:19<00:00,  3.95s/it]\n",
      "[I 2024-09-16 19:45:14,066] Trial 74 finished with value: 298451.13839247037 and parameters: {'n_estimators': 998, 'learning_rate': 0.0031589825904655717, 'max_depth': 6, 'subsample': 0.6480750551658733, 'colsample_bytree': 0.9703926534861803, 'min_child_weight': 4}. Best is trial 67 with value: 270944.35131153715.\n",
      "100%|██████████| 5/5 [00:32<00:00,  6.45s/it]\n",
      "[I 2024-09-16 19:45:46,398] Trial 75 finished with value: 278524.697122882 and parameters: {'n_estimators': 920, 'learning_rate': 0.005978839741400944, 'max_depth': 5, 'subsample': 0.5607247721318076, 'colsample_bytree': 0.9384986744883429, 'min_child_weight': 2}. Best is trial 67 with value: 270944.35131153715.\n",
      "100%|██████████| 5/5 [00:41<00:00,  8.36s/it]\n",
      "[I 2024-09-16 19:46:28,284] Trial 76 finished with value: 285698.6033222099 and parameters: {'n_estimators': 980, 'learning_rate': 0.004878534360107428, 'max_depth': 5, 'subsample': 0.4550191093041482, 'colsample_bytree': 0.8768114073748785, 'min_child_weight': 1}. Best is trial 67 with value: 270944.35131153715.\n",
      "100%|██████████| 5/5 [00:35<00:00,  7.09s/it]\n",
      "[I 2024-09-16 19:47:03,818] Trial 77 finished with value: 303964.6616137528 and parameters: {'n_estimators': 944, 'learning_rate': 0.003648669943260662, 'max_depth': 6, 'subsample': 0.6151721867753545, 'colsample_bytree': 0.8452034165550474, 'min_child_weight': 4}. Best is trial 67 with value: 270944.35131153715.\n",
      "100%|██████████| 5/5 [00:24<00:00,  4.91s/it]\n",
      "[I 2024-09-16 19:47:28,491] Trial 78 finished with value: 294643.3901609563 and parameters: {'n_estimators': 905, 'learning_rate': 0.006486871998677273, 'max_depth': 5, 'subsample': 0.5272260958598012, 'colsample_bytree': 0.9188810361923349, 'min_child_weight': 3}. Best is trial 67 with value: 270944.35131153715.\n",
      "100%|██████████| 5/5 [00:30<00:00,  6.08s/it]\n",
      "[I 2024-09-16 19:47:58,990] Trial 79 finished with value: 270359.58047664433 and parameters: {'n_estimators': 930, 'learning_rate': 0.004143824811513047, 'max_depth': 5, 'subsample': 0.6625347725444682, 'colsample_bytree': 0.9961808141987389, 'min_child_weight': 2}. Best is trial 79 with value: 270359.58047664433.\n",
      "100%|██████████| 5/5 [00:29<00:00,  5.96s/it]\n",
      "[I 2024-09-16 19:48:28,877] Trial 80 finished with value: 296241.5807875154 and parameters: {'n_estimators': 946, 'learning_rate': 0.004284644426419236, 'max_depth': 6, 'subsample': 0.6699704307538004, 'colsample_bytree': 0.8916346785570206, 'min_child_weight': 3}. Best is trial 79 with value: 270359.58047664433.\n",
      "100%|██████████| 5/5 [00:26<00:00,  5.25s/it]\n",
      "[I 2024-09-16 19:48:55,232] Trial 81 finished with value: 272338.2823897213 and parameters: {'n_estimators': 978, 'learning_rate': 0.005477360579607157, 'max_depth': 5, 'subsample': 0.6373571145816311, 'colsample_bytree': 0.9984684051679902, 'min_child_weight': 2}. Best is trial 79 with value: 270359.58047664433.\n",
      "100%|██████████| 5/5 [00:27<00:00,  5.41s/it]\n",
      "[I 2024-09-16 19:49:22,346] Trial 82 finished with value: 300953.12142653513 and parameters: {'n_estimators': 977, 'learning_rate': 0.0023922883862360056, 'max_depth': 5, 'subsample': 0.6329251575573691, 'colsample_bytree': 0.989196897416019, 'min_child_weight': 2}. Best is trial 79 with value: 270359.58047664433.\n",
      "100%|██████████| 5/5 [00:28<00:00,  5.64s/it]\n",
      "[I 2024-09-16 19:49:50,623] Trial 83 finished with value: 273481.96997915086 and parameters: {'n_estimators': 1000, 'learning_rate': 0.003577925203969009, 'max_depth': 5, 'subsample': 0.6874963701107837, 'colsample_bytree': 0.9981890798921682, 'min_child_weight': 1}. Best is trial 79 with value: 270359.58047664433.\n",
      "100%|██████████| 5/5 [00:28<00:00,  5.69s/it]\n",
      "[I 2024-09-16 19:50:19,196] Trial 84 finished with value: 269418.4517200979 and parameters: {'n_estimators': 997, 'learning_rate': 0.0038743655954629635, 'max_depth': 5, 'subsample': 0.6783569940837267, 'colsample_bytree': 0.9608401667903488, 'min_child_weight': 2}. Best is trial 84 with value: 269418.4517200979.\n",
      "100%|██████████| 5/5 [00:36<00:00,  7.29s/it]\n",
      "[I 2024-09-16 19:50:55,817] Trial 85 finished with value: 294186.20516253106 and parameters: {'n_estimators': 985, 'learning_rate': 0.0034916800843908364, 'max_depth': 7, 'subsample': 0.6920149604755419, 'colsample_bytree': 0.9621994563564737, 'min_child_weight': 4}. Best is trial 84 with value: 269418.4517200979.\n",
      "100%|██████████| 5/5 [00:29<00:00,  5.91s/it]\n",
      "[I 2024-09-16 19:51:25,498] Trial 86 finished with value: 290273.649319263 and parameters: {'n_estimators': 945, 'learning_rate': 0.004184943890767982, 'max_depth': 5, 'subsample': 0.6663855750679417, 'colsample_bytree': 0.9951217862120596, 'min_child_weight': 3}. Best is trial 84 with value: 269418.4517200979.\n",
      "100%|██████████| 5/5 [00:08<00:00,  1.67s/it]\n",
      "[I 2024-09-16 19:51:33,980] Trial 87 finished with value: 687172.4085310518 and parameters: {'n_estimators': 233, 'learning_rate': 0.002430391663502063, 'max_depth': 6, 'subsample': 0.5953809851333808, 'colsample_bytree': 0.9654430869131385, 'min_child_weight': 2}. Best is trial 84 with value: 269418.4517200979.\n",
      "100%|██████████| 5/5 [00:28<00:00,  5.66s/it]\n",
      "[I 2024-09-16 19:52:02,357] Trial 88 finished with value: 296853.46526127 and parameters: {'n_estimators': 851, 'learning_rate': 0.003425265806531809, 'max_depth': 5, 'subsample': 0.7036345206673973, 'colsample_bytree': 0.8482954987019997, 'min_child_weight': 1}. Best is trial 84 with value: 269418.4517200979.\n",
      "100%|██████████| 5/5 [00:42<00:00,  8.51s/it]\n",
      "[I 2024-09-16 19:52:44,999] Trial 89 finished with value: 378738.63713331975 and parameters: {'n_estimators': 997, 'learning_rate': 0.0017571496557717674, 'max_depth': 10, 'subsample': 0.49455330568834893, 'colsample_bytree': 0.9543949805028181, 'min_child_weight': 5}. Best is trial 84 with value: 269418.4517200979.\n",
      "100%|██████████| 5/5 [00:18<00:00,  3.68s/it]\n",
      "[I 2024-09-16 19:53:03,472] Trial 90 finished with value: 300652.99459539325 and parameters: {'n_estimators': 898, 'learning_rate': 0.003946545581350056, 'max_depth': 5, 'subsample': 0.6589110308365945, 'colsample_bytree': 0.8825475260215282, 'min_child_weight': 4}. Best is trial 84 with value: 269418.4517200979.\n",
      "100%|██████████| 5/5 [00:07<00:00,  1.47s/it]\n",
      "[I 2024-09-16 19:53:10,914] Trial 91 finished with value: 269445.0300148958 and parameters: {'n_estimators': 949, 'learning_rate': 0.00508655522207522, 'max_depth': 5, 'subsample': 0.6947412966736671, 'colsample_bytree': 0.9327522715620506, 'min_child_weight': 2}. Best is trial 84 with value: 269418.4517200979.\n",
      "100%|██████████| 5/5 [00:07<00:00,  1.42s/it]\n",
      "[I 2024-09-16 19:53:18,096] Trial 92 finished with value: 269228.59315842995 and parameters: {'n_estimators': 952, 'learning_rate': 0.006233626996771717, 'max_depth': 5, 'subsample': 0.7028131208337476, 'colsample_bytree': 0.999923822131846, 'min_child_weight': 1}. Best is trial 92 with value: 269228.59315842995.\n",
      "100%|██████████| 5/5 [00:17<00:00,  3.43s/it]\n",
      "[I 2024-09-16 19:53:35,317] Trial 93 finished with value: 272367.851606877 and parameters: {'n_estimators': 946, 'learning_rate': 0.007303792084114025, 'max_depth': 6, 'subsample': 0.6950564015421511, 'colsample_bytree': 0.9975115688741332, 'min_child_weight': 2}. Best is trial 92 with value: 269228.59315842995.\n",
      "100%|██████████| 5/5 [00:12<00:00,  2.47s/it]\n",
      "[I 2024-09-16 19:53:47,774] Trial 94 finished with value: 289489.2906284818 and parameters: {'n_estimators': 946, 'learning_rate': 0.00707587747321857, 'max_depth': 6, 'subsample': 0.7006858985223172, 'colsample_bytree': 0.979596795203877, 'min_child_weight': 3}. Best is trial 92 with value: 269228.59315842995.\n",
      "100%|██████████| 5/5 [00:09<00:00,  1.91s/it]\n",
      "[I 2024-09-16 19:53:57,426] Trial 95 finished with value: 270734.6736410662 and parameters: {'n_estimators': 929, 'learning_rate': 0.004650635436676944, 'max_depth': 6, 'subsample': 0.769553825664506, 'colsample_bytree': 0.9521266767040744, 'min_child_weight': 2}. Best is trial 92 with value: 269228.59315842995.\n",
      "100%|██████████| 5/5 [00:06<00:00,  1.38s/it]\n",
      "[I 2024-09-16 19:54:04,398] Trial 96 finished with value: 294600.6777454367 and parameters: {'n_estimators': 810, 'learning_rate': 0.004752065766935404, 'max_depth': 6, 'subsample': 0.5468396835796839, 'colsample_bytree': 0.9610275681616114, 'min_child_weight': 3}. Best is trial 92 with value: 269228.59315842995.\n",
      "100%|██████████| 5/5 [00:07<00:00,  1.45s/it]\n",
      "[I 2024-09-16 19:54:11,725] Trial 97 finished with value: 272958.55366184836 and parameters: {'n_estimators': 893, 'learning_rate': 0.0061762931487800606, 'max_depth': 6, 'subsample': 0.7464171446887004, 'colsample_bytree': 0.89941611283223, 'min_child_weight': 2}. Best is trial 92 with value: 269228.59315842995.\n",
      "100%|██████████| 5/5 [00:19<00:00,  3.87s/it]\n",
      "[I 2024-09-16 19:54:31,169] Trial 98 finished with value: 272560.93719528045 and parameters: {'n_estimators': 929, 'learning_rate': 0.007573862332692449, 'max_depth': 7, 'subsample': 0.7741932145253974, 'colsample_bytree': 0.9980526112317551, 'min_child_weight': 2}. Best is trial 92 with value: 269228.59315842995.\n",
      "100%|██████████| 5/5 [00:10<00:00,  2.15s/it]\n",
      "[I 2024-09-16 19:54:42,023] Trial 99 finished with value: 295856.46855065296 and parameters: {'n_estimators': 512, 'learning_rate': 0.008153680572221328, 'max_depth': 8, 'subsample': 0.7800653991325049, 'colsample_bytree': 0.9767420877414126, 'min_child_weight': 3}. Best is trial 92 with value: 269228.59315842995.\n"
     ]
    }
   ],
   "source": [
    "study = optuna.create_study(direction='minimize')\n",
    "study.optimize(objectiveTimeSeriesCV, n_trials=100)"
   ]
  },
  {
   "cell_type": "code",
   "execution_count": null,
   "metadata": {},
   "outputs": [],
   "source": [
    "best_params = study.best_params"
   ]
  },
  {
   "cell_type": "code",
   "execution_count": 14,
   "metadata": {},
   "outputs": [
    {
     "data": {
      "text/plain": [
       "{'n_estimators': 621,\n",
       " 'learning_rate': 0.008330315086458037,\n",
       " 'max_depth': 4,\n",
       " 'subsample': 0.8704273253300887,\n",
       " 'colsample_bytree': 0.9985959499669473,\n",
       " 'min_child_weight': 1}"
      ]
     },
     "execution_count": 14,
     "metadata": {},
     "output_type": "execute_result"
    }
   ],
   "source": [
    "study.best_params"
   ]
  },
  {
   "cell_type": "code",
   "execution_count": 15,
   "metadata": {},
   "outputs": [
    {
     "data": {
      "text/html": [
       "<style>#sk-container-id-1 {\n",
       "  /* Definition of color scheme common for light and dark mode */\n",
       "  --sklearn-color-text: black;\n",
       "  --sklearn-color-line: gray;\n",
       "  /* Definition of color scheme for unfitted estimators */\n",
       "  --sklearn-color-unfitted-level-0: #fff5e6;\n",
       "  --sklearn-color-unfitted-level-1: #f6e4d2;\n",
       "  --sklearn-color-unfitted-level-2: #ffe0b3;\n",
       "  --sklearn-color-unfitted-level-3: chocolate;\n",
       "  /* Definition of color scheme for fitted estimators */\n",
       "  --sklearn-color-fitted-level-0: #f0f8ff;\n",
       "  --sklearn-color-fitted-level-1: #d4ebff;\n",
       "  --sklearn-color-fitted-level-2: #b3dbfd;\n",
       "  --sklearn-color-fitted-level-3: cornflowerblue;\n",
       "\n",
       "  /* Specific color for light theme */\n",
       "  --sklearn-color-text-on-default-background: var(--sg-text-color, var(--theme-code-foreground, var(--jp-content-font-color1, black)));\n",
       "  --sklearn-color-background: var(--sg-background-color, var(--theme-background, var(--jp-layout-color0, white)));\n",
       "  --sklearn-color-border-box: var(--sg-text-color, var(--theme-code-foreground, var(--jp-content-font-color1, black)));\n",
       "  --sklearn-color-icon: #696969;\n",
       "\n",
       "  @media (prefers-color-scheme: dark) {\n",
       "    /* Redefinition of color scheme for dark theme */\n",
       "    --sklearn-color-text-on-default-background: var(--sg-text-color, var(--theme-code-foreground, var(--jp-content-font-color1, white)));\n",
       "    --sklearn-color-background: var(--sg-background-color, var(--theme-background, var(--jp-layout-color0, #111)));\n",
       "    --sklearn-color-border-box: var(--sg-text-color, var(--theme-code-foreground, var(--jp-content-font-color1, white)));\n",
       "    --sklearn-color-icon: #878787;\n",
       "  }\n",
       "}\n",
       "\n",
       "#sk-container-id-1 {\n",
       "  color: var(--sklearn-color-text);\n",
       "}\n",
       "\n",
       "#sk-container-id-1 pre {\n",
       "  padding: 0;\n",
       "}\n",
       "\n",
       "#sk-container-id-1 input.sk-hidden--visually {\n",
       "  border: 0;\n",
       "  clip: rect(1px 1px 1px 1px);\n",
       "  clip: rect(1px, 1px, 1px, 1px);\n",
       "  height: 1px;\n",
       "  margin: -1px;\n",
       "  overflow: hidden;\n",
       "  padding: 0;\n",
       "  position: absolute;\n",
       "  width: 1px;\n",
       "}\n",
       "\n",
       "#sk-container-id-1 div.sk-dashed-wrapped {\n",
       "  border: 1px dashed var(--sklearn-color-line);\n",
       "  margin: 0 0.4em 0.5em 0.4em;\n",
       "  box-sizing: border-box;\n",
       "  padding-bottom: 0.4em;\n",
       "  background-color: var(--sklearn-color-background);\n",
       "}\n",
       "\n",
       "#sk-container-id-1 div.sk-container {\n",
       "  /* jupyter's `normalize.less` sets `[hidden] { display: none; }`\n",
       "     but bootstrap.min.css set `[hidden] { display: none !important; }`\n",
       "     so we also need the `!important` here to be able to override the\n",
       "     default hidden behavior on the sphinx rendered scikit-learn.org.\n",
       "     See: https://github.com/scikit-learn/scikit-learn/issues/21755 */\n",
       "  display: inline-block !important;\n",
       "  position: relative;\n",
       "}\n",
       "\n",
       "#sk-container-id-1 div.sk-text-repr-fallback {\n",
       "  display: none;\n",
       "}\n",
       "\n",
       "div.sk-parallel-item,\n",
       "div.sk-serial,\n",
       "div.sk-item {\n",
       "  /* draw centered vertical line to link estimators */\n",
       "  background-image: linear-gradient(var(--sklearn-color-text-on-default-background), var(--sklearn-color-text-on-default-background));\n",
       "  background-size: 2px 100%;\n",
       "  background-repeat: no-repeat;\n",
       "  background-position: center center;\n",
       "}\n",
       "\n",
       "/* Parallel-specific style estimator block */\n",
       "\n",
       "#sk-container-id-1 div.sk-parallel-item::after {\n",
       "  content: \"\";\n",
       "  width: 100%;\n",
       "  border-bottom: 2px solid var(--sklearn-color-text-on-default-background);\n",
       "  flex-grow: 1;\n",
       "}\n",
       "\n",
       "#sk-container-id-1 div.sk-parallel {\n",
       "  display: flex;\n",
       "  align-items: stretch;\n",
       "  justify-content: center;\n",
       "  background-color: var(--sklearn-color-background);\n",
       "  position: relative;\n",
       "}\n",
       "\n",
       "#sk-container-id-1 div.sk-parallel-item {\n",
       "  display: flex;\n",
       "  flex-direction: column;\n",
       "}\n",
       "\n",
       "#sk-container-id-1 div.sk-parallel-item:first-child::after {\n",
       "  align-self: flex-end;\n",
       "  width: 50%;\n",
       "}\n",
       "\n",
       "#sk-container-id-1 div.sk-parallel-item:last-child::after {\n",
       "  align-self: flex-start;\n",
       "  width: 50%;\n",
       "}\n",
       "\n",
       "#sk-container-id-1 div.sk-parallel-item:only-child::after {\n",
       "  width: 0;\n",
       "}\n",
       "\n",
       "/* Serial-specific style estimator block */\n",
       "\n",
       "#sk-container-id-1 div.sk-serial {\n",
       "  display: flex;\n",
       "  flex-direction: column;\n",
       "  align-items: center;\n",
       "  background-color: var(--sklearn-color-background);\n",
       "  padding-right: 1em;\n",
       "  padding-left: 1em;\n",
       "}\n",
       "\n",
       "\n",
       "/* Toggleable style: style used for estimator/Pipeline/ColumnTransformer box that is\n",
       "clickable and can be expanded/collapsed.\n",
       "- Pipeline and ColumnTransformer use this feature and define the default style\n",
       "- Estimators will overwrite some part of the style using the `sk-estimator` class\n",
       "*/\n",
       "\n",
       "/* Pipeline and ColumnTransformer style (default) */\n",
       "\n",
       "#sk-container-id-1 div.sk-toggleable {\n",
       "  /* Default theme specific background. It is overwritten whether we have a\n",
       "  specific estimator or a Pipeline/ColumnTransformer */\n",
       "  background-color: var(--sklearn-color-background);\n",
       "}\n",
       "\n",
       "/* Toggleable label */\n",
       "#sk-container-id-1 label.sk-toggleable__label {\n",
       "  cursor: pointer;\n",
       "  display: block;\n",
       "  width: 100%;\n",
       "  margin-bottom: 0;\n",
       "  padding: 0.5em;\n",
       "  box-sizing: border-box;\n",
       "  text-align: center;\n",
       "}\n",
       "\n",
       "#sk-container-id-1 label.sk-toggleable__label-arrow:before {\n",
       "  /* Arrow on the left of the label */\n",
       "  content: \"▸\";\n",
       "  float: left;\n",
       "  margin-right: 0.25em;\n",
       "  color: var(--sklearn-color-icon);\n",
       "}\n",
       "\n",
       "#sk-container-id-1 label.sk-toggleable__label-arrow:hover:before {\n",
       "  color: var(--sklearn-color-text);\n",
       "}\n",
       "\n",
       "/* Toggleable content - dropdown */\n",
       "\n",
       "#sk-container-id-1 div.sk-toggleable__content {\n",
       "  max-height: 0;\n",
       "  max-width: 0;\n",
       "  overflow: hidden;\n",
       "  text-align: left;\n",
       "  /* unfitted */\n",
       "  background-color: var(--sklearn-color-unfitted-level-0);\n",
       "}\n",
       "\n",
       "#sk-container-id-1 div.sk-toggleable__content.fitted {\n",
       "  /* fitted */\n",
       "  background-color: var(--sklearn-color-fitted-level-0);\n",
       "}\n",
       "\n",
       "#sk-container-id-1 div.sk-toggleable__content pre {\n",
       "  margin: 0.2em;\n",
       "  border-radius: 0.25em;\n",
       "  color: var(--sklearn-color-text);\n",
       "  /* unfitted */\n",
       "  background-color: var(--sklearn-color-unfitted-level-0);\n",
       "}\n",
       "\n",
       "#sk-container-id-1 div.sk-toggleable__content.fitted pre {\n",
       "  /* unfitted */\n",
       "  background-color: var(--sklearn-color-fitted-level-0);\n",
       "}\n",
       "\n",
       "#sk-container-id-1 input.sk-toggleable__control:checked~div.sk-toggleable__content {\n",
       "  /* Expand drop-down */\n",
       "  max-height: 200px;\n",
       "  max-width: 100%;\n",
       "  overflow: auto;\n",
       "}\n",
       "\n",
       "#sk-container-id-1 input.sk-toggleable__control:checked~label.sk-toggleable__label-arrow:before {\n",
       "  content: \"▾\";\n",
       "}\n",
       "\n",
       "/* Pipeline/ColumnTransformer-specific style */\n",
       "\n",
       "#sk-container-id-1 div.sk-label input.sk-toggleable__control:checked~label.sk-toggleable__label {\n",
       "  color: var(--sklearn-color-text);\n",
       "  background-color: var(--sklearn-color-unfitted-level-2);\n",
       "}\n",
       "\n",
       "#sk-container-id-1 div.sk-label.fitted input.sk-toggleable__control:checked~label.sk-toggleable__label {\n",
       "  background-color: var(--sklearn-color-fitted-level-2);\n",
       "}\n",
       "\n",
       "/* Estimator-specific style */\n",
       "\n",
       "/* Colorize estimator box */\n",
       "#sk-container-id-1 div.sk-estimator input.sk-toggleable__control:checked~label.sk-toggleable__label {\n",
       "  /* unfitted */\n",
       "  background-color: var(--sklearn-color-unfitted-level-2);\n",
       "}\n",
       "\n",
       "#sk-container-id-1 div.sk-estimator.fitted input.sk-toggleable__control:checked~label.sk-toggleable__label {\n",
       "  /* fitted */\n",
       "  background-color: var(--sklearn-color-fitted-level-2);\n",
       "}\n",
       "\n",
       "#sk-container-id-1 div.sk-label label.sk-toggleable__label,\n",
       "#sk-container-id-1 div.sk-label label {\n",
       "  /* The background is the default theme color */\n",
       "  color: var(--sklearn-color-text-on-default-background);\n",
       "}\n",
       "\n",
       "/* On hover, darken the color of the background */\n",
       "#sk-container-id-1 div.sk-label:hover label.sk-toggleable__label {\n",
       "  color: var(--sklearn-color-text);\n",
       "  background-color: var(--sklearn-color-unfitted-level-2);\n",
       "}\n",
       "\n",
       "/* Label box, darken color on hover, fitted */\n",
       "#sk-container-id-1 div.sk-label.fitted:hover label.sk-toggleable__label.fitted {\n",
       "  color: var(--sklearn-color-text);\n",
       "  background-color: var(--sklearn-color-fitted-level-2);\n",
       "}\n",
       "\n",
       "/* Estimator label */\n",
       "\n",
       "#sk-container-id-1 div.sk-label label {\n",
       "  font-family: monospace;\n",
       "  font-weight: bold;\n",
       "  display: inline-block;\n",
       "  line-height: 1.2em;\n",
       "}\n",
       "\n",
       "#sk-container-id-1 div.sk-label-container {\n",
       "  text-align: center;\n",
       "}\n",
       "\n",
       "/* Estimator-specific */\n",
       "#sk-container-id-1 div.sk-estimator {\n",
       "  font-family: monospace;\n",
       "  border: 1px dotted var(--sklearn-color-border-box);\n",
       "  border-radius: 0.25em;\n",
       "  box-sizing: border-box;\n",
       "  margin-bottom: 0.5em;\n",
       "  /* unfitted */\n",
       "  background-color: var(--sklearn-color-unfitted-level-0);\n",
       "}\n",
       "\n",
       "#sk-container-id-1 div.sk-estimator.fitted {\n",
       "  /* fitted */\n",
       "  background-color: var(--sklearn-color-fitted-level-0);\n",
       "}\n",
       "\n",
       "/* on hover */\n",
       "#sk-container-id-1 div.sk-estimator:hover {\n",
       "  /* unfitted */\n",
       "  background-color: var(--sklearn-color-unfitted-level-2);\n",
       "}\n",
       "\n",
       "#sk-container-id-1 div.sk-estimator.fitted:hover {\n",
       "  /* fitted */\n",
       "  background-color: var(--sklearn-color-fitted-level-2);\n",
       "}\n",
       "\n",
       "/* Specification for estimator info (e.g. \"i\" and \"?\") */\n",
       "\n",
       "/* Common style for \"i\" and \"?\" */\n",
       "\n",
       ".sk-estimator-doc-link,\n",
       "a:link.sk-estimator-doc-link,\n",
       "a:visited.sk-estimator-doc-link {\n",
       "  float: right;\n",
       "  font-size: smaller;\n",
       "  line-height: 1em;\n",
       "  font-family: monospace;\n",
       "  background-color: var(--sklearn-color-background);\n",
       "  border-radius: 1em;\n",
       "  height: 1em;\n",
       "  width: 1em;\n",
       "  text-decoration: none !important;\n",
       "  margin-left: 1ex;\n",
       "  /* unfitted */\n",
       "  border: var(--sklearn-color-unfitted-level-1) 1pt solid;\n",
       "  color: var(--sklearn-color-unfitted-level-1);\n",
       "}\n",
       "\n",
       ".sk-estimator-doc-link.fitted,\n",
       "a:link.sk-estimator-doc-link.fitted,\n",
       "a:visited.sk-estimator-doc-link.fitted {\n",
       "  /* fitted */\n",
       "  border: var(--sklearn-color-fitted-level-1) 1pt solid;\n",
       "  color: var(--sklearn-color-fitted-level-1);\n",
       "}\n",
       "\n",
       "/* On hover */\n",
       "div.sk-estimator:hover .sk-estimator-doc-link:hover,\n",
       ".sk-estimator-doc-link:hover,\n",
       "div.sk-label-container:hover .sk-estimator-doc-link:hover,\n",
       ".sk-estimator-doc-link:hover {\n",
       "  /* unfitted */\n",
       "  background-color: var(--sklearn-color-unfitted-level-3);\n",
       "  color: var(--sklearn-color-background);\n",
       "  text-decoration: none;\n",
       "}\n",
       "\n",
       "div.sk-estimator.fitted:hover .sk-estimator-doc-link.fitted:hover,\n",
       ".sk-estimator-doc-link.fitted:hover,\n",
       "div.sk-label-container:hover .sk-estimator-doc-link.fitted:hover,\n",
       ".sk-estimator-doc-link.fitted:hover {\n",
       "  /* fitted */\n",
       "  background-color: var(--sklearn-color-fitted-level-3);\n",
       "  color: var(--sklearn-color-background);\n",
       "  text-decoration: none;\n",
       "}\n",
       "\n",
       "/* Span, style for the box shown on hovering the info icon */\n",
       ".sk-estimator-doc-link span {\n",
       "  display: none;\n",
       "  z-index: 9999;\n",
       "  position: relative;\n",
       "  font-weight: normal;\n",
       "  right: .2ex;\n",
       "  padding: .5ex;\n",
       "  margin: .5ex;\n",
       "  width: min-content;\n",
       "  min-width: 20ex;\n",
       "  max-width: 50ex;\n",
       "  color: var(--sklearn-color-text);\n",
       "  box-shadow: 2pt 2pt 4pt #999;\n",
       "  /* unfitted */\n",
       "  background: var(--sklearn-color-unfitted-level-0);\n",
       "  border: .5pt solid var(--sklearn-color-unfitted-level-3);\n",
       "}\n",
       "\n",
       ".sk-estimator-doc-link.fitted span {\n",
       "  /* fitted */\n",
       "  background: var(--sklearn-color-fitted-level-0);\n",
       "  border: var(--sklearn-color-fitted-level-3);\n",
       "}\n",
       "\n",
       ".sk-estimator-doc-link:hover span {\n",
       "  display: block;\n",
       "}\n",
       "\n",
       "/* \"?\"-specific style due to the `<a>` HTML tag */\n",
       "\n",
       "#sk-container-id-1 a.estimator_doc_link {\n",
       "  float: right;\n",
       "  font-size: 1rem;\n",
       "  line-height: 1em;\n",
       "  font-family: monospace;\n",
       "  background-color: var(--sklearn-color-background);\n",
       "  border-radius: 1rem;\n",
       "  height: 1rem;\n",
       "  width: 1rem;\n",
       "  text-decoration: none;\n",
       "  /* unfitted */\n",
       "  color: var(--sklearn-color-unfitted-level-1);\n",
       "  border: var(--sklearn-color-unfitted-level-1) 1pt solid;\n",
       "}\n",
       "\n",
       "#sk-container-id-1 a.estimator_doc_link.fitted {\n",
       "  /* fitted */\n",
       "  border: var(--sklearn-color-fitted-level-1) 1pt solid;\n",
       "  color: var(--sklearn-color-fitted-level-1);\n",
       "}\n",
       "\n",
       "/* On hover */\n",
       "#sk-container-id-1 a.estimator_doc_link:hover {\n",
       "  /* unfitted */\n",
       "  background-color: var(--sklearn-color-unfitted-level-3);\n",
       "  color: var(--sklearn-color-background);\n",
       "  text-decoration: none;\n",
       "}\n",
       "\n",
       "#sk-container-id-1 a.estimator_doc_link.fitted:hover {\n",
       "  /* fitted */\n",
       "  background-color: var(--sklearn-color-fitted-level-3);\n",
       "}\n",
       "</style><div id=\"sk-container-id-1\" class=\"sk-top-container\"><div class=\"sk-text-repr-fallback\"><pre>XGBRegressor(base_score=None, booster=None, callbacks=None,\n",
       "             colsample_bylevel=None, colsample_bynode=None,\n",
       "             colsample_bytree=0.9985959499669473, device=None,\n",
       "             early_stopping_rounds=None, enable_categorical=False,\n",
       "             eval_metric=None, feature_types=None, gamma=None, grow_policy=None,\n",
       "             importance_type=None, interaction_constraints=None,\n",
       "             learning_rate=0.008330315086458037, max_bin=None,\n",
       "             max_cat_threshold=None, max_cat_to_onehot=None,\n",
       "             max_delta_step=None, max_depth=4, max_leaves=None,\n",
       "             min_child_weight=1, missing=nan, monotone_constraints=None,\n",
       "             multi_strategy=None, n_estimators=621, n_jobs=None,\n",
       "             num_parallel_tree=None, random_state=None, ...)</pre><b>In a Jupyter environment, please rerun this cell to show the HTML representation or trust the notebook. <br />On GitHub, the HTML representation is unable to render, please try loading this page with nbviewer.org.</b></div><div class=\"sk-container\" hidden><div class=\"sk-item\"><div class=\"sk-estimator fitted sk-toggleable\"><input class=\"sk-toggleable__control sk-hidden--visually\" id=\"sk-estimator-id-1\" type=\"checkbox\" checked><label for=\"sk-estimator-id-1\" class=\"sk-toggleable__label fitted sk-toggleable__label-arrow fitted\">&nbsp;XGBRegressor<span class=\"sk-estimator-doc-link fitted\">i<span>Fitted</span></span></label><div class=\"sk-toggleable__content fitted\"><pre>XGBRegressor(base_score=None, booster=None, callbacks=None,\n",
       "             colsample_bylevel=None, colsample_bynode=None,\n",
       "             colsample_bytree=0.9985959499669473, device=None,\n",
       "             early_stopping_rounds=None, enable_categorical=False,\n",
       "             eval_metric=None, feature_types=None, gamma=None, grow_policy=None,\n",
       "             importance_type=None, interaction_constraints=None,\n",
       "             learning_rate=0.008330315086458037, max_bin=None,\n",
       "             max_cat_threshold=None, max_cat_to_onehot=None,\n",
       "             max_delta_step=None, max_depth=4, max_leaves=None,\n",
       "             min_child_weight=1, missing=nan, monotone_constraints=None,\n",
       "             multi_strategy=None, n_estimators=621, n_jobs=None,\n",
       "             num_parallel_tree=None, random_state=None, ...)</pre></div> </div></div></div></div>"
      ],
      "text/plain": [
       "XGBRegressor(base_score=None, booster=None, callbacks=None,\n",
       "             colsample_bylevel=None, colsample_bynode=None,\n",
       "             colsample_bytree=0.9985959499669473, device=None,\n",
       "             early_stopping_rounds=None, enable_categorical=False,\n",
       "             eval_metric=None, feature_types=None, gamma=None, grow_policy=None,\n",
       "             importance_type=None, interaction_constraints=None,\n",
       "             learning_rate=0.008330315086458037, max_bin=None,\n",
       "             max_cat_threshold=None, max_cat_to_onehot=None,\n",
       "             max_delta_step=None, max_depth=4, max_leaves=None,\n",
       "             min_child_weight=1, missing=nan, monotone_constraints=None,\n",
       "             multi_strategy=None, n_estimators=621, n_jobs=None,\n",
       "             num_parallel_tree=None, random_state=None, ...)"
      ]
     },
     "execution_count": 15,
     "metadata": {},
     "output_type": "execute_result"
    }
   ],
   "source": [
    "xgb_model_rs = xgb.XGBRegressor(**best_params)\n",
    "xgb_model_rs.fit(X_train, Y_train)"
   ]
  },
  {
   "cell_type": "code",
   "execution_count": 16,
   "metadata": {},
   "outputs": [],
   "source": [
    "predictions_rs = xgb_model_rs.predict(X_test)"
   ]
  },
  {
   "cell_type": "code",
   "execution_count": 17,
   "metadata": {},
   "outputs": [
    {
     "name": "stdout",
     "output_type": "stream",
     "text": [
      "MAPE: 0.19977799926605194\n",
      "MSE 255385.62370580187\n"
     ]
    }
   ],
   "source": [
    "print(f'MAPE: {mean_absolute_percentage_error(Y_test, predictions_rs)}')\n",
    "print(f'MSE {mean_squared_error(Y_test, predictions_rs)}')"
   ]
  },
  {
   "cell_type": "code",
   "execution_count": 18,
   "metadata": {},
   "outputs": [
    {
     "data": {
      "image/png": "[encoded data removed]",
      "text/plain": [
       "<Figure size 1000x600 with 1 Axes>"
      ]
     },
     "metadata": {},
     "output_type": "display_data"
    }
   ],
   "source": [
    "top_n = 25\n",
    "# Create feature names\n",
    "feature_names = [f'feature_{i}' for i in range(X_train.shape[1])]\n",
    "fig, ax = plt.subplots(figsize=(10, 6))\n",
    "xgb.plot_importance(xgb_model_rs, ax=ax, importance_type='gain',\n",
    "                    max_num_features=top_n, show_values=False)\n",
    "# plt.yticks(range(top_n), xgb_model.feature_names[:top_n])\n",
    "plt.xlabel('Gain')\n",
    "plt.title(f'Top {top_n} Most Important Features')\n",
    "plt.show()"
   ]
  },
  {
   "cell_type": "markdown",
   "metadata": {},
   "source": [
    "**Visualization of the optimization process**"
   ]
  },
  {
   "cell_type": "code",
   "execution_count": 19,
   "metadata": {},
   "outputs": [],
   "source": [
    "import matplotlib.pyplot as plt\n",
    "import plotly"
   ]
  },
  {
   "cell_type": "code",
   "execution_count": 20,
   "metadata": {},
   "outputs": [
    {
     "data": {
      "application/vnd.plotly.v1+json": {
       "config": {
        "plotlyServerURL": "https://plot.ly"
       },
       "data": [
        {
         "mode": "markers",
         "name": "Objective Value",
         "type": "scatter",
         "x": [
          0,
          1,
          2,
          3,
          4,
          5,
          6,
          7,
          8,
          9,
          10,
          11,
          12,
          13,
          14,
          15,
          16,
          17,
          18,
          19,
          20,
          21,
          22,
          23,
          24,
          25,
          26,
          27,
          28,
          29,
          30,
          31,
          32,
          33,
          34,
          35,
          36,
          37,
          38,
          39,
          40,
          41,
          42,
          43,
          44,
          45,
          46,
          47,
          48,
          49,
          50,
          51,
          52,
          53,
          54,
          55,
          56,
          57,
          58,
          59,
          60,
          61,
          62,
          63,
          64,
          65,
          66,
          67,
          68,
          69,
          70,
          71,
          72,
          73,
          74,
          75,
          76,
          77,
          78,
          79,
          80,
          81,
          82,
          83,
          84,
          85,
          86,
          87,
          88,
          89,
          90,
          91,
          92,
          93,
          94,
          95,
          96,
          97,
          98,
          99,
          100,
          101,
          102,
          103,
          104,
          105,
          106,
          107,
          108,
          109,
          110,
          111,
          112,
          113,
          114,
          115,
          116,
          117,
          118,
          119,
          120,
          121,
          122,
          123,
          124,
          125,
          126,
          127,
          128,
          129,
          130,
          131,
          132,
          133,
          134,
          135,
          136,
          137,
          138,
          139,
          140,
          141,
          142,
          143,
          144,
          145,
          146,
          147,
          148,
          149,
          150,
          151,
          152,
          153,
          154,
          155,
          156,
          157,
          158,
          159,
          160,
          161,
          162,
          163,
          164,
          165,
          166,
          167,
          168,
          169,
          170,
          171,
          172,
          173,
          174,
          175,
          176,
          177,
          178,
          179,
          180,
          181,
          182,
          183,
          184,
          185,
          186,
          187,
          188,
          189,
          190,
          191,
          192,
          193,
          194,
          195,
          196,
          197,
          198,
          199,
          200,
          201,
          202,
          203,
          204,
          205,
          206,
          207,
          208,
          209,
          210,
          211,
          212,
          213,
          214,
          215,
          216,
          217,
          218,
          219,
          220,
          221,
          222,
          223,
          224,
          225,
          226,
          227,
          228,
          229,
          230,
          231,
          232,
          233,
          234,
          235,
          236,
          237,
          238,
          239,
          240,
          241,
          242,
          243,
          244,
          245,
          246,
          247,
          248,
          249,
          250,
          251,
          252,
          253,
          254,
          255,
          256,
          257,
          258,
          259,
          260,
          261,
          262,
          263,
          264,
          265,
          266,
          267,
          268,
          269,
          270,
          271,
          272,
          273,
          274,
          275,
          276,
          277,
          278,
          279,
          280,
          281,
          282,
          283,
          284,
          285,
          286,
          287,
          288,
          289,
          290,
          291,
          292,
          293,
          294,
          295,
          296,
          297,
          298,
          299,
          300,
          301,
          302,
          303,
          304,
          305,
          306,
          307,
          308,
          309,
          310,
          311,
          312,
          313,
          314,
          315,
          316,
          317,
          318,
          319,
          320,
          321,
          322,
          323,
          324,
          325,
          326,
          327,
          328,
          329,
          330,
          331,
          332,
          333,
          334,
          335,
          336,
          337,
          338,
          339,
          340,
          341,
          342,
          343,
          344,
          345,
          346,
          347,
          348,
          349,
          350,
          351,
          352,
          353,
          354,
          355,
          356,
          357,
          358,
          359,
          360,
          361,
          362,
          363,
          364,
          365,
          366,
          367,
          368,
          369,
          370,
          371,
          372,
          373,
          374,
          375,
          376,
          377,
          378,
          379,
          380,
          381,
          382,
          383,
          384,
          385,
          386,
          387,
          388,
          389,
          390,
          391,
          392,
          393,
          394,
          395,
          396,
          397,
          398,
          399,
          400,
          401,
          402,
          403,
          404,
          405,
          406,
          407,
          408,
          409,
          410,
          411,
          412,
          413,
          414,
          415,
          416,
          417,
          418,
          419,
          420,
          421,
          422,
          423,
          424,
          425,
          426,
          427,
          428,
          429,
          430,
          431,
          432,
          433,
          434,
          435,
          436,
          437,
          438,
          439,
          440,
          441,
          442,
          443,
          444,
          445,
          446,
          447,
          448,
          449,
          450,
          451,
          452,
          453,
          454,
          455,
          456,
          457,
          458,
          459,
          460,
          461,
          462,
          463,
          464,
          465,
          466,
          467,
          468,
          469,
          470,
          471,
          472,
          473,
          474,
          475,
          476,
          477,
          478,
          479,
          480,
          481,
          482,
          483,
          484,
          485,
          486,
          487,
          488,
          489,
          490,
          491,
          492,
          493,
          494,
          495,
          496,
          497,
          498,
          499
         ],
         "y": [
          441010.5397902851,
          750328.4650592548,
          486057.5969677875,
          357746.35840787867,
          379142.80899713084,
          571925.5824160725,
          334421.99437478354,
          421228.6168352682,
          273313.28050092806,
          351904.59315945033,
          974299.942855476,
          386473.2804544046,
          304343.81549966533,
          371873.57089199603,
          372475.232409722,
          774268.4445496744,
          420248.85089202767,
          607206.5768596303,
          368768.83283605473,
          370140.76284037944,
          333526.3839218813,
          322072.88826351427,
          314476.4271769399,
          317977.9396495124,
          431825.74841471174,
          315619.5743311666,
          294134.12949477317,
          312830.9687049042,
          302045.3759939788,
          303521.94415218785,
          306722.7120817302,
          318349.51839104627,
          301877.62908161216,
          288874.89332508773,
          320949.7001386831,
          326450.8131423529,
          275661.895161962,
          735844.0351639949,
          334117.75572568993,
          293224.3891272221,
          367488.62985644536,
          352348.113517249,
          348492.21118829347,
          565113.627022248,
          285882.2128155461,
          300181.70081667334,
          341526.8605158248,
          968817.8081064606,
          346394.31587815285,
          374199.7267019568,
          324375.4044154977,
          487811.5061615814,
          600305.1761906879,
          538016.0552408535,
          371645.12614536064,
          351196.4412343367,
          386428.03451106156,
          279604.8975389397,
          311005.792001819,
          318506.1074241375,
          349776.98060751456,
          343967.8315386762,
          291631.6481378478,
          374819.4695519319,
          290299.9863759973,
          281477.9824090587,
          284877.70820514247,
          284563.2651736085,
          557850.9015631044,
          311758.00829129276,
          328351.9673346555,
          316828.60991189885,
          315047.84085650195,
          358376.06557988364,
          285592.2964292718,
          291601.18887503573,
          288377.9616260313,
          286866.3177482976,
          287913.40443402843,
          287095.54338644707,
          292664.3907702853,
          295557.00636580563,
          300106.50660203537,
          299462.3367184009,
          523482.5063858372,
          300287.89257845527,
          300893.47499075555,
          298407.7519344162,
          516618.3933713451,
          299774.3648445477,
          512552.6366844357,
          284894.85746803787,
          278938.76750467235,
          272473.31064078794,
          287066.906673036,
          279060.6732920115,
          277516.428930905,
          273977.62358223053,
          301299.77849132667,
          282380.03569731995,
          297336.8160105082,
          292019.51651690126,
          290567.3695270064,
          293072.94541081815,
          303355.39820691606,
          292947.18057375017,
          292294.357434748,
          300523.416345087,
          314927.1600320958,
          273999.17245207436,
          277999.09201172384,
          274874.8606639314,
          274468.9511808828,
          436108.6105903106,
          297510.1539849857,
          301397.46596596576,
          278476.7023941331,
          276060.15376511327,
          281523.1457447223,
          277279.9981380144,
          279753.200340529,
          275703.2839176948,
          273368.3205319951,
          278969.3694873955,
          368716.8607753661,
          297251.24736518326,
          328680.4243431627,
          298184.6787219957,
          295827.59481405804,
          295224.483119961,
          354720.0575939769,
          285484.1588708077,
          287532.384936593,
          279487.8563562185,
          279034.6861845495,
          284112.01907399925,
          293659.5619224388,
          305492.71350213536,
          298663.6771314717,
          284411.5219088943,
          289777.30244188604,
          336473.5574327498,
          281572.2947023668,
          277441.10820620507,
          280540.0272152658,
          272142.779590006,
          278511.8000986501,
          316397.09056894906,
          277219.4276400307,
          277088.0093880393,
          277237.57136011857,
          303792.09767627204,
          272605.96360055974,
          320525.4474636406,
          272052.2674805353,
          270805.85743638506,
          318834.5399664433,
          290235.14121668215,
          291744.56667852297,
          291268.2364724144,
          291516.01715653,
          287724.1942084808,
          286399.0160731714,
          358747.8709045957,
          281124.4856553386,
          277993.4599773451,
          281926.38562271587,
          276761.98480026703,
          280586.2724539162,
          282442.07832220104,
          281029.54070263065,
          410099.63404898305,
          277599.3193744908,
          705104.0027097841,
          280270.8202187739,
          281555.9981964108,
          272198.0861307895,
          347224.63501331693,
          275199.6389183132,
          278980.76128647465,
          276289.0139530629,
          278395.9376592404,
          275018.0446809305,
          274489.323214198,
          276124.7688659248,
          334899.01637305,
          277913.00198303687,
          320949.3000020759,
          279327.381739449,
          281658.99257520324,
          271478.19254475966,
          266118.33619911794,
          265835.5392164228,
          266397.0596584503,
          263602.7949807112,
          266605.9526829673,
          267977.37432316126,
          264970.8028834535,
          266440.01572158135,
          263338.28443583293,
          267148.52872495755,
          266411.8488810132,
          266734.06075757596,
          267427.098115474,
          267079.17949377187,
          265326.9556183258,
          267082.63895788713,
          265651.1605245854,
          266828.5841976397,
          266913.9979541844,
          267425.2193186354,
          267284.2700625739,
          267345.19053471356,
          267691.04521685105,
          267930.2732426391,
          265999.95686171437,
          266243.60713219305,
          264807.88756090397,
          265986.10360492044,
          265727.8137592926,
          265556.33420578437,
          265394.58574677375,
          265718.5558072055,
          264731.13370590686,
          265847.0234607897,
          265390.5281985544,
          263482.4056630914,
          263287.3081139204,
          264420.04709262226,
          264868.8833492734,
          265542.79817108007,
          263967.1469982677,
          264178.22701504047,
          265117.21489398275,
          263901.0836586227,
          269235.39022995136,
          267748.9717732152,
          264892.41626425285,
          263794.8700238264,
          263918.7108559137,
          264157.11977634113,
          263369.195036848,
          264619.0282059034,
          265861.58882505406,
          267947.93235175597,
          268539.3356260407,
          267394.95110699633,
          267465.93265575,
          268464.2907038794,
          266923.91639843734,
          267643.7741100296,
          266779.1985804121,
          267587.2530707673,
          267195.48595828755,
          266919.41240905615,
          266242.49345166294,
          266878.90001323575,
          266407.97534730367,
          267632.44024097326,
          268396.9471586269,
          267514.1346034604,
          269158.27689395787,
          271525.4355724174,
          267064.5380131122,
          270279.447240825,
          271234.3278454532,
          271382.2011546453,
          270867.7714042906,
          271991.0628771762,
          268085.3363971678,
          265891.542869693,
          264703.2806986385,
          262604.1190770278,
          269037.9975733728,
          268238.1434733429,
          266590.37674055505,
          265048.03096981783,
          267927.6966091088,
          269050.87553717406,
          267601.2090210872,
          284454.78737404826,
          340318.6404607986,
          266770.0436255822,
          282028.1328776155,
          265709.84749036876,
          267258.87669669185,
          265544.01080778247,
          268005.459944662,
          267547.2083991495,
          268639.0245533673,
          296987.90304709546,
          267731.16427102615,
          265134.7066305621,
          265560.67001214594,
          267601.39139430696,
          266546.38452807127,
          303745.6288076489,
          265596.4827972436,
          264852.83761344396,
          343556.549823078,
          265957.0987800433,
          265366.39906680613,
          265685.585158452,
          265020.11644433264,
          427794.468321688,
          267890.7431645171,
          281644.3290770888,
          270225.5377538007,
          267114.6978851676,
          300566.5738234755,
          279430.90824123274,
          351100.31262164045,
          268372.5799577498,
          267369.9578202765,
          268115.97061426996,
          264986.7812457235,
          305362.79063297185,
          266955.23385180894,
          462064.6620803674,
          266760.4691361926,
          267069.64107697486,
          267760.9187663875,
          422819.49979011295,
          268029.35636653344,
          267055.80410127935,
          266531.41464817675,
          267785.8970341828,
          266132.5196853386,
          265423.8203125956,
          268670.84902281885,
          270278.5657788444,
          265779.04146433884,
          267686.1016315792,
          298801.5395391018,
          266610.5979417738,
          458945.58301575517,
          277328.4832887777,
          274660.8408191911,
          408005.75244231976,
          296433.16268165817,
          266261.7914909439,
          269388.7713786487,
          266888.55299774185,
          264384.992465669,
          264919.05945533735,
          265548.6221079935,
          265684.29342747666,
          265045.6936627343,
          263243.93948525074,
          264566.3582539068,
          291545.7876396114,
          289343.00701115903,
          292303.1269038997,
          291666.95070346614,
          556498.1535542791,
          292171.2541334309,
          291145.85384659434,
          289962.9809613731,
          290619.64068041864,
          293356.91429173714,
          265988.0123931584,
          264414.7044656251,
          264686.52364746854,
          276374.69805016444,
          265188.33449612284,
          306225.7520635019,
          264771.55023994704,
          264264.98201350664,
          265803.08456749195,
          265764.9526812497,
          267121.3673557915,
          266207.7495092416,
          402776.49478544976,
          294280.5089731455,
          333735.2629093302,
          263769.7552775573,
          264736.15247453644,
          274112.18168294814,
          269795.2266247651,
          269168.4739396633,
          269118.7197462497,
          270214.7964061964,
          269788.22318004735,
          268357.12822786754,
          326103.5828476114,
          274308.3980226342,
          269085.51974960905,
          267345.23404866026,
          272407.0701076786,
          270421.3840268322,
          322299.4455002885,
          322728.7498237285,
          265239.20971270587,
          320281.4390224726,
          296495.54134946794,
          385174.5122571556,
          264654.467608049,
          265854.4412237799,
          266201.60283131816,
          266451.23357436305,
          267003.8873680966,
          339520.98064351885,
          276385.91793630325,
          269628.9289900533,
          266002.3928472707,
          524856.657510812,
          272963.14391296747,
          268109.2851402679,
          342226.4420067657,
          266425.98337893153,
          266516.8270204946,
          265421.3595158712,
          264265.39416403463,
          266375.42200748605,
          274034.9700850986,
          273108.22372851614,
          266635.84117144096,
          272007.7509400851,
          273272.9223923186,
          341855.5285150233,
          282995.0525145718,
          272269.53618933697,
          266648.13044164825,
          295158.8213090887,
          266974.8904901493,
          588084.421693219,
          266931.5926063235,
          270105.8637676574,
          458607.1911111159,
          265095.4186134752,
          265222.4580192622,
          267311.2743410112,
          262659.0209532261,
          265040.80271057965,
          266469.9863247927,
          264335.4981408896,
          656346.1159048611,
          354349.4741585058,
          331973.1438879304,
          265486.61794885603,
          267197.399758661,
          291870.0604654431,
          291231.75370793487,
          337376.9959435214,
          266268.44523793564,
          293912.3474992997,
          290674.3991855152,
          291644.5735196063,
          325871.1421004051,
          318558.7808776061,
          294697.58474079607,
          291296.80155926076,
          296265.24956344283,
          292642.7341831733,
          266709.37044097146,
          293341.86743941944,
          285940.7216681702,
          280272.1756933834,
          271334.2567619823,
          272092.7884983421,
          371087.0196552719,
          276869.99584576034,
          270306.45600653446,
          269678.2382458865,
          268848.5222808653,
          269821.6599221163,
          270077.8815312798,
          883414.9694864511,
          266375.6900276069,
          266080.76125435845,
          266041.2488207877,
          266961.25339330954,
          263470.2046357719,
          297253.108015959,
          267407.9750171782,
          263259.8998761096,
          273667.2579651753,
          275074.2467322869,
          273056.8123990559,
          274065.5267983315,
          275187.7229164157,
          285829.2826906851,
          276792.8565300153,
          320296.7499989793,
          274081.92213246005,
          296009.8376497591,
          268915.27826367645,
          275649.794068814,
          284528.0024963824,
          269453.7433557448,
          330355.6755219322,
          268925.87383005535,
          267638.5074266121,
          267285.3918472338,
          267541.6503154202,
          265170.80342126463,
          264773.0228053996,
          265502.73411021905,
          264673.39564348705,
          266030.674387201
         ]
        },
        {
         "mode": "lines",
         "name": "Best Value",
         "type": "scatter",
         "x": [
          0,
          1,
          2,
          3,
          4,
          5,
          6,
          7,
          8,
          9,
          10,
          11,
          12,
          13,
          14,
          15,
          16,
          17,
          18,
          19,
          20,
          21,
          22,
          23,
          24,
          25,
          26,
          27,
          28,
          29,
          30,
          31,
          32,
          33,
          34,
          35,
          36,
          37,
          38,
          39,
          40,
          41,
          42,
          43,
          44,
          45,
          46,
          47,
          48,
          49,
          50,
          51,
          52,
          53,
          54,
          55,
          56,
          57,
          58,
          59,
          60,
          61,
          62,
          63,
          64,
          65,
          66,
          67,
          68,
          69,
          70,
          71,
          72,
          73,
          74,
          75,
          76,
          77,
          78,
          79,
          80,
          81,
          82,
          83,
          84,
          85,
          86,
          87,
          88,
          89,
          90,
          91,
          92,
          93,
          94,
          95,
          96,
          97,
          98,
          99,
          100,
          101,
          102,
          103,
          104,
          105,
          106,
          107,
          108,
          109,
          110,
          111,
          112,
          113,
          114,
          115,
          116,
          117,
          118,
          119,
          120,
          121,
          122,
          123,
          124,
          125,
          126,
          127,
          128,
          129,
          130,
          131,
          132,
          133,
          134,
          135,
          136,
          137,
          138,
          139,
          140,
          141,
          142,
          143,
          144,
          145,
          146,
          147,
          148,
          149,
          150,
          151,
          152,
          153,
          154,
          155,
          156,
          157,
          158,
          159,
          160,
          161,
          162,
          163,
          164,
          165,
          166,
          167,
          168,
          169,
          170,
          171,
          172,
          173,
          174,
          175,
          176,
          177,
          178,
          179,
          180,
          181,
          182,
          183,
          184,
          185,
          186,
          187,
          188,
          189,
          190,
          191,
          192,
          193,
          194,
          195,
          196,
          197,
          198,
          199,
          200,
          201,
          202,
          203,
          204,
          205,
          206,
          207,
          208,
          209,
          210,
          211,
          212,
          213,
          214,
          215,
          216,
          217,
          218,
          219,
          220,
          221,
          222,
          223,
          224,
          225,
          226,
          227,
          228,
          229,
          230,
          231,
          232,
          233,
          234,
          235,
          236,
          237,
          238,
          239,
          240,
          241,
          242,
          243,
          244,
          245,
          246,
          247,
          248,
          249,
          250,
          251,
          252,
          253,
          254,
          255,
          256,
          257,
          258,
          259,
          260,
          261,
          262,
          263,
          264,
          265,
          266,
          267,
          268,
          269,
          270,
          271,
          272,
          273,
          274,
          275,
          276,
          277,
          278,
          279,
          280,
          281,
          282,
          283,
          284,
          285,
          286,
          287,
          288,
          289,
          290,
          291,
          292,
          293,
          294,
          295,
          296,
          297,
          298,
          299,
          300,
          301,
          302,
          303,
          304,
          305,
          306,
          307,
          308,
          309,
          310,
          311,
          312,
          313,
          314,
          315,
          316,
          317,
          318,
          319,
          320,
          321,
          322,
          323,
          324,
          325,
          326,
          327,
          328,
          329,
          330,
          331,
          332,
          333,
          334,
          335,
          336,
          337,
          338,
          339,
          340,
          341,
          342,
          343,
          344,
          345,
          346,
          347,
          348,
          349,
          350,
          351,
          352,
          353,
          354,
          355,
          356,
          357,
          358,
          359,
          360,
          361,
          362,
          363,
          364,
          365,
          366,
          367,
          368,
          369,
          370,
          371,
          372,
          373,
          374,
          375,
          376,
          377,
          378,
          379,
          380,
          381,
          382,
          383,
          384,
          385,
          386,
          387,
          388,
          389,
          390,
          391,
          392,
          393,
          394,
          395,
          396,
          397,
          398,
          399,
          400,
          401,
          402,
          403,
          404,
          405,
          406,
          407,
          408,
          409,
          410,
          411,
          412,
          413,
          414,
          415,
          416,
          417,
          418,
          419,
          420,
          421,
          422,
          423,
          424,
          425,
          426,
          427,
          428,
          429,
          430,
          431,
          432,
          433,
          434,
          435,
          436,
          437,
          438,
          439,
          440,
          441,
          442,
          443,
          444,
          445,
          446,
          447,
          448,
          449,
          450,
          451,
          452,
          453,
          454,
          455,
          456,
          457,
          458,
          459,
          460,
          461,
          462,
          463,
          464,
          465,
          466,
          467,
          468,
          469,
          470,
          471,
          472,
          473,
          474,
          475,
          476,
          477,
          478,
          479,
          480,
          481,
          482,
          483,
          484,
          485,
          486,
          487,
          488,
          489,
          490,
          491,
          492,
          493,
          494,
          495,
          496,
          497,
          498,
          499
         ],
         "y": [
          441010.5397902851,
          441010.5397902851,
          441010.5397902851,
          357746.35840787867,
          357746.35840787867,
          357746.35840787867,
          334421.99437478354,
          334421.99437478354,
          273313.28050092806,
          273313.28050092806,
          273313.28050092806,
          273313.28050092806,
          273313.28050092806,
          273313.28050092806,
          273313.28050092806,
          273313.28050092806,
          273313.28050092806,
          273313.28050092806,
          273313.28050092806,
          273313.28050092806,
          273313.28050092806,
          273313.28050092806,
          273313.28050092806,
          273313.28050092806,
          273313.28050092806,
          273313.28050092806,
          273313.28050092806,
          273313.28050092806,
          273313.28050092806,
          273313.28050092806,
          273313.28050092806,
          273313.28050092806,
          273313.28050092806,
          273313.28050092806,
          273313.28050092806,
          273313.28050092806,
          273313.28050092806,
          273313.28050092806,
          273313.28050092806,
          273313.28050092806,
          273313.28050092806,
          273313.28050092806,
          273313.28050092806,
          273313.28050092806,
          273313.28050092806,
          273313.28050092806,
          273313.28050092806,
          273313.28050092806,
          273313.28050092806,
          273313.28050092806,
          273313.28050092806,
          273313.28050092806,
          273313.28050092806,
          273313.28050092806,
          273313.28050092806,
          273313.28050092806,
          273313.28050092806,
          273313.28050092806,
          273313.28050092806,
          273313.28050092806,
          273313.28050092806,
          273313.28050092806,
          273313.28050092806,
          273313.28050092806,
          273313.28050092806,
          273313.28050092806,
          273313.28050092806,
          273313.28050092806,
          273313.28050092806,
          273313.28050092806,
          273313.28050092806,
          273313.28050092806,
          273313.28050092806,
          273313.28050092806,
          273313.28050092806,
          273313.28050092806,
          273313.28050092806,
          273313.28050092806,
          273313.28050092806,
          273313.28050092806,
          273313.28050092806,
          273313.28050092806,
          273313.28050092806,
          273313.28050092806,
          273313.28050092806,
          273313.28050092806,
          273313.28050092806,
          273313.28050092806,
          273313.28050092806,
          273313.28050092806,
          273313.28050092806,
          273313.28050092806,
          273313.28050092806,
          272473.31064078794,
          272473.31064078794,
          272473.31064078794,
          272473.31064078794,
          272473.31064078794,
          272473.31064078794,
          272473.31064078794,
          272473.31064078794,
          272473.31064078794,
          272473.31064078794,
          272473.31064078794,
          272473.31064078794,
          272473.31064078794,
          272473.31064078794,
          272473.31064078794,
          272473.31064078794,
          272473.31064078794,
          272473.31064078794,
          272473.31064078794,
          272473.31064078794,
          272473.31064078794,
          272473.31064078794,
          272473.31064078794,
          272473.31064078794,
          272473.31064078794,
          272473.31064078794,
          272473.31064078794,
          272473.31064078794,
          272473.31064078794,
          272473.31064078794,
          272473.31064078794,
          272473.31064078794,
          272473.31064078794,
          272473.31064078794,
          272473.31064078794,
          272473.31064078794,
          272473.31064078794,
          272473.31064078794,
          272473.31064078794,
          272473.31064078794,
          272473.31064078794,
          272473.31064078794,
          272473.31064078794,
          272473.31064078794,
          272473.31064078794,
          272473.31064078794,
          272473.31064078794,
          272473.31064078794,
          272473.31064078794,
          272473.31064078794,
          272473.31064078794,
          272473.31064078794,
          272142.779590006,
          272142.779590006,
          272142.779590006,
          272142.779590006,
          272142.779590006,
          272142.779590006,
          272142.779590006,
          272142.779590006,
          272142.779590006,
          272052.2674805353,
          270805.85743638506,
          270805.85743638506,
          270805.85743638506,
          270805.85743638506,
          270805.85743638506,
          270805.85743638506,
          270805.85743638506,
          270805.85743638506,
          270805.85743638506,
          270805.85743638506,
          270805.85743638506,
          270805.85743638506,
          270805.85743638506,
          270805.85743638506,
          270805.85743638506,
          270805.85743638506,
          270805.85743638506,
          270805.85743638506,
          270805.85743638506,
          270805.85743638506,
          270805.85743638506,
          270805.85743638506,
          270805.85743638506,
          270805.85743638506,
          270805.85743638506,
          270805.85743638506,
          270805.85743638506,
          270805.85743638506,
          270805.85743638506,
          270805.85743638506,
          270805.85743638506,
          270805.85743638506,
          270805.85743638506,
          270805.85743638506,
          270805.85743638506,
          270805.85743638506,
          266118.33619911794,
          265835.5392164228,
          265835.5392164228,
          263602.7949807112,
          263602.7949807112,
          263602.7949807112,
          263602.7949807112,
          263602.7949807112,
          263338.28443583293,
          263338.28443583293,
          263338.28443583293,
          263338.28443583293,
          263338.28443583293,
          263338.28443583293,
          263338.28443583293,
          263338.28443583293,
          263338.28443583293,
          263338.28443583293,
          263338.28443583293,
          263338.28443583293,
          263338.28443583293,
          263338.28443583293,
          263338.28443583293,
          263338.28443583293,
          263338.28443583293,
          263338.28443583293,
          263338.28443583293,
          263338.28443583293,
          263338.28443583293,
          263338.28443583293,
          263338.28443583293,
          263338.28443583293,
          263338.28443583293,
          263338.28443583293,
          263338.28443583293,
          263338.28443583293,
          263287.3081139204,
          263287.3081139204,
          263287.3081139204,
          263287.3081139204,
          263287.3081139204,
          263287.3081139204,
          263287.3081139204,
          263287.3081139204,
          263287.3081139204,
          263287.3081139204,
          263287.3081139204,
          263287.3081139204,
          263287.3081139204,
          263287.3081139204,
          263287.3081139204,
          263287.3081139204,
          263287.3081139204,
          263287.3081139204,
          263287.3081139204,
          263287.3081139204,
          263287.3081139204,
          263287.3081139204,
          263287.3081139204,
          263287.3081139204,
          263287.3081139204,
          263287.3081139204,
          263287.3081139204,
          263287.3081139204,
          263287.3081139204,
          263287.3081139204,
          263287.3081139204,
          263287.3081139204,
          263287.3081139204,
          263287.3081139204,
          263287.3081139204,
          263287.3081139204,
          263287.3081139204,
          263287.3081139204,
          263287.3081139204,
          263287.3081139204,
          263287.3081139204,
          263287.3081139204,
          263287.3081139204,
          263287.3081139204,
          263287.3081139204,
          262604.1190770278,
          262604.1190770278,
          262604.1190770278,
          262604.1190770278,
          262604.1190770278,
          262604.1190770278,
          262604.1190770278,
          262604.1190770278,
          262604.1190770278,
          262604.1190770278,
          262604.1190770278,
          262604.1190770278,
          262604.1190770278,
          262604.1190770278,
          262604.1190770278,
          262604.1190770278,
          262604.1190770278,
          262604.1190770278,
          262604.1190770278,
          262604.1190770278,
          262604.1190770278,
          262604.1190770278,
          262604.1190770278,
          262604.1190770278,
          262604.1190770278,
          262604.1190770278,
          262604.1190770278,
          262604.1190770278,
          262604.1190770278,
          262604.1190770278,
          262604.1190770278,
          262604.1190770278,
          262604.1190770278,
          262604.1190770278,
          262604.1190770278,
          262604.1190770278,
          262604.1190770278,
          262604.1190770278,
          262604.1190770278,
          262604.1190770278,
          262604.1190770278,
          262604.1190770278,
          262604.1190770278,
          262604.1190770278,
          262604.1190770278,
          262604.1190770278,
          262604.1190770278,
          262604.1190770278,
          262604.1190770278,
          262604.1190770278,
          262604.1190770278,
          262604.1190770278,
          262604.1190770278,
          262604.1190770278,
          262604.1190770278,
          262604.1190770278,
          262604.1190770278,
          262604.1190770278,
          262604.1190770278,
          262604.1190770278,
          262604.1190770278,
          262604.1190770278,
          262604.1190770278,
          262604.1190770278,
          262604.1190770278,
          262604.1190770278,
          262604.1190770278,
          262604.1190770278,
          262604.1190770278,
          262604.1190770278,
          262604.1190770278,
          262604.1190770278,
          262604.1190770278,
          262604.1190770278,
          262604.1190770278,
          262604.1190770278,
          262604.1190770278,
          262604.1190770278,
          262604.1190770278,
          262604.1190770278,
          262604.1190770278,
          262604.1190770278,
          262604.1190770278,
          262604.1190770278,
          262604.1190770278,
          262604.1190770278,
          262604.1190770278,
          262604.1190770278,
          262604.1190770278,
          262604.1190770278,
          262604.1190770278,
          262604.1190770278,
          262604.1190770278,
          262604.1190770278,
          262604.1190770278,
          262604.1190770278,
          262604.1190770278,
          262604.1190770278,
          262604.1190770278,
          262604.1190770278,
          262604.1190770278,
          262604.1190770278,
          262604.1190770278,
          262604.1190770278,
          262604.1190770278,
          262604.1190770278,
          262604.1190770278,
          262604.1190770278,
          262604.1190770278,
          262604.1190770278,
          262604.1190770278,
          262604.1190770278,
          262604.1190770278,
          262604.1190770278,
          262604.1190770278,
          262604.1190770278,
          262604.1190770278,
          262604.1190770278,
          262604.1190770278,
          262604.1190770278,
          262604.1190770278,
          262604.1190770278,
          262604.1190770278,
          262604.1190770278,
          262604.1190770278,
          262604.1190770278,
          262604.1190770278,
          262604.1190770278,
          262604.1190770278,
          262604.1190770278,
          262604.1190770278,
          262604.1190770278,
          262604.1190770278,
          262604.1190770278,
          262604.1190770278,
          262604.1190770278,
          262604.1190770278,
          262604.1190770278,
          262604.1190770278,
          262604.1190770278,
          262604.1190770278,
          262604.1190770278,
          262604.1190770278,
          262604.1190770278,
          262604.1190770278,
          262604.1190770278,
          262604.1190770278,
          262604.1190770278,
          262604.1190770278,
          262604.1190770278,
          262604.1190770278,
          262604.1190770278,
          262604.1190770278,
          262604.1190770278,
          262604.1190770278,
          262604.1190770278,
          262604.1190770278,
          262604.1190770278,
          262604.1190770278,
          262604.1190770278,
          262604.1190770278,
          262604.1190770278,
          262604.1190770278,
          262604.1190770278,
          262604.1190770278,
          262604.1190770278,
          262604.1190770278,
          262604.1190770278,
          262604.1190770278,
          262604.1190770278,
          262604.1190770278,
          262604.1190770278,
          262604.1190770278,
          262604.1190770278,
          262604.1190770278,
          262604.1190770278,
          262604.1190770278,
          262604.1190770278,
          262604.1190770278,
          262604.1190770278,
          262604.1190770278,
          262604.1190770278,
          262604.1190770278,
          262604.1190770278,
          262604.1190770278,
          262604.1190770278,
          262604.1190770278,
          262604.1190770278,
          262604.1190770278,
          262604.1190770278,
          262604.1190770278,
          262604.1190770278,
          262604.1190770278,
          262604.1190770278,
          262604.1190770278,
          262604.1190770278,
          262604.1190770278,
          262604.1190770278,
          262604.1190770278,
          262604.1190770278,
          262604.1190770278,
          262604.1190770278,
          262604.1190770278,
          262604.1190770278,
          262604.1190770278,
          262604.1190770278,
          262604.1190770278,
          262604.1190770278,
          262604.1190770278,
          262604.1190770278,
          262604.1190770278,
          262604.1190770278,
          262604.1190770278,
          262604.1190770278,
          262604.1190770278,
          262604.1190770278,
          262604.1190770278,
          262604.1190770278,
          262604.1190770278,
          262604.1190770278,
          262604.1190770278,
          262604.1190770278,
          262604.1190770278,
          262604.1190770278,
          262604.1190770278,
          262604.1190770278,
          262604.1190770278,
          262604.1190770278
         ]
        },
        {
         "marker": {
          "color": "#cccccc"
         },
         "mode": "markers",
         "name": "Infeasible Trial",
         "showlegend": false,
         "type": "scatter",
         "x": [],
         "y": []
        }
       ],
       "layout": {
        "template": {
         "data": {
          "bar": [
           {
            "error_x": {
             "color": "#2a3f5f"
            },
            "error_y": {
             "color": "#2a3f5f"
            },
            "marker": {
             "line": {
              "color": "#E5ECF6",
              "width": 0.5
             },
             "pattern": {
              "fillmode": "overlay",
              "size": 10,
              "solidity": 0.2
             }
            },
            "type": "bar"
           }
          ],
          "barpolar": [
           {
            "marker": {
             "line": {
              "color": "#E5ECF6",
              "width": 0.5
             },
             "pattern": {
              "fillmode": "overlay",
              "size": 10,
              "solidity": 0.2
             }
            },
            "type": "barpolar"
           }
          ],
          "carpet": [
           {
            "aaxis": {
             "endlinecolor": "#2a3f5f",
             "gridcolor": "white",
             "linecolor": "white",
             "minorgridcolor": "white",
             "startlinecolor": "#2a3f5f"
            },
            "baxis": {
             "endlinecolor": "#2a3f5f",
             "gridcolor": "white",
             "linecolor": "white",
             "minorgridcolor": "white",
             "startlinecolor": "#2a3f5f"
            },
            "type": "carpet"
           }
          ],
          "choropleth": [
           {
            "colorbar": {
             "outlinewidth": 0,
             "ticks": ""
            },
            "type": "choropleth"
           }
          ],
          "contour": [
           {
            "colorbar": {
             "outlinewidth": 0,
             "ticks": ""
            },
            "colorscale": [
             [
              0,
              "#0d0887"
             ],
             [
              0.1111111111111111,
              "#46039f"
             ],
             [
              0.2222222222222222,
              "#7201a8"
             ],
             [
              0.3333333333333333,
              "#9c179e"
             ],
             [
              0.4444444444444444,
              "#bd3786"
             ],
             [
              0.5555555555555556,
              "#d8576b"
             ],
             [
              0.6666666666666666,
              "#ed7953"
             ],
             [
              0.7777777777777778,
              "#fb9f3a"
             ],
             [
              0.8888888888888888,
              "#fdca26"
             ],
             [
              1,
              "#f0f921"
             ]
            ],
            "type": "contour"
           }
          ],
          "contourcarpet": [
           {
            "colorbar": {
             "outlinewidth": 0,
             "ticks": ""
            },
            "type": "contourcarpet"
           }
          ],
          "heatmap": [
           {
            "colorbar": {
             "outlinewidth": 0,
             "ticks": ""
            },
            "colorscale": [
             [
              0,
              "#0d0887"
             ],
             [
              0.1111111111111111,
              "#46039f"
             ],
             [
              0.2222222222222222,
              "#7201a8"
             ],
             [
              0.3333333333333333,
              "#9c179e"
             ],
             [
              0.4444444444444444,
              "#bd3786"
             ],
             [
              0.5555555555555556,
              "#d8576b"
             ],
             [
              0.6666666666666666,
              "#ed7953"
             ],
             [
              0.7777777777777778,
              "#fb9f3a"
             ],
             [
              0.8888888888888888,
              "#fdca26"
             ],
             [
              1,
              "#f0f921"
             ]
            ],
            "type": "heatmap"
           }
          ],
          "heatmapgl": [
           {
            "colorbar": {
             "outlinewidth": 0,
             "ticks": ""
            },
            "colorscale": [
             [
              0,
              "#0d0887"
             ],
             [
              0.1111111111111111,
              "#46039f"
             ],
             [
              0.2222222222222222,
              "#7201a8"
             ],
             [
              0.3333333333333333,
              "#9c179e"
             ],
             [
              0.4444444444444444,
              "#bd3786"
             ],
             [
              0.5555555555555556,
              "#d8576b"
             ],
             [
              0.6666666666666666,
              "#ed7953"
             ],
             [
              0.7777777777777778,
              "#fb9f3a"
             ],
             [
              0.8888888888888888,
              "#fdca26"
             ],
             [
              1,
              "#f0f921"
             ]
            ],
            "type": "heatmapgl"
           }
          ],
          "histogram": [
           {
            "marker": {
             "pattern": {
              "fillmode": "overlay",
              "size": 10,
              "solidity": 0.2
             }
            },
            "type": "histogram"
           }
          ],
          "histogram2d": [
           {
            "colorbar": {
             "outlinewidth": 0,
             "ticks": ""
            },
            "colorscale": [
             [
              0,
              "#0d0887"
             ],
             [
              0.1111111111111111,
              "#46039f"
             ],
             [
              0.2222222222222222,
              "#7201a8"
             ],
             [
              0.3333333333333333,
              "#9c179e"
             ],
             [
              0.4444444444444444,
              "#bd3786"
             ],
             [
              0.5555555555555556,
              "#d8576b"
             ],
             [
              0.6666666666666666,
              "#ed7953"
             ],
             [
              0.7777777777777778,
              "#fb9f3a"
             ],
             [
              0.8888888888888888,
              "#fdca26"
             ],
             [
              1,
              "#f0f921"
             ]
            ],
            "type": "histogram2d"
           }
          ],
          "histogram2dcontour": [
           {
            "colorbar": {
             "outlinewidth": 0,
             "ticks": ""
            },
            "colorscale": [
             [
              0,
              "#0d0887"
             ],
             [
              0.1111111111111111,
              "#46039f"
             ],
             [
              0.2222222222222222,
              "#7201a8"
             ],
             [
              0.3333333333333333,
              "#9c179e"
             ],
             [
              0.4444444444444444,
              "#bd3786"
             ],
             [
              0.5555555555555556,
              "#d8576b"
             ],
             [
              0.6666666666666666,
              "#ed7953"
             ],
             [
              0.7777777777777778,
              "#fb9f3a"
             ],
             [
              0.8888888888888888,
              "#fdca26"
             ],
             [
              1,
              "#f0f921"
             ]
            ],
            "type": "histogram2dcontour"
           }
          ],
          "mesh3d": [
           {
            "colorbar": {
             "outlinewidth": 0,
             "ticks": ""
            },
            "type": "mesh3d"
           }
          ],
          "parcoords": [
           {
            "line": {
             "colorbar": {
              "outlinewidth": 0,
              "ticks": ""
             }
            },
            "type": "parcoords"
           }
          ],
          "pie": [
           {
            "automargin": true,
            "type": "pie"
           }
          ],
          "scatter": [
           {
            "fillpattern": {
             "fillmode": "overlay",
             "size": 10,
             "solidity": 0.2
            },
            "type": "scatter"
           }
          ],
          "scatter3d": [
           {
            "line": {
             "colorbar": {
              "outlinewidth": 0,
              "ticks": ""
             }
            },
            "marker": {
             "colorbar": {
              "outlinewidth": 0,
              "ticks": ""
             }
            },
            "type": "scatter3d"
           }
          ],
          "scattercarpet": [
           {
            "marker": {
             "colorbar": {
              "outlinewidth": 0,
              "ticks": ""
             }
            },
            "type": "scattercarpet"
           }
          ],
          "scattergeo": [
           {
            "marker": {
             "colorbar": {
              "outlinewidth": 0,
              "ticks": ""
             }
            },
            "type": "scattergeo"
           }
          ],
          "scattergl": [
           {
            "marker": {
             "colorbar": {
              "outlinewidth": 0,
              "ticks": ""
             }
            },
            "type": "scattergl"
           }
          ],
          "scattermapbox": [
           {
            "marker": {
             "colorbar": {
              "outlinewidth": 0,
              "ticks": ""
             }
            },
            "type": "scattermapbox"
           }
          ],
          "scatterpolar": [
           {
            "marker": {
             "colorbar": {
              "outlinewidth": 0,
              "ticks": ""
             }
            },
            "type": "scatterpolar"
           }
          ],
          "scatterpolargl": [
           {
            "marker": {
             "colorbar": {
              "outlinewidth": 0,
              "ticks": ""
             }
            },
            "type": "scatterpolargl"
           }
          ],
          "scatterternary": [
           {
            "marker": {
             "colorbar": {
              "outlinewidth": 0,
              "ticks": ""
             }
            },
            "type": "scatterternary"
           }
          ],
          "surface": [
           {
            "colorbar": {
             "outlinewidth": 0,
             "ticks": ""
            },
            "colorscale": [
             [
              0,
              "#0d0887"
             ],
             [
              0.1111111111111111,
              "#46039f"
             ],
             [
              0.2222222222222222,
              "#7201a8"
             ],
             [
              0.3333333333333333,
              "#9c179e"
             ],
             [
              0.4444444444444444,
              "#bd3786"
             ],
             [
              0.5555555555555556,
              "#d8576b"
             ],
             [
              0.6666666666666666,
              "#ed7953"
             ],
             [
              0.7777777777777778,
              "#fb9f3a"
             ],
             [
              0.8888888888888888,
              "#fdca26"
             ],
             [
              1,
              "#f0f921"
             ]
            ],
            "type": "surface"
           }
          ],
          "table": [
           {
            "cells": {
             "fill": {
              "color": "#EBF0F8"
             },
             "line": {
              "color": "white"
             }
            },
            "header": {
             "fill": {
              "color": "#C8D4E3"
             },
             "line": {
              "color": "white"
             }
            },
            "type": "table"
           }
          ]
         },
         "layout": {
          "annotationdefaults": {
           "arrowcolor": "#2a3f5f",
           "arrowhead": 0,
           "arrowwidth": 1
          },
          "autotypenumbers": "strict",
          "coloraxis": {
           "colorbar": {
            "outlinewidth": 0,
            "ticks": ""
           }
          },
          "colorscale": {
           "diverging": [
            [
             0,
             "#8e0152"
            ],
            [
             0.1,
             "#c51b7d"
            ],
            [
             0.2,
             "#de77ae"
            ],
            [
             0.3,
             "#f1b6da"
            ],
            [
             0.4,
             "#fde0ef"
            ],
            [
             0.5,
             "#f7f7f7"
            ],
            [
             0.6,
             "#e6f5d0"
            ],
            [
             0.7,
             "#b8e186"
            ],
            [
             0.8,
             "#7fbc41"
            ],
            [
             0.9,
             "#4d9221"
            ],
            [
             1,
             "#276419"
            ]
           ],
           "sequential": [
            [
             0,
             "#0d0887"
            ],
            [
             0.1111111111111111,
             "#46039f"
            ],
            [
             0.2222222222222222,
             "#7201a8"
            ],
            [
             0.3333333333333333,
             "#9c179e"
            ],
            [
             0.4444444444444444,
             "#bd3786"
            ],
            [
             0.5555555555555556,
             "#d8576b"
            ],
            [
             0.6666666666666666,
             "#ed7953"
            ],
            [
             0.7777777777777778,
             "#fb9f3a"
            ],
            [
             0.8888888888888888,
             "#fdca26"
            ],
            [
             1,
             "#f0f921"
            ]
           ],
           "sequentialminus": [
            [
             0,
             "#0d0887"
            ],
            [
             0.1111111111111111,
             "#46039f"
            ],
            [
             0.2222222222222222,
             "#7201a8"
            ],
            [
             0.3333333333333333,
             "#9c179e"
            ],
            [
             0.4444444444444444,
             "#bd3786"
            ],
            [
             0.5555555555555556,
             "#d8576b"
            ],
            [
             0.6666666666666666,
             "#ed7953"
            ],
            [
             0.7777777777777778,
             "#fb9f3a"
            ],
            [
             0.8888888888888888,
             "#fdca26"
            ],
            [
             1,
             "#f0f921"
            ]
           ]
          },
          "colorway": [
           "#636efa",
           "#EF553B",
           "#00cc96",
           "#ab63fa",
           "#FFA15A",
           "#19d3f3",
           "#FF6692",
           "#B6E880",
           "#FF97FF",
           "#FECB52"
          ],
          "font": {
           "color": "#2a3f5f"
          },
          "geo": {
           "bgcolor": "white",
           "lakecolor": "white",
           "landcolor": "#E5ECF6",
           "showlakes": true,
           "showland": true,
           "subunitcolor": "white"
          },
          "hoverlabel": {
           "align": "left"
          },
          "hovermode": "closest",
          "mapbox": {
           "style": "light"
          },
          "paper_bgcolor": "white",
          "plot_bgcolor": "#E5ECF6",
          "polar": {
           "angularaxis": {
            "gridcolor": "white",
            "linecolor": "white",
            "ticks": ""
           },
           "bgcolor": "#E5ECF6",
           "radialaxis": {
            "gridcolor": "white",
            "linecolor": "white",
            "ticks": ""
           }
          },
          "scene": {
           "xaxis": {
            "backgroundcolor": "#E5ECF6",
            "gridcolor": "white",
            "gridwidth": 2,
            "linecolor": "white",
            "showbackground": true,
            "ticks": "",
            "zerolinecolor": "white"
           },
           "yaxis": {
            "backgroundcolor": "#E5ECF6",
            "gridcolor": "white",
            "gridwidth": 2,
            "linecolor": "white",
            "showbackground": true,
            "ticks": "",
            "zerolinecolor": "white"
           },
           "zaxis": {
            "backgroundcolor": "#E5ECF6",
            "gridcolor": "white",
            "gridwidth": 2,
            "linecolor": "white",
            "showbackground": true,
            "ticks": "",
            "zerolinecolor": "white"
           }
          },
          "shapedefaults": {
           "line": {
            "color": "#2a3f5f"
           }
          },
          "ternary": {
           "aaxis": {
            "gridcolor": "white",
            "linecolor": "white",
            "ticks": ""
           },
           "baxis": {
            "gridcolor": "white",
            "linecolor": "white",
            "ticks": ""
           },
           "bgcolor": "#E5ECF6",
           "caxis": {
            "gridcolor": "white",
            "linecolor": "white",
            "ticks": ""
           }
          },
          "title": {
           "x": 0.05
          },
          "xaxis": {
           "automargin": true,
           "gridcolor": "white",
           "linecolor": "white",
           "ticks": "",
           "title": {
            "standoff": 15
           },
           "zerolinecolor": "white",
           "zerolinewidth": 2
          },
          "yaxis": {
           "automargin": true,
           "gridcolor": "white",
           "linecolor": "white",
           "ticks": "",
           "title": {
            "standoff": 15
           },
           "zerolinecolor": "white",
           "zerolinewidth": 2
          }
         }
        },
        "title": {
         "text": "Optimization History Plot"
        },
        "xaxis": {
         "title": {
          "text": "Trial"
         }
        },
        "yaxis": {
         "title": {
          "text": "Objective Value"
         }
        }
       }
      }
     },
     "metadata": {},
     "output_type": "display_data"
    }
   ],
   "source": [
    "optuna.visualization.plot_optimization_history(study)"
   ]
  },
  {
   "cell_type": "code",
   "execution_count": 22,
   "metadata": {},
   "outputs": [
    {
     "data": {
      "application/vnd.plotly.v1+json": {
       "config": {
        "plotlyServerURL": "https://plot.ly"
       },
       "data": [
        {
         "cliponaxis": false,
         "hovertemplate": [
          "max_depth (IntDistribution): 0.011001441954094169<extra></extra>",
          "n_estimators (IntDistribution): 0.02280725972503077<extra></extra>",
          "min_child_weight (IntDistribution): 0.027949415454891397<extra></extra>",
          "subsample (FloatDistribution): 0.034280986654906295<extra></extra>",
          "learning_rate (FloatDistribution): 0.038610504760846834<extra></extra>",
          "colsample_bytree (FloatDistribution): 0.8653503914502304<extra></extra>"
         ],
         "name": "Objective Value",
         "orientation": "h",
         "text": [
          "0.01",
          "0.02",
          "0.03",
          "0.03",
          "0.04",
          "0.87"
         ],
         "textposition": "outside",
         "type": "bar",
         "x": [
          0.011001441954094169,
          0.02280725972503077,
          0.027949415454891397,
          0.034280986654906295,
          0.038610504760846834,
          0.8653503914502304
         ],
         "y": [
          "max_depth",
          "n_estimators",
          "min_child_weight",
          "subsample",
          "learning_rate",
          "colsample_bytree"
         ]
        }
       ],
       "layout": {
        "template": {
         "data": {
          "bar": [
           {
            "error_x": {
             "color": "#2a3f5f"
            },
            "error_y": {
             "color": "#2a3f5f"
            },
            "marker": {
             "line": {
              "color": "#E5ECF6",
              "width": 0.5
             },
             "pattern": {
              "fillmode": "overlay",
              "size": 10,
              "solidity": 0.2
             }
            },
            "type": "bar"
           }
          ],
          "barpolar": [
           {
            "marker": {
             "line": {
              "color": "#E5ECF6",
              "width": 0.5
             },
             "pattern": {
              "fillmode": "overlay",
              "size": 10,
              "solidity": 0.2
             }
            },
            "type": "barpolar"
           }
          ],
          "carpet": [
           {
            "aaxis": {
             "endlinecolor": "#2a3f5f",
             "gridcolor": "white",
             "linecolor": "white",
             "minorgridcolor": "white",
             "startlinecolor": "#2a3f5f"
            },
            "baxis": {
             "endlinecolor": "#2a3f5f",
             "gridcolor": "white",
             "linecolor": "white",
             "minorgridcolor": "white",
             "startlinecolor": "#2a3f5f"
            },
            "type": "carpet"
           }
          ],
          "choropleth": [
           {
            "colorbar": {
             "outlinewidth": 0,
             "ticks": ""
            },
            "type": "choropleth"
           }
          ],
          "contour": [
           {
            "colorbar": {
             "outlinewidth": 0,
             "ticks": ""
            },
            "colorscale": [
             [
              0,
              "#0d0887"
             ],
             [
              0.1111111111111111,
              "#46039f"
             ],
             [
              0.2222222222222222,
              "#7201a8"
             ],
             [
              0.3333333333333333,
              "#9c179e"
             ],
             [
              0.4444444444444444,
              "#bd3786"
             ],
             [
              0.5555555555555556,
              "#d8576b"
             ],
             [
              0.6666666666666666,
              "#ed7953"
             ],
             [
              0.7777777777777778,
              "#fb9f3a"
             ],
             [
              0.8888888888888888,
              "#fdca26"
             ],
             [
              1,
              "#f0f921"
             ]
            ],
            "type": "contour"
           }
          ],
          "contourcarpet": [
           {
            "colorbar": {
             "outlinewidth": 0,
             "ticks": ""
            },
            "type": "contourcarpet"
           }
          ],
          "heatmap": [
           {
            "colorbar": {
             "outlinewidth": 0,
             "ticks": ""
            },
            "colorscale": [
             [
              0,
              "#0d0887"
             ],
             [
              0.1111111111111111,
              "#46039f"
             ],
             [
              0.2222222222222222,
              "#7201a8"
             ],
             [
              0.3333333333333333,
              "#9c179e"
             ],
             [
              0.4444444444444444,
              "#bd3786"
             ],
             [
              0.5555555555555556,
              "#d8576b"
             ],
             [
              0.6666666666666666,
              "#ed7953"
             ],
             [
              0.7777777777777778,
              "#fb9f3a"
             ],
             [
              0.8888888888888888,
              "#fdca26"
             ],
             [
              1,
              "#f0f921"
             ]
            ],
            "type": "heatmap"
           }
          ],
          "heatmapgl": [
           {
            "colorbar": {
             "outlinewidth": 0,
             "ticks": ""
            },
            "colorscale": [
             [
              0,
              "#0d0887"
             ],
             [
              0.1111111111111111,
              "#46039f"
             ],
             [
              0.2222222222222222,
              "#7201a8"
             ],
             [
              0.3333333333333333,
              "#9c179e"
             ],
             [
              0.4444444444444444,
              "#bd3786"
             ],
             [
              0.5555555555555556,
              "#d8576b"
             ],
             [
              0.6666666666666666,
              "#ed7953"
             ],
             [
              0.7777777777777778,
              "#fb9f3a"
             ],
             [
              0.8888888888888888,
              "#fdca26"
             ],
             [
              1,
              "#f0f921"
             ]
            ],
            "type": "heatmapgl"
           }
          ],
          "histogram": [
           {
            "marker": {
             "pattern": {
              "fillmode": "overlay",
              "size": 10,
              "solidity": 0.2
             }
            },
            "type": "histogram"
           }
          ],
          "histogram2d": [
           {
            "colorbar": {
             "outlinewidth": 0,
             "ticks": ""
            },
            "colorscale": [
             [
              0,
              "#0d0887"
             ],
             [
              0.1111111111111111,
              "#46039f"
             ],
             [
              0.2222222222222222,
              "#7201a8"
             ],
             [
              0.3333333333333333,
              "#9c179e"
             ],
             [
              0.4444444444444444,
              "#bd3786"
             ],
             [
              0.5555555555555556,
              "#d8576b"
             ],
             [
              0.6666666666666666,
              "#ed7953"
             ],
             [
              0.7777777777777778,
              "#fb9f3a"
             ],
             [
              0.8888888888888888,
              "#fdca26"
             ],
             [
              1,
              "#f0f921"
             ]
            ],
            "type": "histogram2d"
           }
          ],
          "histogram2dcontour": [
           {
            "colorbar": {
             "outlinewidth": 0,
             "ticks": ""
            },
            "colorscale": [
             [
              0,
              "#0d0887"
             ],
             [
              0.1111111111111111,
              "#46039f"
             ],
             [
              0.2222222222222222,
              "#7201a8"
             ],
             [
              0.3333333333333333,
              "#9c179e"
             ],
             [
              0.4444444444444444,
              "#bd3786"
             ],
             [
              0.5555555555555556,
              "#d8576b"
             ],
             [
              0.6666666666666666,
              "#ed7953"
             ],
             [
              0.7777777777777778,
              "#fb9f3a"
             ],
             [
              0.8888888888888888,
              "#fdca26"
             ],
             [
              1,
              "#f0f921"
             ]
            ],
            "type": "histogram2dcontour"
           }
          ],
          "mesh3d": [
           {
            "colorbar": {
             "outlinewidth": 0,
             "ticks": ""
            },
            "type": "mesh3d"
           }
          ],
          "parcoords": [
           {
            "line": {
             "colorbar": {
              "outlinewidth": 0,
              "ticks": ""
             }
            },
            "type": "parcoords"
           }
          ],
          "pie": [
           {
            "automargin": true,
            "type": "pie"
           }
          ],
          "scatter": [
           {
            "fillpattern": {
             "fillmode": "overlay",
             "size": 10,
             "solidity": 0.2
            },
            "type": "scatter"
           }
          ],
          "scatter3d": [
           {
            "line": {
             "colorbar": {
              "outlinewidth": 0,
              "ticks": ""
             }
            },
            "marker": {
             "colorbar": {
              "outlinewidth": 0,
              "ticks": ""
             }
            },
            "type": "scatter3d"
           }
          ],
          "scattercarpet": [
           {
            "marker": {
             "colorbar": {
              "outlinewidth": 0,
              "ticks": ""
             }
            },
            "type": "scattercarpet"
           }
          ],
          "scattergeo": [
           {
            "marker": {
             "colorbar": {
              "outlinewidth": 0,
              "ticks": ""
             }
            },
            "type": "scattergeo"
           }
          ],
          "scattergl": [
           {
            "marker": {
             "colorbar": {
              "outlinewidth": 0,
              "ticks": ""
             }
            },
            "type": "scattergl"
           }
          ],
          "scattermapbox": [
           {
            "marker": {
             "colorbar": {
              "outlinewidth": 0,
              "ticks": ""
             }
            },
            "type": "scattermapbox"
           }
          ],
          "scatterpolar": [
           {
            "marker": {
             "colorbar": {
              "outlinewidth": 0,
              "ticks": ""
             }
            },
            "type": "scatterpolar"
           }
          ],
          "scatterpolargl": [
           {
            "marker": {
             "colorbar": {
              "outlinewidth": 0,
              "ticks": ""
             }
            },
            "type": "scatterpolargl"
           }
          ],
          "scatterternary": [
           {
            "marker": {
             "colorbar": {
              "outlinewidth": 0,
              "ticks": ""
             }
            },
            "type": "scatterternary"
           }
          ],
          "surface": [
           {
            "colorbar": {
             "outlinewidth": 0,
             "ticks": ""
            },
            "colorscale": [
             [
              0,
              "#0d0887"
             ],
             [
              0.1111111111111111,
              "#46039f"
             ],
             [
              0.2222222222222222,
              "#7201a8"
             ],
             [
              0.3333333333333333,
              "#9c179e"
             ],
             [
              0.4444444444444444,
              "#bd3786"
             ],
             [
              0.5555555555555556,
              "#d8576b"
             ],
             [
              0.6666666666666666,
              "#ed7953"
             ],
             [
              0.7777777777777778,
              "#fb9f3a"
             ],
             [
              0.8888888888888888,
              "#fdca26"
             ],
             [
              1,
              "#f0f921"
             ]
            ],
            "type": "surface"
           }
          ],
          "table": [
           {
            "cells": {
             "fill": {
              "color": "#EBF0F8"
             },
             "line": {
              "color": "white"
             }
            },
            "header": {
             "fill": {
              "color": "#C8D4E3"
             },
             "line": {
              "color": "white"
             }
            },
            "type": "table"
           }
          ]
         },
         "layout": {
          "annotationdefaults": {
           "arrowcolor": "#2a3f5f",
           "arrowhead": 0,
           "arrowwidth": 1
          },
          "autotypenumbers": "strict",
          "coloraxis": {
           "colorbar": {
            "outlinewidth": 0,
            "ticks": ""
           }
          },
          "colorscale": {
           "diverging": [
            [
             0,
             "#8e0152"
            ],
            [
             0.1,
             "#c51b7d"
            ],
            [
             0.2,
             "#de77ae"
            ],
            [
             0.3,
             "#f1b6da"
            ],
            [
             0.4,
             "#fde0ef"
            ],
            [
             0.5,
             "#f7f7f7"
            ],
            [
             0.6,
             "#e6f5d0"
            ],
            [
             0.7,
             "#b8e186"
            ],
            [
             0.8,
             "#7fbc41"
            ],
            [
             0.9,
             "#4d9221"
            ],
            [
             1,
             "#276419"
            ]
           ],
           "sequential": [
            [
             0,
             "#0d0887"
            ],
            [
             0.1111111111111111,
             "#46039f"
            ],
            [
             0.2222222222222222,
             "#7201a8"
            ],
            [
             0.3333333333333333,
             "#9c179e"
            ],
            [
             0.4444444444444444,
             "#bd3786"
            ],
            [
             0.5555555555555556,
             "#d8576b"
            ],
            [
             0.6666666666666666,
             "#ed7953"
            ],
            [
             0.7777777777777778,
             "#fb9f3a"
            ],
            [
             0.8888888888888888,
             "#fdca26"
            ],
            [
             1,
             "#f0f921"
            ]
           ],
           "sequentialminus": [
            [
             0,
             "#0d0887"
            ],
            [
             0.1111111111111111,
             "#46039f"
            ],
            [
             0.2222222222222222,
             "#7201a8"
            ],
            [
             0.3333333333333333,
             "#9c179e"
            ],
            [
             0.4444444444444444,
             "#bd3786"
            ],
            [
             0.5555555555555556,
             "#d8576b"
            ],
            [
             0.6666666666666666,
             "#ed7953"
            ],
            [
             0.7777777777777778,
             "#fb9f3a"
            ],
            [
             0.8888888888888888,
             "#fdca26"
            ],
            [
             1,
             "#f0f921"
            ]
           ]
          },
          "colorway": [
           "#636efa",
           "#EF553B",
           "#00cc96",
           "#ab63fa",
           "#FFA15A",
           "#19d3f3",
           "#FF6692",
           "#B6E880",
           "#FF97FF",
           "#FECB52"
          ],
          "font": {
           "color": "#2a3f5f"
          },
          "geo": {
           "bgcolor": "white",
           "lakecolor": "white",
           "landcolor": "#E5ECF6",
           "showlakes": true,
           "showland": true,
           "subunitcolor": "white"
          },
          "hoverlabel": {
           "align": "left"
          },
          "hovermode": "closest",
          "mapbox": {
           "style": "light"
          },
          "paper_bgcolor": "white",
          "plot_bgcolor": "#E5ECF6",
          "polar": {
           "angularaxis": {
            "gridcolor": "white",
            "linecolor": "white",
            "ticks": ""
           },
           "bgcolor": "#E5ECF6",
           "radialaxis": {
            "gridcolor": "white",
            "linecolor": "white",
            "ticks": ""
           }
          },
          "scene": {
           "xaxis": {
            "backgroundcolor": "#E5ECF6",
            "gridcolor": "white",
            "gridwidth": 2,
            "linecolor": "white",
            "showbackground": true,
            "ticks": "",
            "zerolinecolor": "white"
           },
           "yaxis": {
            "backgroundcolor": "#E5ECF6",
            "gridcolor": "white",
            "gridwidth": 2,
            "linecolor": "white",
            "showbackground": true,
            "ticks": "",
            "zerolinecolor": "white"
           },
           "zaxis": {
            "backgroundcolor": "#E5ECF6",
            "gridcolor": "white",
            "gridwidth": 2,
            "linecolor": "white",
            "showbackground": true,
            "ticks": "",
            "zerolinecolor": "white"
           }
          },
          "shapedefaults": {
           "line": {
            "color": "#2a3f5f"
           }
          },
          "ternary": {
           "aaxis": {
            "gridcolor": "white",
            "linecolor": "white",
            "ticks": ""
           },
           "baxis": {
            "gridcolor": "white",
            "linecolor": "white",
            "ticks": ""
           },
           "bgcolor": "#E5ECF6",
           "caxis": {
            "gridcolor": "white",
            "linecolor": "white",
            "ticks": ""
           }
          },
          "title": {
           "x": 0.05
          },
          "xaxis": {
           "automargin": true,
           "gridcolor": "white",
           "linecolor": "white",
           "ticks": "",
           "title": {
            "standoff": 15
           },
           "zerolinecolor": "white",
           "zerolinewidth": 2
          },
          "yaxis": {
           "automargin": true,
           "gridcolor": "white",
           "linecolor": "white",
           "ticks": "",
           "title": {
            "standoff": 15
           },
           "zerolinecolor": "white",
           "zerolinewidth": 2
          }
         }
        },
        "title": {
         "text": "Hyperparameter Importances"
        },
        "xaxis": {
         "title": {
          "text": "Hyperparameter Importance"
         }
        },
        "yaxis": {
         "title": {
          "text": "Hyperparameter"
         }
        }
       }
      }
     },
     "metadata": {},
     "output_type": "display_data"
    }
   ],
   "source": [
    "optuna.visualization.plot_param_importances(study)"
   ]
  },
  {
   "cell_type": "code",
   "execution_count": null,
   "metadata": {},
   "outputs": [
    {
     "data": {
      "application/vnd.plotly.v1+json": {
       "config": {
        "plotlyServerURL": "https://plot.ly"
       },
       "data": [
        {
         "hovertemplate": "%{hovertext}<extra></extra>",
         "hovertext": [
          "Trial #0<br>n_estimators: 767<br>learning_rate: 0.0015747097478395681<br>max_depth: 6<br>subsample: 0.097876301522088<br>colsample_bytree: 0.6576225020519517<br>min_child_weight: 16<br><b>Objective Value: 991176.2122694021</b>",
          "Trial #1<br>n_estimators: 58<br>learning_rate: 0.005530058961187191<br>max_depth: 3<br>subsample: 0.5193399160343608<br>colsample_bytree: 0.7350866876470932<br>min_child_weight: 11<br><b>Objective Value: 967606.3880668364</b>",
          "Trial #2<br>n_estimators: 937<br>learning_rate: 0.003348067119963998<br>max_depth: 1<br>subsample: 0.9701110567959943<br>colsample_bytree: 0.5116555677308053<br>min_child_weight: 14<br><b>Objective Value: 427039.5798937887</b>",
          "Trial #3<br>n_estimators: 305<br>learning_rate: 0.052771720083684116<br>max_depth: 1<br>subsample: 0.4206951473115537<br>colsample_bytree: 0.9379881397083131<br>min_child_weight: 7<br><b>Objective Value: 371266.45843115204</b>",
          "Trial #4<br>n_estimators: 229<br>learning_rate: 0.05507908907943347<br>max_depth: 4<br>subsample: 0.27140677840498123<br>colsample_bytree: 0.2994858850906477<br>min_child_weight: 18<br><b>Objective Value: 517270.5708360195</b>",
          "Trial #5<br>n_estimators: 334<br>learning_rate: 0.05179480274232127<br>max_depth: 10<br>subsample: 0.5377713403448408<br>colsample_bytree: 0.193909818562013<br>min_child_weight: 11<br><b>Objective Value: 457600.4785679549</b>",
          "Trial #6<br>n_estimators: 640<br>learning_rate: 0.0017643922352214994<br>max_depth: 5<br>subsample: 0.8371651197168583<br>colsample_bytree: 0.8456817270040443<br>min_child_weight: 15<br><b>Objective Value: 504397.7296297001</b>",
          "Trial #7<br>n_estimators: 364<br>learning_rate: 0.00320751776396155<br>max_depth: 6<br>subsample: 0.6819308098264235<br>colsample_bytree: 0.15975372455442<br>min_child_weight: 6<br><b>Objective Value: 957862.4322305212</b>",
          "Trial #8<br>n_estimators: 220<br>learning_rate: 0.006194307321913093<br>max_depth: 3<br>subsample: 0.767147953205339<br>colsample_bytree: 0.818526866331361<br>min_child_weight: 3<br><b>Objective Value: 429398.49869690544</b>",
          "Trial #9<br>n_estimators: 651<br>learning_rate: 0.00208677528307827<br>max_depth: 10<br>subsample: 0.817867757115086<br>colsample_bytree: 0.25988778558627673<br>min_child_weight: 20<br><b>Objective Value: 768067.2325432556</b>",
          "Trial #10<br>n_estimators: 65<br>learning_rate: 0.019798335142557497<br>max_depth: 1<br>subsample: 0.338519991617988<br>colsample_bytree: 0.47715862154578037<br>min_child_weight: 7<br><b>Objective Value: 641169.4154013235</b>",
          "Trial #11<br>n_estimators: 961<br>learning_rate: 0.014178186362282089<br>max_depth: 1<br>subsample: 0.9523700822522161<br>colsample_bytree: 0.9939678847177081<br>min_child_weight: 13<br><b>Objective Value: 376577.08912284684</b>",
          "Trial #12<br>n_estimators: 482<br>learning_rate: 0.018826937152783756<br>max_depth: 1<br>subsample: 0.4571967552145146<br>colsample_bytree: 0.9546677134697086<br>min_child_weight: 8<br><b>Objective Value: 365079.61418260046</b>",
          "Trial #13<br>n_estimators: 439<br>learning_rate: 0.02997242324710802<br>max_depth: 8<br>subsample: 0.4142508597330893<br>colsample_bytree: 0.9241566761968965<br>min_child_weight: 7<br><b>Objective Value: 341666.45478047227</b>",
          "Trial #14<br>n_estimators: 482<br>learning_rate: 0.02336985828800374<br>max_depth: 7<br>subsample: 0.19089227313150542<br>colsample_bytree: 0.6406745520216072<br>min_child_weight: 1<br><b>Objective Value: 350991.61970825394</b>",
          "Trial #15<br>n_estimators: 502<br>learning_rate: 0.03047653024623378<br>max_depth: 8<br>subsample: 0.12164385499855246<br>colsample_bytree: 0.6645587568033247<br>min_child_weight: 1<br><b>Objective Value: 353483.4977039164</b>",
          "Trial #16<br>n_estimators: 622<br>learning_rate: 0.033666958026211655<br>max_depth: 8<br>subsample: 0.20847692874348958<br>colsample_bytree: 0.3686644493882886<br>min_child_weight: 3<br><b>Objective Value: 378666.75498589984</b>",
          "Trial #17<br>n_estimators: 784<br>learning_rate: 0.0855139528241876<br>max_depth: 8<br>subsample: 0.22188023389585648<br>colsample_bytree: 0.6047784162218129<br>min_child_weight: 4<br><b>Objective Value: 428600.75330217776</b>",
          "Trial #18<br>n_estimators: 420<br>learning_rate: 0.009725482940255808<br>max_depth: 7<br>subsample: 0.6181725148593529<br>colsample_bytree: 0.8113872026823736<br>min_child_weight: 1<br><b>Objective Value: 298588.32660519716</b>",
          "Trial #19<br>n_estimators: 404<br>learning_rate: 0.012775651955040953<br>max_depth: 9<br>subsample: 0.6583142979681862<br>colsample_bytree: 0.8279296458764754<br>min_child_weight: 5<br><b>Objective Value: 299042.99145767535</b>",
          "Trial #20<br>n_estimators: 222<br>learning_rate: 0.010016135873957837<br>max_depth: 9<br>subsample: 0.6616203483148676<br>colsample_bytree: 0.8002858428057222<br>min_child_weight: 5<br><b>Objective Value: 344979.0776388899</b>",
          "Trial #21<br>n_estimators: 439<br>learning_rate: 0.009936533162881145<br>max_depth: 7<br>subsample: 0.625445082781176<br>colsample_bytree: 0.8801182554563154<br>min_child_weight: 9<br><b>Objective Value: 327690.08189804887</b>",
          "Trial #22<br>n_estimators: 408<br>learning_rate: 0.009393285461515546<br>max_depth: 7<br>subsample: 0.6239627040705646<br>colsample_bytree: 0.7470984620868367<br>min_child_weight: 9<br><b>Objective Value: 340079.2146918512</b>",
          "Trial #23<br>n_estimators: 557<br>learning_rate: 0.010511175974605826<br>max_depth: 9<br>subsample: 0.599173360043191<br>colsample_bytree: 0.8741874749194374<br>min_child_weight: 2<br><b>Objective Value: 284926.7862693686</b>",
          "Trial #24<br>n_estimators: 556<br>learning_rate: 0.006052205015940405<br>max_depth: 9<br>subsample: 0.7206631846553148<br>colsample_bytree: 0.748869193533001<br>min_child_weight: 2<br><b>Objective Value: 315829.6284177592</b>",
          "Trial #25<br>n_estimators: 693<br>learning_rate: 0.01316771530574905<br>max_depth: 9<br>subsample: 0.5587048761176324<br>colsample_bytree: 0.8793477210154363<br>min_child_weight: 4<br><b>Objective Value: 298731.6268115444</b>",
          "Trial #26<br>n_estimators: 755<br>learning_rate: 0.0010647437615680128<br>max_depth: 10<br>subsample: 0.5294468322178767<br>colsample_bytree: 0.5793999761834137<br>min_child_weight: 3<br><b>Objective Value: 723103.9218672968</b>",
          "Trial #27<br>n_estimators: 575<br>learning_rate: 0.004303596003483651<br>max_depth: 9<br>subsample: 0.58387487005674<br>colsample_bytree: 0.8832541836361401<br>min_child_weight: 1<br><b>Objective Value: 328059.268750996</b>",
          "Trial #28<br>n_estimators: 704<br>learning_rate: 0.00722133514132744<br>max_depth: 7<br>subsample: 0.36249442437953855<br>colsample_bytree: 0.057362758571058936<br>min_child_weight: 4<br><b>Objective Value: 932212.395475336</b>",
          "Trial #29<br>n_estimators: 846<br>learning_rate: 0.015018616654259595<br>max_depth: 5<br>subsample: 0.4932881898706438<br>colsample_bytree: 0.6937206964526362<br>min_child_weight: 2<br><b>Objective Value: 308315.18672839936</b>",
          "Trial #30<br>n_estimators: 826<br>learning_rate: 0.00848870230404822<br>max_depth: 6<br>subsample: 0.5800844851984811<br>colsample_bytree: 0.7859032882121675<br>min_child_weight: 5<br><b>Objective Value: 312040.269083578</b>",
          "Trial #31<br>n_estimators: 563<br>learning_rate: 0.012945069893578007<br>max_depth: 9<br>subsample: 0.7319990164020926<br>colsample_bytree: 0.9973535521002292<br>min_child_weight: 5<br><b>Objective Value: 291337.79006914544</b>",
          "Trial #32<br>n_estimators: 554<br>learning_rate: 0.012412693647244826<br>max_depth: 9<br>subsample: 0.7472859412820001<br>colsample_bytree: 0.9914377891521898<br>min_child_weight: 2<br><b>Objective Value: 275257.77608150814</b>",
          "Trial #33<br>n_estimators: 586<br>learning_rate: 0.004652670085847571<br>max_depth: 10<br>subsample: 0.8926792710475189<br>colsample_bytree: 0.9992652515084917<br>min_child_weight: 2<br><b>Objective Value: 299712.0940093663</b>",
          "Trial #34<br>n_estimators: 530<br>learning_rate: 0.016837805929797316<br>max_depth: 8<br>subsample: 0.7449732261944209<br>colsample_bytree: 0.9162391766950476<br>min_child_weight: 1<br><b>Objective Value: 290355.7004190787</b>",
          "Trial #35<br>n_estimators: 530<br>learning_rate: 0.018172545153524993<br>max_depth: 8<br>subsample: 0.7307412884471196<br>colsample_bytree: 0.9472302080321188<br>min_child_weight: 2<br><b>Objective Value: 277515.6157402743</b>",
          "Trial #36<br>n_estimators: 513<br>learning_rate: 0.020315446065176403<br>max_depth: 8<br>subsample: 0.8207772478954257<br>colsample_bytree: 0.9239802258123772<br>min_child_weight: 3<br><b>Objective Value: 296312.42571053875</b>",
          "Trial #37<br>n_estimators: 674<br>learning_rate: 0.02539832131671421<br>max_depth: 10<br>subsample: 0.7783876775096477<br>colsample_bytree: 0.9262731212630596<br>min_child_weight: 2<br><b>Objective Value: 280452.93634444854</b>",
          "Trial #38<br>n_estimators: 699<br>learning_rate: 0.036431562431461256<br>max_depth: 10<br>subsample: 0.8687009851559817<br>colsample_bytree: 0.9436489399905371<br>min_child_weight: 6<br><b>Objective Value: 307295.3685835568</b>",
          "Trial #39<br>n_estimators: 909<br>learning_rate: 0.04464536831775226<br>max_depth: 10<br>subsample: 0.7812135295394742<br>colsample_bytree: 0.43936990795454056<br>min_child_weight: 12<br><b>Objective Value: 406798.3023617536</b>",
          "Trial #40<br>n_estimators: 617<br>learning_rate: 0.024344160262881425<br>max_depth: 9<br>subsample: 0.9926009965267614<br>colsample_bytree: 0.8624781993176509<br>min_child_weight: 17<br><b>Objective Value: 387887.9176804833</b>",
          "Trial #41<br>n_estimators: 534<br>learning_rate: 0.015684102399832076<br>max_depth: 8<br>subsample: 0.7223910708375313<br>colsample_bytree: 0.9148501256444609<br>min_child_weight: 2<br><b>Objective Value: 274497.7952707665</b>",
          "Trial #42<br>n_estimators: 670<br>learning_rate: 0.025000716602826913<br>max_depth: 10<br>subsample: 0.6999877783778806<br>colsample_bytree: 0.9562366888236147<br>min_child_weight: 2<br><b>Objective Value: 277867.4255822706</b>",
          "Trial #43<br>n_estimators: 668<br>learning_rate: 0.024063289410580745<br>max_depth: 10<br>subsample: 0.7092480745304313<br>colsample_bytree: 0.9444444187311857<br>min_child_weight: 4<br><b>Objective Value: 296635.0369963813</b>",
          "Trial #44<br>n_estimators: 744<br>learning_rate: 0.07039038889925461<br>max_depth: 10<br>subsample: 0.7849457934713447<br>colsample_bytree: 0.9776213238581749<br>min_child_weight: 3<br><b>Objective Value: 304560.93577009405</b>",
          "Trial #45<br>n_estimators: 301<br>learning_rate: 0.03974830700412043<br>max_depth: 4<br>subsample: 0.9296884783275827<br>colsample_bytree: 0.9220712004014767<br>min_child_weight: 2<br><b>Objective Value: 276898.51350169344</b>",
          "Trial #46<br>n_estimators: 88<br>learning_rate: 0.04766352769468869<br>max_depth: 3<br>subsample: 0.938767683609711<br>colsample_bytree: 0.7666264391865456<br>min_child_weight: 2<br><b>Objective Value: 277929.65022807993</b>",
          "Trial #47<br>n_estimators: 298<br>learning_rate: 0.05754334751825591<br>max_depth: 4<br>subsample: 0.9144363160566588<br>colsample_bytree: 0.7101689183265032<br>min_child_weight: 20<br><b>Objective Value: 387433.57137493975</b>",
          "Trial #48<br>n_estimators: 149<br>learning_rate: 0.039467070037816764<br>max_depth: 4<br>subsample: 0.8499053441875789<br>colsample_bytree: 0.8422455495823975<br>min_child_weight: 6<br><b>Objective Value: 304641.97837331274</b>",
          "Trial #49<br>n_estimators: 463<br>learning_rate: 0.016689937186009356<br>max_depth: 6<br>subsample: 0.808193867209028<br>colsample_bytree: 0.9044189128183897<br>min_child_weight: 4<br><b>Objective Value: 296129.65102130576</b>",
          "Trial #50<br>n_estimators: 291<br>learning_rate: 0.027838206291082062<br>max_depth: 2<br>subsample: 0.6862601035902712<br>colsample_bytree: 0.9596904594758772<br>min_child_weight: 1<br><b>Objective Value: 299230.5957550863</b>",
          "Trial #51<br>n_estimators: 108<br>learning_rate: 0.058908532372820725<br>max_depth: 3<br>subsample: 0.9434758098588533<br>colsample_bytree: 0.7693936951145406<br>min_child_weight: 2<br><b>Objective Value: 275158.90359793504</b>",
          "Trial #52<br>n_estimators: 358<br>learning_rate: 0.06666819726091706<br>max_depth: 2<br>subsample: 0.8894716836532949<br>colsample_bytree: 0.9682209834156779<br>min_child_weight: 3<br><b>Objective Value: 331002.3123041739</b>",
          "Trial #53<br>n_estimators: 148<br>learning_rate: 0.09211450344302648<br>max_depth: 5<br>subsample: 0.9528970872157627<br>colsample_bytree: 0.9143029580629253<br>min_child_weight: 14<br><b>Objective Value: 369050.01442677487</b>",
          "Trial #54<br>n_estimators: 251<br>learning_rate: 0.020452192791982148<br>max_depth: 3<br>subsample: 0.9213151729847985<br>colsample_bytree: 0.8489045655995282<br>min_child_weight: 3<br><b>Objective Value: 301930.6586735247</b>",
          "Trial #55<br>n_estimators: 622<br>learning_rate: 0.04089145644220214<br>max_depth: 2<br>subsample: 0.9821671692669844<br>colsample_bytree: 0.8188605225930284<br>min_child_weight: 1<br><b>Objective Value: 307355.29496083903</b>",
          "Trial #56<br>n_estimators: 143<br>learning_rate: 0.05786000603512397<br>max_depth: 3<br>subsample: 0.8557992767162631<br>colsample_bytree: 0.9607612996012228<br>min_child_weight: 2<br><b>Objective Value: 273149.9128264799</b>",
          "Trial #57<br>n_estimators: 162<br>learning_rate: 0.06841325297884324<br>max_depth: 3<br>subsample: 0.8650352251387403<br>colsample_bytree: 0.895626391237767<br>min_child_weight: 4<br><b>Objective Value: 309493.6521632684</b>",
          "Trial #58<br>n_estimators: 95<br>learning_rate: 0.08056482217174457<br>max_depth: 4<br>subsample: 0.8422798023540168<br>colsample_bytree: 0.999164816278818<br>min_child_weight: 3<br><b>Objective Value: 298386.9986106561</b>",
          "Trial #59<br>n_estimators: 192<br>learning_rate: 0.053937450520917<br>max_depth: 4<br>subsample: 0.8979220906548656<br>colsample_bytree: 0.8410267371520366<br>min_child_weight: 5<br><b>Objective Value: 300548.9533628769</b>",
          "Trial #60<br>n_estimators: 61<br>learning_rate: 0.03422882039385029<br>max_depth: 3<br>subsample: 0.7498233898971235<br>colsample_bytree: 0.7905642979797429<br>min_child_weight: 10<br><b>Objective Value: 392032.44745411613</b>",
          "Trial #61<br>n_estimators: 378<br>learning_rate: 0.03227644136632952<br>max_depth: 2<br>subsample: 0.6835485449979386<br>colsample_bytree: 0.960264301059156<br>min_child_weight: 2<br><b>Objective Value: 307801.92919397226</b>",
          "Trial #62<br>n_estimators: 468<br>learning_rate: 0.06079211829640183<br>max_depth: 5<br>subsample: 0.8077864346472226<br>colsample_bytree: 0.9595512293405737<br>min_child_weight: 1<br><b>Objective Value: 286079.1897737414</b>",
          "Trial #63<br>n_estimators: 113<br>learning_rate: 0.017709102647134607<br>max_depth: 8<br>subsample: 0.6454419298871065<br>colsample_bytree: 0.9060141818468257<br>min_child_weight: 2<br><b>Objective Value: 332868.01893634617</b>",
          "Trial #64<br>n_estimators: 250<br>learning_rate: 0.011080751597149614<br>max_depth: 3<br>subsample: 0.7594917938046228<br>colsample_bytree: 0.8690791377762517<br>min_child_weight: 2<br><b>Objective Value: 292532.38189446076</b>",
          "Trial #65<br>n_estimators: 525<br>learning_rate: 0.04632095818267243<br>max_depth: 9<br>subsample: 0.707235930235366<br>colsample_bytree: 0.9382372685456845<br>min_child_weight: 1<br><b>Objective Value: 298658.4111805696</b>",
          "Trial #66<br>n_estimators: 597<br>learning_rate: 0.027869175990688944<br>max_depth: 7<br>subsample: 0.951819961433146<br>colsample_bytree: 0.5113939490401362<br>min_child_weight: 6<br><b>Objective Value: 346527.09973739565</b>",
          "Trial #67<br>n_estimators: 180<br>learning_rate: 0.007555540352031651<br>max_depth: 6<br>subsample: 0.8717276947480823<br>colsample_bytree: 0.967009223726897<br>min_child_weight: 3<br><b>Objective Value: 410800.068801521</b>",
          "Trial #68<br>n_estimators: 129<br>learning_rate: 0.015041245544878153<br>max_depth: 8<br>subsample: 0.8352248523149839<br>colsample_bytree: 0.34040288481287<br>min_child_weight: 4<br><b>Objective Value: 647323.2793650747</b>",
          "Trial #69<br>n_estimators: 494<br>learning_rate: 0.021121107366727548<br>max_depth: 3<br>subsample: 0.8037761931046817<br>colsample_bytree: 0.606763574595717<br>min_child_weight: 2<br><b>Objective Value: 281386.739771793</b>",
          "Trial #70<br>n_estimators: 431<br>learning_rate: 0.011656140509026405<br>max_depth: 5<br>subsample: 0.6611926904796707<br>colsample_bytree: 0.8931194910455122<br>min_child_weight: 1<br><b>Objective Value: 277771.76538764697</b>",
          "Trial #71<br>n_estimators: 320<br>learning_rate: 0.013469724396425149<br>max_depth: 5<br>subsample: 0.6499668431976147<br>colsample_bytree: 0.870865434655096<br>min_child_weight: 1<br><b>Objective Value: 282321.38118184323</b>",
          "Trial #72<br>n_estimators: 383<br>learning_rate: 0.011944078393653263<br>max_depth: 4<br>subsample: 0.7130350350258944<br>colsample_bytree: 0.9314484830485289<br>min_child_weight: 3<br><b>Objective Value: 288919.31162420893</b>",
          "Trial #73<br>n_estimators: 445<br>learning_rate: 0.008173281531424407<br>max_depth: 4<br>subsample: 0.608583060692273<br>colsample_bytree: 0.8992682376209838<br>min_child_weight: 2<br><b>Objective Value: 282477.63705467957</b>",
          "Trial #74<br>n_estimators: 545<br>learning_rate: 0.015664659062925718<br>max_depth: 4<br>subsample: 0.6705684320796932<br>colsample_bytree: 0.981748901225078<br>min_child_weight: 1<br><b>Objective Value: 272037.72343176877</b>",
          "Trial #75<br>n_estimators: 531<br>learning_rate: 0.015324494372434255<br>max_depth: 4<br>subsample: 0.054826663132496345<br>colsample_bytree: 0.9765131660692343<br>min_child_weight: 1<br><b>Objective Value: 365250.71848725586</b>",
          "Trial #76<br>n_estimators: 539<br>learning_rate: 0.011372680140325568<br>max_depth: 5<br>subsample: 0.7362922824219973<br>colsample_bytree: 0.9985138365858787<br>min_child_weight: 19<br><b>Objective Value: 348576.1129691935</b>",
          "Trial #77<br>n_estimators: 419<br>learning_rate: 0.08046769181985712<br>max_depth: 4<br>subsample: 0.5154352958951265<br>colsample_bytree: 0.8117480000612605<br>min_child_weight: 1<br><b>Objective Value: 327760.41005420225</b>",
          "Trial #78<br>n_estimators: 504<br>learning_rate: 0.006542860018512191<br>max_depth: 5<br>subsample: 0.572919069401166<br>colsample_bytree: 0.889244194170689<br>min_child_weight: 4<br><b>Objective Value: 307360.4133943743</b>",
          "Trial #79<br>n_estimators: 343<br>learning_rate: 0.017799041769245655<br>max_depth: 3<br>subsample: 0.6708678624357037<br>colsample_bytree: 0.776705645433453<br>min_child_weight: 3<br><b>Objective Value: 297398.4887989046</b>",
          "Trial #80<br>n_estimators: 597<br>learning_rate: 0.009140366210272768<br>max_depth: 5<br>subsample: 0.6332377204988515<br>colsample_bytree: 0.9293669696138013<br>min_child_weight: 7<br><b>Objective Value: 314562.76315447537</b>",
          "Trial #81<br>n_estimators: 652<br>learning_rate: 0.023081997289330084<br>max_depth: 8<br>subsample: 0.6752728257339392<br>colsample_bytree: 0.978922840323674<br>min_child_weight: 2<br><b>Objective Value: 281097.19050791336</b>",
          "Trial #82<br>n_estimators: 556<br>learning_rate: 0.019023827631761487<br>max_depth: 9<br>subsample: 0.7778172593798017<br>colsample_bytree: 0.9536951689679063<br>min_child_weight: 1<br><b>Objective Value: 293804.47476819635</b>",
          "Trial #83<br>n_estimators: 261<br>learning_rate: 0.014782694710634744<br>max_depth: 4<br>subsample: 0.6962125526450589<br>colsample_bytree: 0.8518303402370606<br>min_child_weight: 2<br><b>Objective Value: 275740.20227306656</b>",
          "Trial #84<br>n_estimators: 267<br>learning_rate: 0.01372099808298194<br>max_depth: 4<br>subsample: 0.7320389714765959<br>colsample_bytree: 0.8528850582325891<br>min_child_weight: 2<br><b>Objective Value: 273350.3524637593</b>",
          "Trial #85<br>n_estimators: 276<br>learning_rate: 0.0024257148914254554<br>max_depth: 4<br>subsample: 0.9972935433854189<br>colsample_bytree: 0.7296866768947368<br>min_child_weight: 3<br><b>Objective Value: 687454.2321697995</b>",
          "Trial #86<br>n_estimators: 202<br>learning_rate: 0.09958419934680698<br>max_depth: 3<br>subsample: 0.7332325648282163<br>colsample_bytree: 0.8485962644614095<br>min_child_weight: 5<br><b>Objective Value: 318586.97781114967</b>",
          "Trial #87<br>n_estimators: 232<br>learning_rate: 0.013619582024204166<br>max_depth: 2<br>subsample: 0.9296929540478228<br>colsample_bytree: 0.8273352220227105<br>min_child_weight: 2<br><b>Objective Value: 312668.4110167654</b>",
          "Trial #88<br>n_estimators: 279<br>learning_rate: 0.015883278593836682<br>max_depth: 3<br>subsample: 0.7947515125217174<br>colsample_bytree: 0.8603701667373408<br>min_child_weight: 3<br><b>Objective Value: 296769.94755700603</b>",
          "Trial #89<br>n_estimators: 210<br>learning_rate: 0.009903492102274194<br>max_depth: 4<br>subsample: 0.9642829236192442<br>colsample_bytree: 0.6713260428132333<br>min_child_weight: 4<br><b>Objective Value: 378372.16975080245</b>",
          "Trial #90<br>n_estimators: 174<br>learning_rate: 0.005049522721076768<br>max_depth: 4<br>subsample: 0.7563688667238182<br>colsample_bytree: 0.918120490261767<br>min_child_weight: 16<br><b>Objective Value: 569741.6744239106</b>",
          "Trial #91<br>n_estimators: 317<br>learning_rate: 0.012704040966153605<br>max_depth: 6<br>subsample: 0.6945716988240076<br>colsample_bytree: 0.8889852466535264<br>min_child_weight: 1<br><b>Objective Value: 284555.68107195455</b>",
          "Trial #92<br>n_estimators: 464<br>learning_rate: 0.014064666331277786<br>max_depth: 4<br>subsample: 0.4431965556986735<br>colsample_bytree: 0.9397995367825995<br>min_child_weight: 2<br><b>Objective Value: 289717.3889813304</b>",
          "Trial #93<br>n_estimators: 241<br>learning_rate: 0.010622664630583744<br>max_depth: 5<br>subsample: 0.7193739825729428<br>colsample_bytree: 0.9061210994878803<br>min_child_weight: 1<br><b>Objective Value: 295939.60560885386</b>",
          "Trial #94<br>n_estimators: 266<br>learning_rate: 0.012115254452103034<br>max_depth: 3<br>subsample: 0.8318866284387427<br>colsample_bytree: 0.9769807658251113<br>min_child_weight: 2<br><b>Objective Value: 272508.44364530296</b>",
          "Trial #95<br>n_estimators: 88<br>learning_rate: 0.050280444803760704<br>max_depth: 3<br>subsample: 0.9054105733250496<br>colsample_bytree: 0.9804444539308715<br>min_child_weight: 2<br><b>Objective Value: 273404.9996643722</b>",
          "Trial #96<br>n_estimators: 85<br>learning_rate: 0.052115982854552545<br>max_depth: 2<br>subsample: 0.9059937987214814<br>colsample_bytree: 0.9858799346592287<br>min_child_weight: 3<br><b>Objective Value: 322438.1442171146</b>",
          "Trial #97<br>n_estimators: 109<br>learning_rate: 0.0619445135373586<br>max_depth: 3<br>subsample: 0.8268357742748957<br>colsample_bytree: 0.9772905378964677<br>min_child_weight: 2<br><b>Objective Value: 270292.19721425517</b>",
          "Trial #98<br>n_estimators: 52<br>learning_rate: 0.008824891528542997<br>max_depth: 3<br>subsample: 0.8746194459849459<br>colsample_bytree: 0.9773902107867938<br>min_child_weight: 2<br><b>Objective Value: 758791.7451984605</b>",
          "Trial #99<br>n_estimators: 123<br>learning_rate: 0.06375179548303568<br>max_depth: 3<br>subsample: 0.8213812696792638<br>colsample_bytree: 0.9975863054051007<br>min_child_weight: 3<br><b>Objective Value: 298713.3587878701</b>"
         ],
         "marker": {
          "color": [
           "rgb(165.0, 0.0, 38.0)",
           "rgb(170.0, 5.0, 38.0)",
           "rgb(233.0, 86.0, 56.0)",
           "rgb(249.0, 143.0, 83.0)",
           "rgb(218.0, 55.0, 42.0)",
           "rgb(224.0, 67.0, 48.0)",
           "rgb(221.0, 61.0, 45.0)",
           "rgb(175.0, 10.0, 38.0)",
           "rgb(227.0, 73.0, 51.0)",
           "rgb(185.0, 19.0, 38.0)",
           "rgb(210.0, 44.0, 39.0)",
           "rgb(248.0, 137.0, 80.0)",
           "rgb(251.0, 163.0, 92.0)",
           "rgb(253.0, 196.0, 117.0)",
           "rgb(253.0, 176.0, 98.0)",
           "rgb(252.0, 169.0, 95.0)",
           "rgb(246.0, 123.0, 74.0)",
           "rgb(230.0, 79.0, 53.0)",
           "rgb(205.0, 234.0, 243.0)",
           "rgb(225.0, 243.0, 246.0)",
           "rgb(253.0, 191.0, 113.0)",
           "rgb(254.0, 225.0, 146.0)",
           "rgb(254.0, 201.0, 122.0)",
           "rgb(123.0, 178.0, 212.0)",
           "rgb(254.0, 235.0, 160.0)",
           "rgb(221.0, 241.0, 247.0)",
           "rgb(195.0, 29.0, 39.0)",
           "rgb(254.0, 216.0, 136.0)",
           "rgb(180.0, 15.0, 38.0)",
           "rgb(255.0, 250.0, 184.0)",
           "rgb(255.0, 244.0, 174.0)",
           "rgb(150.0, 201.0, 224.0)",
           "rgb(65.0, 105.0, 174.0)",
           "rgb(232.0, 246.0, 234.0)",
           "rgb(145.0, 196.0, 222.0)",
           "rgb(74.0, 123.0, 183.0)",
           "rgb(178.0, 220.0, 235.0)",
           "rgb(93.0, 146.0, 195.0)",
           "rgb(247.0, 252.0, 205.0)",
           "rgb(239.0, 98.0, 62.0)",
           "rgb(244.0, 110.0, 68.0)",
           "rgb(61.0, 92.0, 168.0)",
           "rgb(84.0, 135.0, 189.0)",
           "rgb(183.0, 223.0, 236.0)",
           "rgb(241.0, 250.0, 217.0)",
           "rgb(69.0, 118.0, 180.0)",
           "rgb(88.0, 140.0, 192.0)",
           "rgb(245.0, 117.0, 71.0)",
           "rgb(244.0, 251.0, 211.0)",
           "rgb(173.0, 218.0, 233.0)",
           "rgb(228.0, 245.0, 240.0)",
           "rgb(63.0, 99.0, 171.0)",
           "rgb(254.0, 211.0, 132.0)",
           "rgb(250.0, 150.0, 86.0)",
           "rgb(238.0, 248.0, 223.0)",
           "rgb(250.0, 253.0, 200.0)",
           "rgb(55.0, 73.0, 158.0)",
           "rgb(255.0, 247.0, 179.0)",
           "rgb(199.0, 231.0, 241.0)",
           "rgb(235.0, 247.0, 228.0)",
           "rgb(242.0, 104.0, 65.0)",
           "rgb(255.0, 253.0, 189.0)",
           "rgb(128.0, 183.0, 214.0)",
           "rgb(254.0, 206.0, 127.0)",
           "rgb(156.0, 205.0, 226.0)",
           "rgb(210.0, 236.0, 244.0)",
           "rgb(253.0, 186.0, 108.0)",
           "rgb(236.0, 92.0, 59.0)",
           "rgb(205.0, 39.0, 39.0)",
           "rgb(103.0, 157.0, 201.0)",
           "rgb(79.0, 129.0, 186.0)",
           "rgb(107.0, 163.0, 204.0)",
           "rgb(134.0, 187.0, 217.0)",
           "rgb(112.0, 168.0, 207.0)",
           "rgb(51.0, 60.0, 152.0)",
           "rgb(251.0, 156.0, 89.0)",
           "rgb(253.0, 181.0, 103.0)",
           "rgb(254.0, 221.0, 141.0)",
           "rgb(253.0, 254.0, 194.0)",
           "rgb(194.0, 228.0, 240.0)",
           "rgb(254.0, 238.0, 165.0)",
           "rgb(98.0, 152.0, 198.0)",
           "rgb(162.0, 209.0, 229.0)",
           "rgb(67.0, 111.0, 177.0)",
           "rgb(57.0, 79.0, 162.0)",
           "rgb(200.0, 34.0, 39.0)",
           "rgb(254.0, 232.0, 155.0)",
           "rgb(255.0, 241.0, 170.0)",
           "rgb(189.0, 226.0, 238.0)",
           "rgb(247.0, 130.0, 77.0)",
           "rgb(215.0, 49.0, 39.0)",
           "rgb(117.0, 174.0, 209.0)",
           "rgb(139.0, 192.0, 219.0)",
           "rgb(167.0, 214.0, 231.0)",
           "rgb(53.0, 67.0, 155.0)",
           "rgb(59.0, 86.0, 165.0)",
           "rgb(254.0, 228.0, 151.0)",
           "rgb(49.0, 54.0, 149.0)",
           "rgb(190.0, 24.0, 39.0)",
           "rgb(215.0, 239.0, 246.0)"
          ],
          "line": {
           "color": "Grey",
           "width": 0.5
          }
         },
         "mode": "markers",
         "showlegend": false,
         "type": "scatter",
         "x": [
          0.6576225020519517,
          0.7350866876470932,
          0.5116555677308053,
          0.9379881397083131,
          0.2994858850906477,
          0.193909818562013,
          0.8456817270040443,
          0.15975372455442,
          0.818526866331361,
          0.25988778558627673,
          0.47715862154578037,
          0.9939678847177081,
          0.9546677134697086,
          0.9241566761968965,
          0.6406745520216072,
          0.6645587568033247,
          0.3686644493882886,
          0.6047784162218129,
          0.8113872026823736,
          0.8279296458764754,
          0.8002858428057222,
          0.8801182554563154,
          0.7470984620868367,
          0.8741874749194374,
          0.748869193533001,
          0.8793477210154363,
          0.5793999761834137,
          0.8832541836361401,
          0.057362758571058936,
          0.6937206964526362,
          0.7859032882121675,
          0.9973535521002292,
          0.9914377891521898,
          0.9992652515084917,
          0.9162391766950476,
          0.9472302080321188,
          0.9239802258123772,
          0.9262731212630596,
          0.9436489399905371,
          0.43936990795454056,
          0.8624781993176509,
          0.9148501256444609,
          0.9562366888236147,
          0.9444444187311857,
          0.9776213238581749,
          0.9220712004014767,
          0.7666264391865456,
          0.7101689183265032,
          0.8422455495823975,
          0.9044189128183897,
          0.9596904594758772,
          0.7693936951145406,
          0.9682209834156779,
          0.9143029580629253,
          0.8489045655995282,
          0.8188605225930284,
          0.9607612996012228,
          0.895626391237767,
          0.999164816278818,
          0.8410267371520366,
          0.7905642979797429,
          0.960264301059156,
          0.9595512293405737,
          0.9060141818468257,
          0.8690791377762517,
          0.9382372685456845,
          0.5113939490401362,
          0.967009223726897,
          0.34040288481287,
          0.606763574595717,
          0.8931194910455122,
          0.870865434655096,
          0.9314484830485289,
          0.8992682376209838,
          0.981748901225078,
          0.9765131660692343,
          0.9985138365858787,
          0.8117480000612605,
          0.889244194170689,
          0.776705645433453,
          0.9293669696138013,
          0.978922840323674,
          0.9536951689679063,
          0.8518303402370606,
          0.8528850582325891,
          0.7296866768947368,
          0.8485962644614095,
          0.8273352220227105,
          0.8603701667373408,
          0.6713260428132333,
          0.918120490261767,
          0.8889852466535264,
          0.9397995367825995,
          0.9061210994878803,
          0.9769807658251113,
          0.9804444539308715,
          0.9858799346592287,
          0.9772905378964677,
          0.9773902107867938,
          0.9975863054051007
         ],
         "y": [
          0.0015747097478395681,
          0.005530058961187191,
          0.003348067119963998,
          0.052771720083684116,
          0.05507908907943347,
          0.05179480274232127,
          0.0017643922352214994,
          0.00320751776396155,
          0.006194307321913093,
          0.00208677528307827,
          0.019798335142557497,
          0.014178186362282089,
          0.018826937152783756,
          0.02997242324710802,
          0.02336985828800374,
          0.03047653024623378,
          0.033666958026211655,
          0.0855139528241876,
          0.009725482940255808,
          0.012775651955040953,
          0.010016135873957837,
          0.009936533162881145,
          0.009393285461515546,
          0.010511175974605826,
          0.006052205015940405,
          0.01316771530574905,
          0.0010647437615680128,
          0.004303596003483651,
          0.00722133514132744,
          0.015018616654259595,
          0.00848870230404822,
          0.012945069893578007,
          0.012412693647244826,
          0.004652670085847571,
          0.016837805929797316,
          0.018172545153524993,
          0.020315446065176403,
          0.02539832131671421,
          0.036431562431461256,
          0.04464536831775226,
          0.024344160262881425,
          0.015684102399832076,
          0.025000716602826913,
          0.024063289410580745,
          0.07039038889925461,
          0.03974830700412043,
          0.04766352769468869,
          0.05754334751825591,
          0.039467070037816764,
          0.016689937186009356,
          0.027838206291082062,
          0.058908532372820725,
          0.06666819726091706,
          0.09211450344302648,
          0.020452192791982148,
          0.04089145644220214,
          0.05786000603512397,
          0.06841325297884324,
          0.08056482217174457,
          0.053937450520917,
          0.03422882039385029,
          0.03227644136632952,
          0.06079211829640183,
          0.017709102647134607,
          0.011080751597149614,
          0.04632095818267243,
          0.027869175990688944,
          0.007555540352031651,
          0.015041245544878153,
          0.021121107366727548,
          0.011656140509026405,
          0.013469724396425149,
          0.011944078393653263,
          0.008173281531424407,
          0.015664659062925718,
          0.015324494372434255,
          0.011372680140325568,
          0.08046769181985712,
          0.006542860018512191,
          0.017799041769245655,
          0.009140366210272768,
          0.023081997289330084,
          0.019023827631761487,
          0.014782694710634744,
          0.01372099808298194,
          0.0024257148914254554,
          0.09958419934680698,
          0.013619582024204166,
          0.015883278593836682,
          0.009903492102274194,
          0.005049522721076768,
          0.012704040966153605,
          0.014064666331277786,
          0.010622664630583744,
          0.012115254452103034,
          0.050280444803760704,
          0.052115982854552545,
          0.0619445135373586,
          0.008824891528542997,
          0.06375179548303568
         ]
        },
        {
         "hoverinfo": "none",
         "marker": {
          "cmax": 1,
          "cmin": 0,
          "colorbar": {
           "thickness": 10,
           "ticktext": [
            "min. (270292)",
            "25% (290196)",
            "50% (307581)",
            "75% (372594)",
            "max. (991176)"
           ],
           "tickvals": [
            0,
            0.25,
            0.5,
            0.75,
            1
           ]
          },
          "colorscale": [
           [
            0,
            "rgb(49,54,149)"
           ],
           [
            0.1,
            "rgb(69,117,180)"
           ],
           [
            0.2,
            "rgb(116,173,209)"
           ],
           [
            0.3,
            "rgb(171,217,233)"
           ],
           [
            0.4,
            "rgb(224,243,248)"
           ],
           [
            0.5,
            "rgb(255,255,191)"
           ],
           [
            0.6,
            "rgb(254,224,144)"
           ],
           [
            0.7,
            "rgb(253,174,97)"
           ],
           [
            0.8,
            "rgb(244,109,67)"
           ],
           [
            0.9,
            "rgb(215,48,39)"
           ],
           [
            1,
            "rgb(165,0,38)"
           ]
          ],
          "showscale": true
         },
         "mode": "markers",
         "showlegend": false,
         "type": "scatter",
         "x": [
          null
         ],
         "y": [
          null
         ]
        }
       ],
       "layout": {
        "template": {
         "data": {
          "bar": [
           {
            "error_x": {
             "color": "#2a3f5f"
            },
            "error_y": {
             "color": "#2a3f5f"
            },
            "marker": {
             "line": {
              "color": "#E5ECF6",
              "width": 0.5
             },
             "pattern": {
              "fillmode": "overlay",
              "size": 10,
              "solidity": 0.2
             }
            },
            "type": "bar"
           }
          ],
          "barpolar": [
           {
            "marker": {
             "line": {
              "color": "#E5ECF6",
              "width": 0.5
             },
             "pattern": {
              "fillmode": "overlay",
              "size": 10,
              "solidity": 0.2
             }
            },
            "type": "barpolar"
           }
          ],
          "carpet": [
           {
            "aaxis": {
             "endlinecolor": "#2a3f5f",
             "gridcolor": "white",
             "linecolor": "white",
             "minorgridcolor": "white",
             "startlinecolor": "#2a3f5f"
            },
            "baxis": {
             "endlinecolor": "#2a3f5f",
             "gridcolor": "white",
             "linecolor": "white",
             "minorgridcolor": "white",
             "startlinecolor": "#2a3f5f"
            },
            "type": "carpet"
           }
          ],
          "choropleth": [
           {
            "colorbar": {
             "outlinewidth": 0,
             "ticks": ""
            },
            "type": "choropleth"
           }
          ],
          "contour": [
           {
            "colorbar": {
             "outlinewidth": 0,
             "ticks": ""
            },
            "colorscale": [
             [
              0,
              "#0d0887"
             ],
             [
              0.1111111111111111,
              "#46039f"
             ],
             [
              0.2222222222222222,
              "#7201a8"
             ],
             [
              0.3333333333333333,
              "#9c179e"
             ],
             [
              0.4444444444444444,
              "#bd3786"
             ],
             [
              0.5555555555555556,
              "#d8576b"
             ],
             [
              0.6666666666666666,
              "#ed7953"
             ],
             [
              0.7777777777777778,
              "#fb9f3a"
             ],
             [
              0.8888888888888888,
              "#fdca26"
             ],
             [
              1,
              "#f0f921"
             ]
            ],
            "type": "contour"
           }
          ],
          "contourcarpet": [
           {
            "colorbar": {
             "outlinewidth": 0,
             "ticks": ""
            },
            "type": "contourcarpet"
           }
          ],
          "heatmap": [
           {
            "colorbar": {
             "outlinewidth": 0,
             "ticks": ""
            },
            "colorscale": [
             [
              0,
              "#0d0887"
             ],
             [
              0.1111111111111111,
              "#46039f"
             ],
             [
              0.2222222222222222,
              "#7201a8"
             ],
             [
              0.3333333333333333,
              "#9c179e"
             ],
             [
              0.4444444444444444,
              "#bd3786"
             ],
             [
              0.5555555555555556,
              "#d8576b"
             ],
             [
              0.6666666666666666,
              "#ed7953"
             ],
             [
              0.7777777777777778,
              "#fb9f3a"
             ],
             [
              0.8888888888888888,
              "#fdca26"
             ],
             [
              1,
              "#f0f921"
             ]
            ],
            "type": "heatmap"
           }
          ],
          "heatmapgl": [
           {
            "colorbar": {
             "outlinewidth": 0,
             "ticks": ""
            },
            "colorscale": [
             [
              0,
              "#0d0887"
             ],
             [
              0.1111111111111111,
              "#46039f"
             ],
             [
              0.2222222222222222,
              "#7201a8"
             ],
             [
              0.3333333333333333,
              "#9c179e"
             ],
             [
              0.4444444444444444,
              "#bd3786"
             ],
             [
              0.5555555555555556,
              "#d8576b"
             ],
             [
              0.6666666666666666,
              "#ed7953"
             ],
             [
              0.7777777777777778,
              "#fb9f3a"
             ],
             [
              0.8888888888888888,
              "#fdca26"
             ],
             [
              1,
              "#f0f921"
             ]
            ],
            "type": "heatmapgl"
           }
          ],
          "histogram": [
           {
            "marker": {
             "pattern": {
              "fillmode": "overlay",
              "size": 10,
              "solidity": 0.2
             }
            },
            "type": "histogram"
           }
          ],
          "histogram2d": [
           {
            "colorbar": {
             "outlinewidth": 0,
             "ticks": ""
            },
            "colorscale": [
             [
              0,
              "#0d0887"
             ],
             [
              0.1111111111111111,
              "#46039f"
             ],
             [
              0.2222222222222222,
              "#7201a8"
             ],
             [
              0.3333333333333333,
              "#9c179e"
             ],
             [
              0.4444444444444444,
              "#bd3786"
             ],
             [
              0.5555555555555556,
              "#d8576b"
             ],
             [
              0.6666666666666666,
              "#ed7953"
             ],
             [
              0.7777777777777778,
              "#fb9f3a"
             ],
             [
              0.8888888888888888,
              "#fdca26"
             ],
             [
              1,
              "#f0f921"
             ]
            ],
            "type": "histogram2d"
           }
          ],
          "histogram2dcontour": [
           {
            "colorbar": {
             "outlinewidth": 0,
             "ticks": ""
            },
            "colorscale": [
             [
              0,
              "#0d0887"
             ],
             [
              0.1111111111111111,
              "#46039f"
             ],
             [
              0.2222222222222222,
              "#7201a8"
             ],
             [
              0.3333333333333333,
              "#9c179e"
             ],
             [
              0.4444444444444444,
              "#bd3786"
             ],
             [
              0.5555555555555556,
              "#d8576b"
             ],
             [
              0.6666666666666666,
              "#ed7953"
             ],
             [
              0.7777777777777778,
              "#fb9f3a"
             ],
             [
              0.8888888888888888,
              "#fdca26"
             ],
             [
              1,
              "#f0f921"
             ]
            ],
            "type": "histogram2dcontour"
           }
          ],
          "mesh3d": [
           {
            "colorbar": {
             "outlinewidth": 0,
             "ticks": ""
            },
            "type": "mesh3d"
           }
          ],
          "parcoords": [
           {
            "line": {
             "colorbar": {
              "outlinewidth": 0,
              "ticks": ""
             }
            },
            "type": "parcoords"
           }
          ],
          "pie": [
           {
            "automargin": true,
            "type": "pie"
           }
          ],
          "scatter": [
           {
            "fillpattern": {
             "fillmode": "overlay",
             "size": 10,
             "solidity": 0.2
            },
            "type": "scatter"
           }
          ],
          "scatter3d": [
           {
            "line": {
             "colorbar": {
              "outlinewidth": 0,
              "ticks": ""
             }
            },
            "marker": {
             "colorbar": {
              "outlinewidth": 0,
              "ticks": ""
             }
            },
            "type": "scatter3d"
           }
          ],
          "scattercarpet": [
           {
            "marker": {
             "colorbar": {
              "outlinewidth": 0,
              "ticks": ""
             }
            },
            "type": "scattercarpet"
           }
          ],
          "scattergeo": [
           {
            "marker": {
             "colorbar": {
              "outlinewidth": 0,
              "ticks": ""
             }
            },
            "type": "scattergeo"
           }
          ],
          "scattergl": [
           {
            "marker": {
             "colorbar": {
              "outlinewidth": 0,
              "ticks": ""
             }
            },
            "type": "scattergl"
           }
          ],
          "scattermapbox": [
           {
            "marker": {
             "colorbar": {
              "outlinewidth": 0,
              "ticks": ""
             }
            },
            "type": "scattermapbox"
           }
          ],
          "scatterpolar": [
           {
            "marker": {
             "colorbar": {
              "outlinewidth": 0,
              "ticks": ""
             }
            },
            "type": "scatterpolar"
           }
          ],
          "scatterpolargl": [
           {
            "marker": {
             "colorbar": {
              "outlinewidth": 0,
              "ticks": ""
             }
            },
            "type": "scatterpolargl"
           }
          ],
          "scatterternary": [
           {
            "marker": {
             "colorbar": {
              "outlinewidth": 0,
              "ticks": ""
             }
            },
            "type": "scatterternary"
           }
          ],
          "surface": [
           {
            "colorbar": {
             "outlinewidth": 0,
             "ticks": ""
            },
            "colorscale": [
             [
              0,
              "#0d0887"
             ],
             [
              0.1111111111111111,
              "#46039f"
             ],
             [
              0.2222222222222222,
              "#7201a8"
             ],
             [
              0.3333333333333333,
              "#9c179e"
             ],
             [
              0.4444444444444444,
              "#bd3786"
             ],
             [
              0.5555555555555556,
              "#d8576b"
             ],
             [
              0.6666666666666666,
              "#ed7953"
             ],
             [
              0.7777777777777778,
              "#fb9f3a"
             ],
             [
              0.8888888888888888,
              "#fdca26"
             ],
             [
              1,
              "#f0f921"
             ]
            ],
            "type": "surface"
           }
          ],
          "table": [
           {
            "cells": {
             "fill": {
              "color": "#EBF0F8"
             },
             "line": {
              "color": "white"
             }
            },
            "header": {
             "fill": {
              "color": "#C8D4E3"
             },
             "line": {
              "color": "white"
             }
            },
            "type": "table"
           }
          ]
         },
         "layout": {
          "annotationdefaults": {
           "arrowcolor": "#2a3f5f",
           "arrowhead": 0,
           "arrowwidth": 1
          },
          "autotypenumbers": "strict",
          "coloraxis": {
           "colorbar": {
            "outlinewidth": 0,
            "ticks": ""
           }
          },
          "colorscale": {
           "diverging": [
            [
             0,
             "#8e0152"
            ],
            [
             0.1,
             "#c51b7d"
            ],
            [
             0.2,
             "#de77ae"
            ],
            [
             0.3,
             "#f1b6da"
            ],
            [
             0.4,
             "#fde0ef"
            ],
            [
             0.5,
             "#f7f7f7"
            ],
            [
             0.6,
             "#e6f5d0"
            ],
            [
             0.7,
             "#b8e186"
            ],
            [
             0.8,
             "#7fbc41"
            ],
            [
             0.9,
             "#4d9221"
            ],
            [
             1,
             "#276419"
            ]
           ],
           "sequential": [
            [
             0,
             "#0d0887"
            ],
            [
             0.1111111111111111,
             "#46039f"
            ],
            [
             0.2222222222222222,
             "#7201a8"
            ],
            [
             0.3333333333333333,
             "#9c179e"
            ],
            [
             0.4444444444444444,
             "#bd3786"
            ],
            [
             0.5555555555555556,
             "#d8576b"
            ],
            [
             0.6666666666666666,
             "#ed7953"
            ],
            [
             0.7777777777777778,
             "#fb9f3a"
            ],
            [
             0.8888888888888888,
             "#fdca26"
            ],
            [
             1,
             "#f0f921"
            ]
           ],
           "sequentialminus": [
            [
             0,
             "#0d0887"
            ],
            [
             0.1111111111111111,
             "#46039f"
            ],
            [
             0.2222222222222222,
             "#7201a8"
            ],
            [
             0.3333333333333333,
             "#9c179e"
            ],
            [
             0.4444444444444444,
             "#bd3786"
            ],
            [
             0.5555555555555556,
             "#d8576b"
            ],
            [
             0.6666666666666666,
             "#ed7953"
            ],
            [
             0.7777777777777778,
             "#fb9f3a"
            ],
            [
             0.8888888888888888,
             "#fdca26"
            ],
            [
             1,
             "#f0f921"
            ]
           ]
          },
          "colorway": [
           "#636efa",
           "#EF553B",
           "#00cc96",
           "#ab63fa",
           "#FFA15A",
           "#19d3f3",
           "#FF6692",
           "#B6E880",
           "#FF97FF",
           "#FECB52"
          ],
          "font": {
           "color": "#2a3f5f"
          },
          "geo": {
           "bgcolor": "white",
           "lakecolor": "white",
           "landcolor": "#E5ECF6",
           "showlakes": true,
           "showland": true,
           "subunitcolor": "white"
          },
          "hoverlabel": {
           "align": "left"
          },
          "hovermode": "closest",
          "mapbox": {
           "style": "light"
          },
          "paper_bgcolor": "white",
          "plot_bgcolor": "#E5ECF6",
          "polar": {
           "angularaxis": {
            "gridcolor": "white",
            "linecolor": "white",
            "ticks": ""
           },
           "bgcolor": "#E5ECF6",
           "radialaxis": {
            "gridcolor": "white",
            "linecolor": "white",
            "ticks": ""
           }
          },
          "scene": {
           "xaxis": {
            "backgroundcolor": "#E5ECF6",
            "gridcolor": "white",
            "gridwidth": 2,
            "linecolor": "white",
            "showbackground": true,
            "ticks": "",
            "zerolinecolor": "white"
           },
           "yaxis": {
            "backgroundcolor": "#E5ECF6",
            "gridcolor": "white",
            "gridwidth": 2,
            "linecolor": "white",
            "showbackground": true,
            "ticks": "",
            "zerolinecolor": "white"
           },
           "zaxis": {
            "backgroundcolor": "#E5ECF6",
            "gridcolor": "white",
            "gridwidth": 2,
            "linecolor": "white",
            "showbackground": true,
            "ticks": "",
            "zerolinecolor": "white"
           }
          },
          "shapedefaults": {
           "line": {
            "color": "#2a3f5f"
           }
          },
          "ternary": {
           "aaxis": {
            "gridcolor": "white",
            "linecolor": "white",
            "ticks": ""
           },
           "baxis": {
            "gridcolor": "white",
            "linecolor": "white",
            "ticks": ""
           },
           "bgcolor": "#E5ECF6",
           "caxis": {
            "gridcolor": "white",
            "linecolor": "white",
            "ticks": ""
           }
          },
          "title": {
           "x": 0.05
          },
          "xaxis": {
           "automargin": true,
           "gridcolor": "white",
           "linecolor": "white",
           "ticks": "",
           "title": {
            "standoff": 15
           },
           "zerolinecolor": "white",
           "zerolinewidth": 2
          },
          "yaxis": {
           "automargin": true,
           "gridcolor": "white",
           "linecolor": "white",
           "ticks": "",
           "title": {
            "standoff": 15
           },
           "zerolinecolor": "white",
           "zerolinewidth": 2
          }
         }
        },
        "title": {
         "text": "Rank (Objective Value)"
        },
        "xaxis": {
         "range": [
          0.010267633924187301,
          1.0463603761553633
         ],
         "title": {
          "text": "colsample_bytree"
         }
        },
        "yaxis": {
         "range": [
          -3.071302162409402,
          -0.9032622974033733
         ],
         "title": {
          "text": "learning_rate"
         },
         "type": "log"
        }
       }
      }
     },
     "metadata": {},
     "output_type": "display_data"
    }
   ],
   "source": [
    "optuna.visualization.plot_rank(study, params=['colsample_bytree', 'learning_rate'])"
   ]
  },
  {
   "cell_type": "code",
   "execution_count": 28,
   "metadata": {},
   "outputs": [],
   "source": [
    "pred_test = xgb_model_rs.predict(X_test)"
   ]
  },
  {
   "cell_type": "code",
   "execution_count": 29,
   "metadata": {},
   "outputs": [
    {
     "data": {
      "image/png": "[encoded data removed]",
      "text/plain": [
       "<Figure size 640x480 with 1 Axes>"
      ]
     },
     "metadata": {},
     "output_type": "display_data"
    }
   ],
   "source": [
    "plot_revenue(test_df, pred_test)"
   ]
  },
  {
   "cell_type": "markdown",
   "metadata": {},
   "source": [
    "**Forecasting with CatBoost**"
   ]
  },
  {
   "cell_type": "code",
   "execution_count": null,
   "metadata": {},
   "outputs": [],
   "source": [
    "import catboost"
   ]
  },
  {
   "cell_type": "markdown",
   "metadata": {},
   "source": [
    "**Save and load**"
   ]
  },
  {
   "cell_type": "code",
   "execution_count": 30,
   "metadata": {},
   "outputs": [],
   "source": [
    "import pickle\n",
    "file_name = \"xgb_reg_randomSearch.pkl\"\n",
    "# xgb_model_rs = xgb.XGBRegressor()\n",
    "# save\n",
    "pickle.dump(xgb_model_rs, open(file_name, \"wb\"))"
   ]
  },
  {
   "cell_type": "code",
   "execution_count": null,
   "metadata": {},
   "outputs": [],
   "source": [
    "file_name = \"xgb_reg_randomSearch.pkl\"\n",
    "xgb_model_rs = pickle.load(open(file_name, \"rb\"))"
   ]
  }
 ],
 "metadata": {
  "interpreter": {
   "hash": "90aa3fa5cc50aea3691101b03202bc403ba41abb582bc86ee789d2830253a490"
  },
  "kernelspec": {
   "display_name": "Python 3.12.4 ('wal')",
   "language": "python",
   "name": "python3"
  },
  "language_info": {
   "codemirror_mode": {
    "name": "ipython",
    "version": 3
   },
   "file_extension": ".py",
   "mimetype": "text/x-python",
   "name": "python",
   "nbconvert_exporter": "python",
   "pygments_lexer": "ipython3",
   "version": "3.12.4"
  },
  "orig_nbformat": 4
 },
 "nbformat": 4,
 "nbformat_minor": 2
}
